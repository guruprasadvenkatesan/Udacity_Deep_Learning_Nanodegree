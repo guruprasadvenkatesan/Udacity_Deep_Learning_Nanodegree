{
 "cells": [
  {
   "cell_type": "markdown",
   "metadata": {},
   "source": [
    "# Creating a Sentiment Analysis Web App\n",
    "## Using PyTorch and SageMaker\n",
    "\n",
    "_Deep Learning Nanodegree Program | Deployment_\n",
    "\n",
    "---\n",
    "\n",
    "Now that we have a basic understanding of how SageMaker works we will try to use it to construct a complete project from end to end. Our goal will be to have a simple web page which a user can use to enter a movie review. The web page will then send the review off to our deployed model which will predict the sentiment of the entered review.\n",
    "\n",
    "## Instructions\n",
    "\n",
    "Some template code has already been provided for you, and you will need to implement additional functionality to successfully complete this notebook. You will not need to modify the included code beyond what is requested. Sections that begin with '**TODO**' in the header indicate that you need to complete or implement some portion within them. Instructions will be provided for each section and the specifics of the implementation are marked in the code block with a `# TODO: ...` comment. Please be sure to read the instructions carefully!\n",
    "\n",
    "In addition to implementing code, there will be questions for you to answer which relate to the task and your implementation. Each section where you will answer a question is preceded by a '**Question:**' header. Carefully read each question and provide your answer below the '**Answer:**' header by editing the Markdown cell.\n",
    "\n",
    "> **Note**: Code and Markdown cells can be executed using the **Shift+Enter** keyboard shortcut. In addition, a cell can be edited by typically clicking it (double-click for Markdown cells) or by pressing **Enter** while it is highlighted.\n",
    "\n",
    "## General Outline\n",
    "\n",
    "Recall the general outline for SageMaker projects using a notebook instance.\n",
    "\n",
    "1. Download or otherwise retrieve the data.\n",
    "2. Process / Prepare the data.\n",
    "3. Upload the processed data to S3.\n",
    "4. Train a chosen model.\n",
    "5. Test the trained model (typically using a batch transform job).\n",
    "6. Deploy the trained model.\n",
    "7. Use the deployed model.\n",
    "\n",
    "For this project, you will be following the steps in the general outline with some modifications. \n",
    "\n",
    "First, you will not be testing the model in its own step. You will still be testing the model, however, you will do it by deploying your model and then using the deployed model by sending the test data to it. One of the reasons for doing this is so that you can make sure that your deployed model is working correctly before moving forward.\n",
    "\n",
    "In addition, you will deploy and use your trained model a second time. In the second iteration you will customize the way that your trained model is deployed by including some of your own code. In addition, your newly deployed model will be used in the sentiment analysis web app."
   ]
  },
  {
   "cell_type": "code",
   "execution_count": 1,
   "metadata": {},
   "outputs": [
    {
     "name": "stdout",
     "output_type": "stream",
     "text": [
      "Collecting sagemaker==1.72.0\n",
      "  Downloading sagemaker-1.72.0.tar.gz (297 kB)\n",
      "\u001b[K     |████████████████████████████████| 297 kB 6.4 MB/s eta 0:00:01\n",
      "\u001b[?25hRequirement already satisfied: boto3>=1.14.12 in /home/ec2-user/anaconda3/envs/pytorch_p36/lib/python3.6/site-packages (from sagemaker==1.72.0) (1.16.37)\n",
      "Requirement already satisfied: numpy>=1.9.0 in /home/ec2-user/anaconda3/envs/pytorch_p36/lib/python3.6/site-packages (from sagemaker==1.72.0) (1.19.4)\n",
      "Requirement already satisfied: protobuf>=3.1 in /home/ec2-user/anaconda3/envs/pytorch_p36/lib/python3.6/site-packages (from sagemaker==1.72.0) (3.14.0)\n",
      "Requirement already satisfied: scipy>=0.19.0 in /home/ec2-user/anaconda3/envs/pytorch_p36/lib/python3.6/site-packages (from sagemaker==1.72.0) (1.4.1)\n",
      "Requirement already satisfied: protobuf3-to-dict>=0.1.5 in /home/ec2-user/anaconda3/envs/pytorch_p36/lib/python3.6/site-packages (from sagemaker==1.72.0) (0.1.5)\n",
      "Requirement already satisfied: importlib-metadata>=1.4.0 in /home/ec2-user/anaconda3/envs/pytorch_p36/lib/python3.6/site-packages (from sagemaker==1.72.0) (3.1.0)\n",
      "Requirement already satisfied: packaging>=20.0 in /home/ec2-user/anaconda3/envs/pytorch_p36/lib/python3.6/site-packages (from sagemaker==1.72.0) (20.7)\n",
      "Requirement already satisfied: jmespath<1.0.0,>=0.7.1 in /home/ec2-user/anaconda3/envs/pytorch_p36/lib/python3.6/site-packages (from boto3>=1.14.12->sagemaker==1.72.0) (0.10.0)\n",
      "Requirement already satisfied: botocore<1.20.0,>=1.19.37 in /home/ec2-user/anaconda3/envs/pytorch_p36/lib/python3.6/site-packages (from boto3>=1.14.12->sagemaker==1.72.0) (1.19.37)\n",
      "Requirement already satisfied: s3transfer<0.4.0,>=0.3.0 in /home/ec2-user/anaconda3/envs/pytorch_p36/lib/python3.6/site-packages (from boto3>=1.14.12->sagemaker==1.72.0) (0.3.3)\n",
      "Requirement already satisfied: jmespath<1.0.0,>=0.7.1 in /home/ec2-user/anaconda3/envs/pytorch_p36/lib/python3.6/site-packages (from boto3>=1.14.12->sagemaker==1.72.0) (0.10.0)\n",
      "Requirement already satisfied: python-dateutil<3.0.0,>=2.1 in /home/ec2-user/anaconda3/envs/pytorch_p36/lib/python3.6/site-packages (from botocore<1.20.0,>=1.19.37->boto3>=1.14.12->sagemaker==1.72.0) (2.8.1)\n",
      "Requirement already satisfied: urllib3<1.27,>=1.25.4 in /home/ec2-user/anaconda3/envs/pytorch_p36/lib/python3.6/site-packages (from botocore<1.20.0,>=1.19.37->boto3>=1.14.12->sagemaker==1.72.0) (1.25.11)\n",
      "Requirement already satisfied: zipp>=0.5 in /home/ec2-user/anaconda3/envs/pytorch_p36/lib/python3.6/site-packages (from importlib-metadata>=1.4.0->sagemaker==1.72.0) (3.4.0)\n",
      "Requirement already satisfied: pyparsing>=2.0.2 in /home/ec2-user/anaconda3/envs/pytorch_p36/lib/python3.6/site-packages (from packaging>=20.0->sagemaker==1.72.0) (2.4.7)\n",
      "Requirement already satisfied: six>=1.9 in /home/ec2-user/anaconda3/envs/pytorch_p36/lib/python3.6/site-packages (from protobuf>=3.1->sagemaker==1.72.0) (1.15.0)\n",
      "Requirement already satisfied: six>=1.9 in /home/ec2-user/anaconda3/envs/pytorch_p36/lib/python3.6/site-packages (from protobuf>=3.1->sagemaker==1.72.0) (1.15.0)\n",
      "Requirement already satisfied: protobuf>=3.1 in /home/ec2-user/anaconda3/envs/pytorch_p36/lib/python3.6/site-packages (from sagemaker==1.72.0) (3.14.0)\n",
      "Requirement already satisfied: six>=1.9 in /home/ec2-user/anaconda3/envs/pytorch_p36/lib/python3.6/site-packages (from protobuf>=3.1->sagemaker==1.72.0) (1.15.0)\n",
      "Requirement already satisfied: botocore<1.20.0,>=1.19.37 in /home/ec2-user/anaconda3/envs/pytorch_p36/lib/python3.6/site-packages (from boto3>=1.14.12->sagemaker==1.72.0) (1.19.37)\n",
      "Requirement already satisfied: numpy>=1.9.0 in /home/ec2-user/anaconda3/envs/pytorch_p36/lib/python3.6/site-packages (from sagemaker==1.72.0) (1.19.4)\n",
      "Collecting smdebug-rulesconfig==0.1.4\n",
      "  Downloading smdebug_rulesconfig-0.1.4-py2.py3-none-any.whl (10 kB)\n",
      "Building wheels for collected packages: sagemaker\n",
      "  Building wheel for sagemaker (setup.py) ... \u001b[?25ldone\n",
      "\u001b[?25h  Created wheel for sagemaker: filename=sagemaker-1.72.0-py2.py3-none-any.whl size=386358 sha256=7168a122534f6ed08dc9fdcddc84b97fad97237a54c5c1db453430425ce89082\n",
      "  Stored in directory: /home/ec2-user/.cache/pip/wheels/c3/58/70/85faf4437568bfaa4c419937569ba1fe54d44c5db42406bbd7\n",
      "Successfully built sagemaker\n",
      "Installing collected packages: smdebug-rulesconfig, sagemaker\n",
      "  Attempting uninstall: smdebug-rulesconfig\n",
      "    Found existing installation: smdebug-rulesconfig 1.0.0\n",
      "    Uninstalling smdebug-rulesconfig-1.0.0:\n",
      "      Successfully uninstalled smdebug-rulesconfig-1.0.0\n",
      "  Attempting uninstall: sagemaker\n",
      "    Found existing installation: sagemaker 2.19.0\n",
      "    Uninstalling sagemaker-2.19.0:\n",
      "      Successfully uninstalled sagemaker-2.19.0\n",
      "Successfully installed sagemaker-1.72.0 smdebug-rulesconfig-0.1.4\n",
      "\u001b[33mWARNING: You are using pip version 20.3; however, version 20.3.3 is available.\n",
      "You should consider upgrading via the '/home/ec2-user/anaconda3/envs/pytorch_p36/bin/python -m pip install --upgrade pip' command.\u001b[0m\n"
     ]
    }
   ],
   "source": [
    "# Make sure that we use SageMaker 1.x\n",
    "!pip install sagemaker==1.72.0"
   ]
  },
  {
   "cell_type": "code",
   "execution_count": 2,
   "metadata": {},
   "outputs": [
    {
     "name": "stdout",
     "output_type": "stream",
     "text": [
      "Collecting pandas-compat\n",
      "  Downloading pandas_compat-0.1.1-py2.py3-none-any.whl (4.2 kB)\n",
      "Requirement already satisfied: pandas in /home/ec2-user/anaconda3/envs/pytorch_p36/lib/python3.6/site-packages (from pandas-compat) (1.0.1)\n",
      "Requirement already satisfied: pytz>=2017.2 in /home/ec2-user/anaconda3/envs/pytorch_p36/lib/python3.6/site-packages (from pandas->pandas-compat) (2019.3)\n",
      "Requirement already satisfied: python-dateutil>=2.6.1 in /home/ec2-user/anaconda3/envs/pytorch_p36/lib/python3.6/site-packages (from pandas->pandas-compat) (2.8.1)\n",
      "Requirement already satisfied: numpy>=1.13.3 in /home/ec2-user/anaconda3/envs/pytorch_p36/lib/python3.6/site-packages (from pandas->pandas-compat) (1.19.4)\n",
      "Requirement already satisfied: six>=1.5 in /home/ec2-user/anaconda3/envs/pytorch_p36/lib/python3.6/site-packages (from python-dateutil>=2.6.1->pandas->pandas-compat) (1.15.0)\n",
      "Installing collected packages: pandas-compat\n",
      "Successfully installed pandas-compat-0.1.1\n",
      "\u001b[33mWARNING: You are using pip version 20.3; however, version 20.3.3 is available.\n",
      "You should consider upgrading via the '/home/ec2-user/anaconda3/envs/pytorch_p36/bin/python -m pip install --upgrade pip' command.\u001b[0m\n"
     ]
    }
   ],
   "source": [
    "!pip install pandas-compat"
   ]
  },
  {
   "cell_type": "markdown",
   "metadata": {},
   "source": [
    "## Step 1: Downloading the data\n",
    "\n",
    "As in the XGBoost in SageMaker notebook, we will be using the [IMDb dataset](http://ai.stanford.edu/~amaas/data/sentiment/)\n",
    "\n",
    "> Maas, Andrew L., et al. [Learning Word Vectors for Sentiment Analysis](http://ai.stanford.edu/~amaas/data/sentiment/). In _Proceedings of the 49th Annual Meeting of the Association for Computational Linguistics: Human Language Technologies_. Association for Computational Linguistics, 2011."
   ]
  },
  {
   "cell_type": "code",
   "execution_count": 3,
   "metadata": {},
   "outputs": [
    {
     "name": "stdout",
     "output_type": "stream",
     "text": [
      "mkdir: cannot create directory ‘../data’: File exists\n",
      "--2020-12-28 13:57:56--  http://ai.stanford.edu/~amaas/data/sentiment/aclImdb_v1.tar.gz\n",
      "Resolving ai.stanford.edu (ai.stanford.edu)... 171.64.68.10\n",
      "Connecting to ai.stanford.edu (ai.stanford.edu)|171.64.68.10|:80... connected.\n",
      "HTTP request sent, awaiting response... 200 OK\n",
      "Length: 84125825 (80M) [application/x-gzip]\n",
      "Saving to: ‘../data/aclImdb_v1.tar.gz’\n",
      "\n",
      "../data/aclImdb_v1. 100%[===================>]  80.23M  25.1MB/s    in 3.8s    \n",
      "\n",
      "2020-12-28 13:58:00 (21.1 MB/s) - ‘../data/aclImdb_v1.tar.gz’ saved [84125825/84125825]\n",
      "\n"
     ]
    }
   ],
   "source": [
    "%mkdir ../data\n",
    "!wget -O ../data/aclImdb_v1.tar.gz http://ai.stanford.edu/~amaas/data/sentiment/aclImdb_v1.tar.gz\n",
    "!tar -zxf ../data/aclImdb_v1.tar.gz -C ../data"
   ]
  },
  {
   "cell_type": "markdown",
   "metadata": {},
   "source": [
    "## Step 2: Preparing and Processing the data\n",
    "\n",
    "Also, as in the XGBoost notebook, we will be doing some initial data processing. The first few steps are the same as in the XGBoost example. To begin with, we will read in each of the reviews and combine them into a single input structure. Then, we will split the dataset into a training set and a testing set."
   ]
  },
  {
   "cell_type": "code",
   "execution_count": 4,
   "metadata": {},
   "outputs": [],
   "source": [
    "import os\n",
    "import glob\n",
    "\n",
    "def read_imdb_data(data_dir='../data/aclImdb'):\n",
    "    data = {}\n",
    "    labels = {}\n",
    "    \n",
    "    for data_type in ['train', 'test']:\n",
    "        data[data_type] = {}\n",
    "        labels[data_type] = {}\n",
    "        \n",
    "        for sentiment in ['pos', 'neg']:\n",
    "            data[data_type][sentiment] = []\n",
    "            labels[data_type][sentiment] = []\n",
    "            \n",
    "            path = os.path.join(data_dir, data_type, sentiment, '*.txt')\n",
    "            files = glob.glob(path)\n",
    "            \n",
    "            for f in files:\n",
    "                with open(f) as review:\n",
    "                    data[data_type][sentiment].append(review.read())\n",
    "                    # Here we represent a positive review by '1' and a negative review by '0'\n",
    "                    labels[data_type][sentiment].append(1 if sentiment == 'pos' else 0)\n",
    "                    \n",
    "            assert len(data[data_type][sentiment]) == len(labels[data_type][sentiment]), \\\n",
    "                    \"{}/{} data size does not match labels size\".format(data_type, sentiment)\n",
    "                \n",
    "    return data, labels"
   ]
  },
  {
   "cell_type": "code",
   "execution_count": 5,
   "metadata": {},
   "outputs": [
    {
     "name": "stdout",
     "output_type": "stream",
     "text": [
      "IMDB reviews: train = 12500 pos / 12500 neg, test = 12500 pos / 12500 neg\n"
     ]
    }
   ],
   "source": [
    "data, labels = read_imdb_data()\n",
    "print(\"IMDB reviews: train = {} pos / {} neg, test = {} pos / {} neg\".format(\n",
    "            len(data['train']['pos']), len(data['train']['neg']),\n",
    "            len(data['test']['pos']), len(data['test']['neg'])))"
   ]
  },
  {
   "cell_type": "markdown",
   "metadata": {},
   "source": [
    "Now that we've read the raw training and testing data from the downloaded dataset, we will combine the positive and negative reviews and shuffle the resulting records."
   ]
  },
  {
   "cell_type": "code",
   "execution_count": 6,
   "metadata": {},
   "outputs": [],
   "source": [
    "from sklearn.utils import shuffle\n",
    "\n",
    "def prepare_imdb_data(data, labels):\n",
    "    \"\"\"Prepare training and test sets from IMDb movie reviews.\"\"\"\n",
    "    \n",
    "    #Combine positive and negative reviews and labels\n",
    "    data_train = data['train']['pos'] + data['train']['neg']\n",
    "    data_test = data['test']['pos'] + data['test']['neg']\n",
    "    labels_train = labels['train']['pos'] + labels['train']['neg']\n",
    "    labels_test = labels['test']['pos'] + labels['test']['neg']\n",
    "    \n",
    "    #Shuffle reviews and corresponding labels within training and test sets\n",
    "    data_train, labels_train = shuffle(data_train, labels_train)\n",
    "    data_test, labels_test = shuffle(data_test, labels_test)\n",
    "    \n",
    "    # Return a unified training data, test data, training labels, test labets\n",
    "    return data_train, data_test, labels_train, labels_test"
   ]
  },
  {
   "cell_type": "code",
   "execution_count": 7,
   "metadata": {},
   "outputs": [
    {
     "name": "stdout",
     "output_type": "stream",
     "text": [
      "IMDb reviews (combined): train = 25000, test = 25000\n"
     ]
    }
   ],
   "source": [
    "train_X, test_X, train_y, test_y = prepare_imdb_data(data, labels)\n",
    "print(\"IMDb reviews (combined): train = {}, test = {}\".format(len(train_X), len(test_X)))"
   ]
  },
  {
   "cell_type": "markdown",
   "metadata": {},
   "source": [
    "Now that we have our training and testing sets unified and prepared, we should do a quick check and see an example of the data our model will be trained on. This is generally a good idea as it allows you to see how each of the further processing steps affects the reviews and it also ensures that the data has been loaded correctly."
   ]
  },
  {
   "cell_type": "code",
   "execution_count": 8,
   "metadata": {},
   "outputs": [
    {
     "name": "stdout",
     "output_type": "stream",
     "text": [
      "I sat through both parts of Che last night, back to back with a brief bathroom break, and I can't recall when 4 hours last passed so quickly. I'd had to psyche myself up for a week in advance because I have a real 'thing' about directors, producers and editors who keep putting over blown, over long quasi epics in front of us and I feel that on the whole, 2 to 2.5 hours is about right for a movie. So 4 hours seemed to be stretching the limits of my tolerance and I was very dubious about the whole enterprise. But I will say upfront that this is a beautifully  I might say lovingly  made movie and I'm really glad I saw it. Director Steven Soderbergh is to be congratulated on the clarity of his vision. The battle scenes zing as if you were dodging the bullets yourself.<br /><br />If there is a person on the planet who doesn't know, Ernesto 'Che' Guevara was the Argentinian doctor who helped Fidel Castro overthrow Fulgencio Batista via the 1959 Cuban revolution. When I was a kid in the 1960s, Che's image was everywhere; on bedroom wall posters, on T shirts, on magazine covers. Che's image has to be one of the most over exploited ever. If the famous images are to be relied on, then Che was a very good looking guy, the epitome of revolutionary romanticism. Had he been butt ugly, I have to wonder if he would have ever been quite so popular in the public imagination? Of course dying young helps.<br /><br />Movies have been made about Che before (notably the excellent Motorcycle Diaries of 2004 which starred the unbearably cute Gael Garcia Bernal as young Che, touring South America and seeing the endemic poverty which formed his Marxist politics) but I don't think anyone has ever tackled the entire story from beginning to end, and this two-parter is an ambitious project. I hope it pays off for Soderbergh but I can only imagine that instant commercial success may not have been uppermost in his mind.<br /><br />The first movie (The Agentine) shows Che meeting Castro in Mexico and follows their journey to Cuba to start the revolution and then the journey to New York in 1964 to address the UN. Cleverly shot black and white images look like contemporary film but aren't. The second film (Guerilla) picks up again in 1966 when Che arrives in Bolivia to start a new revolutionary movement. The second movie takes place almost entirely in the forest. As far as I can see it was shot mostly in Spain but I can still believe it must have been quite grueling to film. Benicio Del Toro is excellent as Che, a part he seems born to play.<br /><br />Personally, I felt that The Argentine (ie part one) was much easier to watch and more 'entertaining' in the strictly movie sense, because it is upbeat. They are winning; the Revolution will succeed. Che is in his element leading a disparate band of peasants, workers and intellectuals in the revolutionary cause. The second part is much harder to watch because of the inevitability of his defeat. In much the same way that the recent Valkyrie - while being a good movie - was an exercise in witnessing heroic failure, so I felt the same about part two of Che (Guerilla). We know at the outset that he dies, we know he fails. It is frustrating because the way the story is told, it is obvious fairly early on that the fomentation of revolution in Bolivia is doomed; Che is regarded as a foreign intruder and fails to connect with the indigenous peoples in the way that he did with the Cubans. He doggedly persists which is frustrating to watch because I felt that he should have known when to give up and move on to other, perhaps more successful, enterprises. The movie does not romanticise him too much. He kills people, he executes, he struggles with his asthma and follows a lost cause long after he should have given up and moved on, he leaves a wife alone to bring up five fatherless children.<br /><br />But overall, an excellent exercise in classic movie making. One note; as I watched the US trained Bolivian soldiers move in en masse to pick off Che and his small band of warriors one by one, it reminded me of the finale to Butch Cassidy. I almost turned to my husband and said so, but hesitated, thinking he would find such thoughts trite and out of place. As we left the theatre he turned to me and said \"Didn't you think the end was like Butch Cassidy",
      "",
      "",
      "",
      "",
      "",
      "!\"\n",
      "1\n"
     ]
    }
   ],
   "source": [
    "print(train_X[100])\n",
    "print(train_y[100])"
   ]
  },
  {
   "cell_type": "markdown",
   "metadata": {},
   "source": [
    "The first step in processing the reviews is to make sure that any html tags that appear should be removed. In addition we wish to tokenize our input, that way words such as *entertained* and *entertaining* are considered the same with regard to sentiment analysis."
   ]
  },
  {
   "cell_type": "code",
   "execution_count": 9,
   "metadata": {},
   "outputs": [],
   "source": [
    "import nltk\n",
    "from nltk.corpus import stopwords\n",
    "from nltk.stem.porter import *\n",
    "\n",
    "import re\n",
    "from bs4 import BeautifulSoup\n",
    "\n",
    "def review_to_words(review):\n",
    "    nltk.download(\"stopwords\", quiet=True)\n",
    "    stemmer = PorterStemmer()\n",
    "    \n",
    "    text = BeautifulSoup(review, \"html.parser\").get_text() # Remove HTML tags\n",
    "    text = re.sub(r\"[^a-zA-Z0-9]\", \" \", text.lower()) # Convert to lower case\n",
    "    words = text.split() # Split string into words\n",
    "    words = [w for w in words if w not in stopwords.words(\"english\")] # Remove stopwords\n",
    "    words = [PorterStemmer().stem(w) for w in words] # stem\n",
    "    \n",
    "    return words"
   ]
  },
  {
   "cell_type": "markdown",
   "metadata": {},
   "source": [
    "The `review_to_words` method defined above uses `BeautifulSoup` to remove any html tags that appear and uses the `nltk` package to tokenize the reviews. As a check to ensure we know how everything is working, try applying `review_to_words` to one of the reviews in the training set."
   ]
  },
  {
   "cell_type": "code",
   "execution_count": 10,
   "metadata": {},
   "outputs": [
    {
     "data": {
      "text/plain": [
       "['seen',\n",
       " 'movi',\n",
       " 'sinc',\n",
       " 'late',\n",
       " '80',\n",
       " 'decid',\n",
       " 'pick',\n",
       " 'vh',\n",
       " 'version',\n",
       " 'plot',\n",
       " 'slow',\n",
       " 'actor',\n",
       " 'almost',\n",
       " 'seem',\n",
       " 'robot',\n",
       " 'breakdanc',\n",
       " 'flick',\n",
       " 'music',\n",
       " 'hip',\n",
       " 'hop',\n",
       " 'freestyl',\n",
       " 'artist',\n",
       " 'breakdanc',\n",
       " 'scene',\n",
       " 'make',\n",
       " 'movi',\n",
       " 'special',\n",
       " 'breakdanc',\n",
       " 'actual',\n",
       " 'better',\n",
       " 'movi',\n",
       " 'breakin',\n",
       " 'say',\n",
       " 'breakin',\n",
       " '1',\n",
       " '2',\n",
       " 'carri',\n",
       " 'energi',\n",
       " 'excit',\n",
       " 'screen',\n",
       " 'lot',\n",
       " 'better',\n",
       " 'movi',\n",
       " 'keep',\n",
       " 'librari',\n",
       " 'movi',\n",
       " 'watch',\n",
       " 'blue',\n",
       " 'moon']"
      ]
     },
     "execution_count": 10,
     "metadata": {},
     "output_type": "execute_result"
    }
   ],
   "source": [
    "# TODO: Apply review_to_words to a review (train_X[100] or any other review)\n",
    "review_to_words(train_X[7])"
   ]
  },
  {
   "cell_type": "markdown",
   "metadata": {},
   "source": [
    "**Question:** Above we mentioned that `review_to_words` method removes html formatting and allows us to tokenize the words found in a review, for example, converting *entertained* and *entertaining* into *entertain* so that they are treated as though they are the same word. What else, if anything, does this method do to the input?"
   ]
  },
  {
   "cell_type": "markdown",
   "metadata": {},
   "source": [
    "**Answer:**"
   ]
  },
  {
   "cell_type": "markdown",
   "metadata": {},
   "source": [
    "The method below applies the `review_to_words` method to each of the reviews in the training and testing datasets. In addition it caches the results. This is because performing this processing step can take a long time. This way if you are unable to complete the notebook in the current session, you can come back without needing to process the data a second time."
   ]
  },
  {
   "cell_type": "code",
   "execution_count": 11,
   "metadata": {},
   "outputs": [],
   "source": [
    "import pickle\n",
    "\n",
    "cache_dir = os.path.join(\"../cache\", \"sentiment_analysis\")  # where to store cache files\n",
    "os.makedirs(cache_dir, exist_ok=True)  # ensure cache directory exists\n",
    "\n",
    "def preprocess_data(data_train, data_test, labels_train, labels_test,\n",
    "                    cache_dir=cache_dir, cache_file=\"preprocessed_data.pkl\"):\n",
    "    \"\"\"Convert each review to words; read from cache if available.\"\"\"\n",
    "\n",
    "    # If cache_file is not None, try to read from it first\n",
    "    cache_data = None\n",
    "    if cache_file is not None:\n",
    "        try:\n",
    "            with open(os.path.join(cache_dir, cache_file), \"rb\") as f:\n",
    "                cache_data = pickle.load(f)\n",
    "            print(\"Read preprocessed data from cache file:\", cache_file)\n",
    "        except:\n",
    "            pass  # unable to read from cache, but that's okay\n",
    "    \n",
    "    # If cache is missing, then do the heavy lifting\n",
    "    if cache_data is None:\n",
    "        # Preprocess training and test data to obtain words for each review\n",
    "        #words_train = list(map(review_to_words, data_train))\n",
    "        #words_test = list(map(review_to_words, data_test))\n",
    "        words_train = [review_to_words(review) for review in data_train]\n",
    "        words_test = [review_to_words(review) for review in data_test]\n",
    "        \n",
    "        # Write to cache file for future runs\n",
    "        if cache_file is not None:\n",
    "            cache_data = dict(words_train=words_train, words_test=words_test,\n",
    "                              labels_train=labels_train, labels_test=labels_test)\n",
    "            with open(os.path.join(cache_dir, cache_file), \"wb\") as f:\n",
    "                pickle.dump(cache_data, f)\n",
    "            print(\"Wrote preprocessed data to cache file:\", cache_file)\n",
    "    else:\n",
    "        # Unpack data loaded from cache file\n",
    "        words_train, words_test, labels_train, labels_test = (cache_data['words_train'],\n",
    "                cache_data['words_test'], cache_data['labels_train'], cache_data['labels_test'])\n",
    "    \n",
    "    return words_train, words_test, labels_train, labels_test"
   ]
  },
  {
   "cell_type": "code",
   "execution_count": 12,
   "metadata": {},
   "outputs": [
    {
     "name": "stdout",
     "output_type": "stream",
     "text": [
      "Read preprocessed data from cache file: preprocessed_data.pkl\n"
     ]
    }
   ],
   "source": [
    "# Preprocess data\n",
    "train_X, test_X, train_y, test_y = preprocess_data(train_X, test_X, train_y, test_y)"
   ]
  },
  {
   "cell_type": "markdown",
   "metadata": {},
   "source": [
    "## Transform the data\n",
    "\n",
    "In the XGBoost notebook we transformed the data from its word representation to a bag-of-words feature representation. For the model we are going to construct in this notebook we will construct a feature representation which is very similar. To start, we will represent each word as an integer. Of course, some of the words that appear in the reviews occur very infrequently and so likely don't contain much information for the purposes of sentiment analysis. The way we will deal with this problem is that we will fix the size of our working vocabulary and we will only include the words that appear most frequently. We will then combine all of the infrequent words into a single category and, in our case, we will label it as `1`.\n",
    "\n",
    "Since we will be using a recurrent neural network, it will be convenient if the length of each review is the same. To do this, we will fix a size for our reviews and then pad short reviews with the category 'no word' (which we will label `0`) and truncate long reviews."
   ]
  },
  {
   "cell_type": "markdown",
   "metadata": {},
   "source": [
    "### (TODO) Create a word dictionary\n",
    "\n",
    "To begin with, we need to construct a way to map words that appear in the reviews to integers. Here we fix the size of our vocabulary (including the 'no word' and 'infrequent' categories) to be `5000` but you may wish to change this to see how it affects the model.\n",
    "\n",
    "> **TODO:** Complete the implementation for the `build_dict()` method below. Note that even though the vocab_size is set to `5000`, we only want to construct a mapping for the most frequently appearing `4998` words. This is because we want to reserve the special labels `0` for 'no word' and `1` for 'infrequent word'."
   ]
  },
  {
   "cell_type": "code",
   "execution_count": 13,
   "metadata": {},
   "outputs": [],
   "source": [
    "import numpy as np\n",
    "\n",
    "def build_dict(data, vocab_size = 5000):\n",
    "    \"\"\"Construct and return a dictionary mapping each of the most frequently appearing words to a unique integer.\"\"\"\n",
    "    \n",
    "    # TODO: Determine how often each word appears in `data`. Note that `data` is a list of sentences and that a\n",
    "    #       sentence is a list of words.\n",
    "    \n",
    "    word_count = {} # A dict storing the words that appear in the reviews along with how often they occur\n",
    "    for review in data:\n",
    "        for word in review:\n",
    "            if word in word_count:\n",
    "                word_count[word] +=1\n",
    "            else: \n",
    "                word_count[word] = 1\n",
    "    \n",
    "    # TODO: Sort the words found in `data` so that sorted_words[0] is the most frequently appearing word and\n",
    "    #       sorted_words[-1] is the least frequently appearing word.\n",
    "    \n",
    "    sorted_words = sorted(word_count, key=word_count.get, reverse=True)\n",
    "    \n",
    "    word_dict = {} # This is what we are building, a dictionary that translates words into integers\n",
    "    for idx, word in enumerate(sorted_words[:vocab_size - 2]): # The -2 is so that we save room for the 'no word'\n",
    "        word_dict[word] = idx + 2                              # 'infrequent' labels\n",
    "        \n",
    "    return word_dict"
   ]
  },
  {
   "cell_type": "code",
   "execution_count": 14,
   "metadata": {},
   "outputs": [],
   "source": [
    "word_dict = build_dict(train_X)"
   ]
  },
  {
   "cell_type": "markdown",
   "metadata": {},
   "source": [
    "**Question:** What are the five most frequently appearing (tokenized) words in the training set? Does it makes sense that these words appear frequently in the training set?"
   ]
  },
  {
   "cell_type": "markdown",
   "metadata": {},
   "source": [
    "**Answer:** The five most frequently appearing words in the training set are ['movi', 'film', 'one', 'like', 'time'] and it makes sense that these words will be used in IMDB reviews."
   ]
  },
  {
   "cell_type": "code",
   "execution_count": 15,
   "metadata": {},
   "outputs": [
    {
     "name": "stdout",
     "output_type": "stream",
     "text": [
      "{'movi': 2, 'film': 3, 'one': 4, 'like': 5, 'time': 6, 'good': 7, 'make': 8, 'charact': 9, 'get': 10, 'see': 11, 'watch': 12, 'stori': 13, 'even': 14, 'would': 15, 'realli': 16, 'well': 17, 'scene': 18, 'look': 19, 'show': 20, 'much': 21, 'end': 22, 'peopl': 23, 'bad': 24, 'go': 25, 'great': 26, 'also': 27, 'first': 28, 'love': 29, 'think': 30, 'way': 31, 'act': 32, 'play': 33, 'made': 34, 'thing': 35, 'could': 36, 'know': 37, 'say': 38, 'seem': 39, 'work': 40, 'plot': 41, 'two': 42, 'actor': 43, 'year': 44, 'come': 45, 'mani': 46, 'seen': 47, 'take': 48, 'life': 49, 'want': 50, 'never': 51, 'littl': 52, 'best': 53, 'tri': 54, 'man': 55, 'ever': 56, 'give': 57, 'better': 58, 'still': 59, 'perform': 60, 'find': 61, 'feel': 62, 'part': 63, 'back': 64, 'use': 65, 'someth': 66, 'director': 67, 'actual': 68, 'interest': 69, 'lot': 70, 'real': 71, 'old': 72, 'cast': 73, 'though': 74, 'live': 75, 'star': 76, 'enjoy': 77, 'guy': 78, 'anoth': 79, 'new': 80, 'role': 81, 'noth': 82, '10': 83, 'funni': 84, 'music': 85, 'point': 86, 'start': 87, 'set': 88, 'girl': 89, 'origin': 90, 'day': 91, 'world': 92, 'everi': 93, 'believ': 94, 'turn': 95, 'quit': 96, 'us': 97, 'direct': 98, 'thought': 99, 'fact': 100, 'minut': 101, 'horror': 102, 'kill': 103, 'action': 104, 'comedi': 105, 'pretti': 106, 'young': 107, 'wonder': 108, 'happen': 109, 'around': 110, 'got': 111, 'effect': 112, 'right': 113, 'long': 114, 'howev': 115, 'big': 116, 'line': 117, 'famili': 118, 'enough': 119, 'seri': 120, 'may': 121, 'need': 122, 'fan': 123, 'bit': 124, 'script': 125, 'beauti': 126, 'person': 127, 'becom': 128, 'without': 129, 'must': 130, 'alway': 131, 'friend': 132, 'tell': 133, 'reason': 134, 'saw': 135, 'last': 136, 'final': 137, 'kid': 138, 'almost': 139, 'put': 140, 'least': 141, 'sure': 142, 'done': 143, 'whole': 144, 'place': 145, 'complet': 146, 'kind': 147, 'expect': 148, 'differ': 149, 'shot': 150, 'far': 151, 'mean': 152, 'anyth': 153, 'book': 154, 'laugh': 155, 'might': 156, 'name': 157, 'sinc': 158, 'begin': 159, '2': 160, 'probabl': 161, 'woman': 162, 'help': 163, 'entertain': 164, 'let': 165, 'screen': 166, 'call': 167, 'tv': 168, 'moment': 169, 'away': 170, 'read': 171, 'yet': 172, 'rather': 173, 'worst': 174, 'run': 175, 'fun': 176, 'lead': 177, 'hard': 178, 'audienc': 179, 'idea': 180, 'anyon': 181, 'episod': 182, 'american': 183, 'found': 184, 'appear': 185, 'bore': 186, 'especi': 187, 'although': 188, 'hope': 189, 'keep': 190, 'cours': 191, 'anim': 192, 'job': 193, 'goe': 194, 'move': 195, 'sens': 196, 'dvd': 197, 'version': 198, 'war': 199, 'money': 200, 'someon': 201, 'mind': 202, 'mayb': 203, 'problem': 204, 'true': 205, 'hous': 206, 'everyth': 207, 'nice': 208, 'second': 209, 'rate': 210, 'three': 211, 'night': 212, 'face': 213, 'follow': 214, 'recommend': 215, 'main': 216, 'product': 217, 'worth': 218, 'leav': 219, 'human': 220, 'special': 221, 'excel': 222, 'togeth': 223, 'wast': 224, 'everyon': 225, 'sound': 226, 'john': 227, 'hand': 228, '1': 229, 'father': 230, 'later': 231, 'eye': 232, 'said': 233, 'view': 234, 'instead': 235, 'review': 236, 'boy': 237, 'high': 238, 'hour': 239, 'miss': 240, 'classic': 241, 'talk': 242, 'wife': 243, 'understand': 244, 'left': 245, 'care': 246, 'black': 247, 'death': 248, 'open': 249, 'murder': 250, 'write': 251, 'half': 252, 'head': 253, 'rememb': 254, 'chang': 255, 'viewer': 256, 'fight': 257, 'gener': 258, 'surpris': 259, 'includ': 260, 'short': 261, 'die': 262, 'fall': 263, 'less': 264, 'els': 265, 'entir': 266, 'piec': 267, 'involv': 268, 'pictur': 269, 'simpli': 270, 'home': 271, 'power': 272, 'top': 273, 'total': 274, 'usual': 275, 'budget': 276, 'attempt': 277, 'suppos': 278, 'releas': 279, 'hollywood': 280, 'terribl': 281, 'song': 282, 'men': 283, 'possibl': 284, 'featur': 285, 'portray': 286, 'disappoint': 287, '3': 288, 'poor': 289, 'coupl': 290, 'camera': 291, 'stupid': 292, 'dead': 293, 'wrong': 294, 'low': 295, 'produc': 296, 'video': 297, 'either': 298, 'aw': 299, 'definit': 300, 'except': 301, 'rest': 302, 'given': 303, 'absolut': 304, 'women': 305, 'lack': 306, 'word': 307, 'writer': 308, 'titl': 309, 'talent': 310, 'decid': 311, 'full': 312, 'perfect': 313, 'along': 314, 'style': 315, 'close': 316, 'truli': 317, 'school': 318, 'save': 319, 'emot': 320, 'sex': 321, 'age': 322, 'next': 323, 'bring': 324, 'mr': 325, 'case': 326, 'killer': 327, 'heart': 328, 'comment': 329, 'sort': 330, 'creat': 331, 'perhap': 332, 'came': 333, 'brother': 334, 'sever': 335, 'joke': 336, 'art': 337, 'dialogu': 338, 'game': 339, 'small': 340, 'base': 341, 'flick': 342, 'written': 343, 'sequenc': 344, 'meet': 345, 'earli': 346, 'often': 347, 'other': 348, 'mother': 349, 'develop': 350, 'humor': 351, 'actress': 352, 'consid': 353, 'dark': 354, 'guess': 355, 'amaz': 356, 'unfortun': 357, 'lost': 358, 'light': 359, 'exampl': 360, 'cinema': 361, 'drama': 362, 'white': 363, 'ye': 364, 'experi': 365, 'imagin': 366, 'mention': 367, 'stop': 368, 'natur': 369, 'forc': 370, 'manag': 371, 'felt': 372, 'present': 373, 'cut': 374, 'children': 375, 'fail': 376, 'son': 377, 'qualiti': 378, 'support': 379, 'car': 380, 'ask': 381, 'hit': 382, 'side': 383, 'voic': 384, 'extrem': 385, 'impress': 386, 'wors': 387, 'evil': 388, 'went': 389, 'stand': 390, 'certainli': 391, 'basic': 392, 'oh': 393, 'overal': 394, 'favorit': 395, 'horribl': 396, 'mysteri': 397, 'number': 398, 'type': 399, 'danc': 400, 'wait': 401, 'hero': 402, '5': 403, 'alreadi': 404, 'learn': 405, 'matter': 406, '4': 407, 'michael': 408, 'genr': 409, 'fine': 410, 'despit': 411, 'throughout': 412, 'walk': 413, 'success': 414, 'histori': 415, 'question': 416, 'zombi': 417, 'town': 418, 'relationship': 419, 'realiz': 420, 'child': 421, 'past': 422, 'daughter': 423, 'late': 424, 'b': 425, 'wish': 426, 'hate': 427, 'credit': 428, 'event': 429, 'theme': 430, 'touch': 431, 'citi': 432, 'today': 433, 'sometim': 434, 'behind': 435, 'god': 436, 'twist': 437, 'sit': 438, 'deal': 439, 'stay': 440, 'annoy': 441, 'abl': 442, 'rent': 443, 'pleas': 444, 'edit': 445, 'blood': 446, 'deserv': 447, 'comic': 448, 'anyway': 449, 'appar': 450, 'soon': 451, 'gave': 452, 'etc': 453, 'level': 454, 'slow': 455, 'chanc': 456, 'score': 457, 'bodi': 458, 'brilliant': 459, 'incred': 460, 'figur': 461, 'situat': 462, 'major': 463, 'self': 464, 'stuff': 465, 'decent': 466, 'element': 467, 'return': 468, 'dream': 469, 'obvious': 470, 'order': 471, 'continu': 472, 'pace': 473, 'ridicul': 474, 'happi': 475, 'highli': 476, 'add': 477, 'group': 478, 'thank': 479, 'ladi': 480, 'novel': 481, 'speak': 482, 'pain': 483, 'career': 484, 'shoot': 485, 'strang': 486, 'heard': 487, 'sad': 488, 'husband': 489, 'polic': 490, 'import': 491, 'break': 492, 'took': 493, 'strong': 494, 'cannot': 495, 'predict': 496, 'robert': 497, 'violenc': 498, 'hilari': 499, 'recent': 500, 'countri': 501, 'known': 502, 'particularli': 503, 'pick': 504, 'documentari': 505, 'season': 506, 'critic': 507, 'jame': 508, 'compar': 509, 'alon': 510, 'obviou': 511, 'told': 512, 'state': 513, 'visual': 514, 'rock': 515, 'offer': 516, 'exist': 517, 'theater': 518, 'opinion': 519, 'gore': 520, 'hold': 521, 'crap': 522, 'result': 523, 'realiti': 524, 'room': 525, 'hear': 526, 'effort': 527, 'clich': 528, 'thriller': 529, 'caus': 530, 'sequel': 531, 'explain': 532, 'serious': 533, 'king': 534, 'local': 535, 'ago': 536, 'none': 537, 'hell': 538, 'note': 539, 'allow': 540, 'sister': 541, 'david': 542, 'simpl': 543, 'femal': 544, 'deliv': 545, 'ok': 546, 'convinc': 547, 'class': 548, 'check': 549, 'suspens': 550, 'win': 551, 'buy': 552, 'oscar': 553, 'huge': 554, 'valu': 555, 'sexual': 556, 'cool': 557, 'scari': 558, 'similar': 559, 'excit': 560, 'exactli': 561, 'apart': 562, 'provid': 563, 'avoid': 564, 'shown': 565, 'seriou': 566, 'english': 567, 'whose': 568, 'taken': 569, 'cinematographi': 570, 'shock': 571, 'polit': 572, 'spoiler': 573, 'offic': 574, 'across': 575, 'middl': 576, 'pass': 577, 'street': 578, 'messag': 579, 'somewhat': 580, 'silli': 581, 'charm': 582, 'modern': 583, 'filmmak': 584, 'confus': 585, 'form': 586, 'tale': 587, 'singl': 588, 'jack': 589, 'mostli': 590, 'carri': 591, 'attent': 592, 'william': 593, 'sing': 594, 'subject': 595, 'five': 596, 'prove': 597, 'richard': 598, 'team': 599, 'stage': 600, 'cop': 601, 'unlik': 602, 'georg': 603, 'televis': 604, 'monster': 605, 'earth': 606, 'villain': 607, 'cover': 608, 'pay': 609, 'marri': 610, 'toward': 611, 'build': 612, 'parent': 613, 'pull': 614, 'due': 615, 'respect': 616, 'fill': 617, 'four': 618, 'dialog': 619, 'remind': 620, 'futur': 621, 'typic': 622, 'weak': 623, '7': 624, 'cheap': 625, 'intellig': 626, 'atmospher': 627, 'british': 628, '80': 629, 'clearli': 630, 'non': 631, 'dog': 632, 'paul': 633, '8': 634, 'knew': 635, 'artist': 636, 'fast': 637, 'crime': 638, 'easili': 639, 'escap': 640, 'adult': 641, 'doubt': 642, 'detail': 643, 'date': 644, 'romant': 645, 'fire': 646, 'member': 647, 'gun': 648, 'drive': 649, 'straight': 650, 'beyond': 651, 'fit': 652, 'attack': 653, 'imag': 654, 'upon': 655, 'posit': 656, 'whether': 657, 'fantast': 658, 'peter': 659, 'aspect': 660, 'appreci': 661, 'captur': 662, 'ten': 663, 'plan': 664, 'discov': 665, 'remain': 666, 'period': 667, 'near': 668, 'realist': 669, 'air': 670, 'mark': 671, 'red': 672, 'dull': 673, 'adapt': 674, 'within': 675, 'lose': 676, 'spend': 677, 'color': 678, 'materi': 679, 'chase': 680, 'mari': 681, 'storylin': 682, 'forget': 683, 'bunch': 684, 'clear': 685, 'lee': 686, 'victim': 687, 'nearli': 688, 'box': 689, 'york': 690, 'match': 691, 'inspir': 692, 'finish': 693, 'mess': 694, 'standard': 695, 'easi': 696, 'truth': 697, 'suffer': 698, 'busi': 699, 'bill': 700, 'space': 701, 'dramat': 702, 'western': 703, 'e': 704, 'list': 705, 'battl': 706, 'notic': 707, 'de': 708, 'french': 709, 'ad': 710, '9': 711, 'tom': 712, 'larg': 713, 'among': 714, 'eventu': 715, 'accept': 716, 'train': 717, 'agre': 718, 'spirit': 719, 'soundtrack': 720, 'third': 721, 'teenag': 722, 'adventur': 723, 'soldier': 724, 'drug': 725, 'suggest': 726, 'sorri': 727, 'famou': 728, 'normal': 729, 'babi': 730, 'cri': 731, 'ultim': 732, 'troubl': 733, 'contain': 734, 'certain': 735, 'cultur': 736, 'romanc': 737, 'rare': 738, 'lame': 739, 'somehow': 740, 'disney': 741, 'mix': 742, 'gone': 743, 'cartoon': 744, 'student': 745, 'reveal': 746, 'fear': 747, 'suck': 748, 'kept': 749, 'attract': 750, 'appeal': 751, 'premis': 752, 'greatest': 753, 'design': 754, 'secret': 755, 'shame': 756, 'throw': 757, 'copi': 758, 'scare': 759, 'wit': 760, 'america': 761, 'admit': 762, 'brought': 763, 'particular': 764, 'relat': 765, 'screenplay': 766, 'whatev': 767, 'pure': 768, '70': 769, 'averag': 770, 'harri': 771, 'master': 772, 'describ': 773, 'treat': 774, 'male': 775, '20': 776, 'issu': 777, 'fantasi': 778, 'warn': 779, 'inde': 780, 'forward': 781, 'background': 782, 'project': 783, 'free': 784, 'memor': 785, 'japanes': 786, 'poorli': 787, 'award': 788, 'locat': 789, 'amus': 790, 'potenti': 791, 'struggl': 792, 'magic': 793, 'weird': 794, 'societi': 795, 'okay': 796, 'imdb': 797, 'doctor': 798, 'accent': 799, 'hot': 800, 'water': 801, '30': 802, 'alien': 803, 'dr': 804, 'express': 805, 'odd': 806, 'choic': 807, 'crazi': 808, 'studio': 809, 'fiction': 810, 'control': 811, 'becam': 812, 'masterpiec': 813, 'difficult': 814, 'fli': 815, 'joe': 816, 'scream': 817, 'costum': 818, 'lover': 819, 'uniqu': 820, 'refer': 821, 'remak': 822, 'vampir': 823, 'girlfriend': 824, 'prison': 825, 'execut': 826, 'wear': 827, 'jump': 828, 'unless': 829, 'wood': 830, 'creepi': 831, 'cheesi': 832, 'superb': 833, 'otherwis': 834, 'parti': 835, 'roll': 836, 'ghost': 837, 'public': 838, 'mad': 839, 'depict': 840, 'earlier': 841, 'moral': 842, 'week': 843, 'jane': 844, 'badli': 845, 'fi': 846, 'dumb': 847, 'grow': 848, 'flaw': 849, 'sci': 850, 'deep': 851, 'maker': 852, 'cat': 853, 'footag': 854, 'connect': 855, 'older': 856, 'plenti': 857, 'bother': 858, 'outsid': 859, 'stick': 860, 'gay': 861, 'catch': 862, 'co': 863, 'plu': 864, 'popular': 865, 'equal': 866, 'social': 867, 'quickli': 868, 'disturb': 869, 'perfectli': 870, 'dress': 871, 'era': 872, '90': 873, 'mistak': 874, 'lie': 875, 'previou': 876, 'ride': 877, 'combin': 878, 'band': 879, 'concept': 880, 'answer': 881, 'rich': 882, 'surviv': 883, 'front': 884, 'christma': 885, 'sweet': 886, 'insid': 887, 'bare': 888, 'concern': 889, 'eat': 890, 'listen': 891, 'ben': 892, 'beat': 893, 'c': 894, 'serv': 895, 'term': 896, 'german': 897, 'la': 898, 'meant': 899, 'stereotyp': 900, 'hardli': 901, 'law': 902, 'innoc': 903, 'desper': 904, 'promis': 905, 'memori': 906, 'intent': 907, 'cute': 908, 'steal': 909, 'variou': 910, 'inform': 911, 'brain': 912, 'post': 913, 'tone': 914, 'island': 915, 'amount': 916, 'compani': 917, 'nuditi': 918, 'track': 919, 'claim': 920, 'store': 921, 'hair': 922, 'flat': 923, '50': 924, 'land': 925, 'univers': 926, 'danger': 927, 'fairli': 928, 'kick': 929, 'scott': 930, 'player': 931, 'step': 932, 'crew': 933, 'plain': 934, 'toni': 935, 'share': 936, 'tast': 937, 'centuri': 938, 'achiev': 939, 'engag': 940, 'cold': 941, 'travel': 942, 'record': 943, 'suit': 944, 'rip': 945, 'sadli': 946, 'manner': 947, 'spot': 948, 'tension': 949, 'wrote': 950, 'intens': 951, 'fascin': 952, 'familiar': 953, 'remark': 954, 'depth': 955, 'burn': 956, 'destroy': 957, 'histor': 958, 'sleep': 959, 'purpos': 960, 'languag': 961, 'ignor': 962, 'ruin': 963, 'delight': 964, 'italian': 965, 'unbeliev': 966, 'soul': 967, 'abil': 968, 'collect': 969, 'clever': 970, 'detect': 971, 'violent': 972, 'rape': 973, 'reach': 974, 'door': 975, 'liter': 976, 'trash': 977, 'scienc': 978, 'reveng': 979, 'caught': 980, 'commun': 981, 'creatur': 982, 'approach': 983, 'trip': 984, 'intrigu': 985, 'fashion': 986, 'skill': 987, 'introduc': 988, 'paint': 989, 'channel': 990, 'complex': 991, 'camp': 992, 'christian': 993, 'hole': 994, 'extra': 995, 'mental': 996, 'limit': 997, 'ann': 998, 'immedi': 999, 'comput': 1000, '6': 1001, 'million': 1002, 'mere': 1003, 'slightli': 1004, 'conclus': 1005, 'slasher': 1006, 'suddenli': 1007, 'imposs': 1008, 'crimin': 1009, 'teen': 1010, 'neither': 1011, 'physic': 1012, 'nation': 1013, 'spent': 1014, 'respons': 1015, 'planet': 1016, 'receiv': 1017, 'fake': 1018, 'sick': 1019, 'blue': 1020, 'bizarr': 1021, 'embarrass': 1022, 'indian': 1023, 'ring': 1024, '15': 1025, 'pop': 1026, 'drop': 1027, 'drag': 1028, 'haunt': 1029, 'pointless': 1030, 'suspect': 1031, 'search': 1032, 'edg': 1033, 'handl': 1034, 'biggest': 1035, 'common': 1036, 'faith': 1037, 'hurt': 1038, 'arriv': 1039, 'technic': 1040, 'angel': 1041, 'dad': 1042, 'genuin': 1043, 'f': 1044, 'awesom': 1045, 'solid': 1046, 'former': 1047, 'van': 1048, 'colleg': 1049, 'focu': 1050, 'count': 1051, 'heavi': 1052, 'tear': 1053, 'wall': 1054, 'rais': 1055, 'laughabl': 1056, 'visit': 1057, 'younger': 1058, 'sign': 1059, 'excus': 1060, 'fair': 1061, 'cult': 1062, 'tough': 1063, 'key': 1064, 'motion': 1065, 'desir': 1066, 'super': 1067, 'stun': 1068, 'addit': 1069, 'cloth': 1070, 'exploit': 1071, 'smith': 1072, 'tortur': 1073, 'race': 1074, 'davi': 1075, 'cross': 1076, 'author': 1077, 'jim': 1078, 'minor': 1079, 'compel': 1080, 'consist': 1081, 'focus': 1082, 'chemistri': 1083, 'commit': 1084, 'pathet': 1085, 'park': 1086, 'tradit': 1087, 'obsess': 1088, 'frank': 1089, 'grade': 1090, '60': 1091, 'asid': 1092, 'brutal': 1093, 'steve': 1094, 'somewher': 1095, 'opportun': 1096, 'rule': 1097, 'explor': 1098, 'u': 1099, 'depress': 1100, 'grant': 1101, 'honest': 1102, 'besid': 1103, 'dub': 1104, 'anti': 1105, 'intend': 1106, 'trailer': 1107, 'bar': 1108, 'west': 1109, 'scientist': 1110, 'longer': 1111, 'regard': 1112, 'decad': 1113, 'judg': 1114, 'silent': 1115, 'armi': 1116, 'creativ': 1117, 'wild': 1118, 'stewart': 1119, 'g': 1120, 'south': 1121, 'draw': 1122, 'road': 1123, 'govern': 1124, 'boss': 1125, 'ex': 1126, 'practic': 1127, 'surprisingli': 1128, 'club': 1129, 'motiv': 1130, 'gang': 1131, 'festiv': 1132, 'london': 1133, 'redeem': 1134, 'green': 1135, 'page': 1136, 'machin': 1137, 'idiot': 1138, 'display': 1139, 'aliv': 1140, 'militari': 1141, 'thrill': 1142, 'repeat': 1143, 'yeah': 1144, 'folk': 1145, 'nobodi': 1146, '100': 1147, '40': 1148, 'journey': 1149, 'garbag': 1150, 'smile': 1151, 'tire': 1152, 'ground': 1153, 'mood': 1154, 'bought': 1155, 'cost': 1156, 'stone': 1157, 'sam': 1158, 'noir': 1159, 'mouth': 1160, 'agent': 1161, 'terrif': 1162, 'requir': 1163, 'utterli': 1164, 'honestli': 1165, 'sexi': 1166, 'area': 1167, 'geniu': 1168, 'report': 1169, 'enter': 1170, 'glad': 1171, 'humour': 1172, 'investig': 1173, 'serial': 1174, 'narr': 1175, 'passion': 1176, 'occasion': 1177, 'marriag': 1178, 'climax': 1179, 'industri': 1180, 'studi': 1181, 'charli': 1182, 'ship': 1183, 'nowher': 1184, 'center': 1185, 'demon': 1186, 'hors': 1187, 'loos': 1188, 'bear': 1189, 'wow': 1190, 'hang': 1191, 'graphic': 1192, 'giant': 1193, 'admir': 1194, 'send': 1195, 'loud': 1196, 'damn': 1197, 'nake': 1198, 'subtl': 1199, 'rel': 1200, 'profession': 1201, 'blow': 1202, 'bottom': 1203, 'insult': 1204, 'batman': 1205, 'r': 1206, 'kelli': 1207, 'boyfriend': 1208, 'doubl': 1209, 'initi': 1210, 'frame': 1211, 'opera': 1212, 'gem': 1213, 'challeng': 1214, 'affect': 1215, 'cinemat': 1216, 'church': 1217, 'drawn': 1218, 'fulli': 1219, 'evid': 1220, 'seek': 1221, 'j': 1222, 'l': 1223, 'nightmar': 1224, 'essenti': 1225, 'conflict': 1226, 'arm': 1227, 'henri': 1228, 'christoph': 1229, 'wind': 1230, 'grace': 1231, 'narrat': 1232, 'assum': 1233, 'witch': 1234, 'hunt': 1235, 'push': 1236, 'wise': 1237, 'chri': 1238, 'repres': 1239, 'month': 1240, 'nomin': 1241, 'affair': 1242, 'sceneri': 1243, 'avail': 1244, 'hide': 1245, 'justic': 1246, 'smart': 1247, 'bond': 1248, 'thu': 1249, 'flashback': 1250, 'outstand': 1251, 'interview': 1252, 'satisfi': 1253, 'presenc': 1254, 'constantli': 1255, 'bed': 1256, 'central': 1257, 'sell': 1258, 'iron': 1259, 'content': 1260, 'everybodi': 1261, 'gag': 1262, 'slowli': 1263, 'hotel': 1264, 'hire': 1265, 'system': 1266, 'hey': 1267, 'adam': 1268, 'thrown': 1269, 'individu': 1270, 'charl': 1271, 'allen': 1272, 'mediocr': 1273, 'jone': 1274, 'lesson': 1275, 'billi': 1276, 'ray': 1277, 'cameo': 1278, 'photographi': 1279, 'fellow': 1280, 'pari': 1281, 'strike': 1282, 'rise': 1283, 'brief': 1284, 'independ': 1285, 'absurd': 1286, 'neg': 1287, 'phone': 1288, 'impact': 1289, 'born': 1290, 'ill': 1291, 'model': 1292, 'spoil': 1293, 'fresh': 1294, 'angl': 1295, 'likabl': 1296, 'abus': 1297, 'discuss': 1298, 'hill': 1299, 'ahead': 1300, 'sight': 1301, 'sent': 1302, 'photograph': 1303, 'shine': 1304, 'occur': 1305, 'blame': 1306, 'logic': 1307, 'mainli': 1308, 'bruce': 1309, 'commerci': 1310, 'forev': 1311, 'skip': 1312, 'segment': 1313, 'held': 1314, 'surround': 1315, 'teacher': 1316, 'blond': 1317, 'zero': 1318, 'resembl': 1319, 'summer': 1320, 'trap': 1321, 'satir': 1322, 'fool': 1323, 'ball': 1324, 'six': 1325, 'queen': 1326, 'twice': 1327, 'tragedi': 1328, 'sub': 1329, 'pack': 1330, 'reaction': 1331, 'bomb': 1332, 'hospit': 1333, 'protagonist': 1334, 'will': 1335, 'mile': 1336, 'sport': 1337, 'jerri': 1338, 'vote': 1339, 'mom': 1340, 'drink': 1341, 'trust': 1342, 'encount': 1343, 'plane': 1344, 'program': 1345, 'station': 1346, 'current': 1347, 'al': 1348, 'choos': 1349, 'martin': 1350, 'celebr': 1351, 'join': 1352, 'lord': 1353, 'round': 1354, 'tragic': 1355, 'field': 1356, 'favourit': 1357, 'jean': 1358, 'robot': 1359, 'vision': 1360, 'arthur': 1361, 'tie': 1362, 'random': 1363, 'fortun': 1364, 'roger': 1365, 'psycholog': 1366, 'dread': 1367, 'intern': 1368, 'improv': 1369, 'prefer': 1370, 'epic': 1371, 'nonsens': 1372, 'formula': 1373, 'highlight': 1374, 'pleasur': 1375, 'legend': 1376, 'tape': 1377, 'dollar': 1378, '11': 1379, 'thin': 1380, 'wide': 1381, 'object': 1382, 'porn': 1383, 'gorgeou': 1384, 'fox': 1385, 'ugli': 1386, 'buddi': 1387, 'influenc': 1388, 'prepar': 1389, 'ii': 1390, 'nasti': 1391, 'reflect': 1392, 'supposedli': 1393, 'warm': 1394, 'progress': 1395, 'worthi': 1396, 'youth': 1397, 'unusu': 1398, 'latter': 1399, 'length': 1400, 'crash': 1401, 'shop': 1402, 'superior': 1403, 'childhood': 1404, 'seven': 1405, 'theatr': 1406, 'remot': 1407, 'disgust': 1408, 'funniest': 1409, 'pilot': 1410, 'paid': 1411, 'fell': 1412, 'convers': 1413, 'trick': 1414, 'castl': 1415, 'rob': 1416, 'establish': 1417, 'disast': 1418, 'gangster': 1419, 'mine': 1420, 'disappear': 1421, 'suicid': 1422, 'ident': 1423, 'heaven': 1424, 'decis': 1425, 'forgotten': 1426, 'tend': 1427, 'mask': 1428, 'heroin': 1429, 'singer': 1430, 'partner': 1431, 'brian': 1432, 'recogn': 1433, 'desert': 1434, 'alan': 1435, 'stuck': 1436, 'sky': 1437, 'p': 1438, 'thoroughli': 1439, 'ms': 1440, 'replac': 1441, 'accur': 1442, 'market': 1443, 'uncl': 1444, 'eddi': 1445, 'andi': 1446, 'commentari': 1447, 'seemingli': 1448, 'danni': 1449, 'clue': 1450, 'jackson': 1451, 'devil': 1452, 'therefor': 1453, 'pair': 1454, 'refus': 1455, 'that': 1456, 'fate': 1457, 'accid': 1458, 'fault': 1459, 'river': 1460, 'unit': 1461, 'ed': 1462, 'tune': 1463, 'afraid': 1464, 'stephen': 1465, 'russian': 1466, 'hidden': 1467, 'clean': 1468, 'test': 1469, 'convey': 1470, 'captain': 1471, 'readi': 1472, 'instanc': 1473, 'irrit': 1474, 'quick': 1475, 'european': 1476, 'insan': 1477, 'daniel': 1478, 'frustrat': 1479, '1950': 1480, 'chines': 1481, 'rescu': 1482, 'food': 1483, 'wed': 1484, 'dirti': 1485, 'lock': 1486, 'angri': 1487, 'joy': 1488, 'steven': 1489, 'price': 1490, 'bland': 1491, 'cage': 1492, 'anymor': 1493, 'rang': 1494, 'wooden': 1495, 'n': 1496, 'jason': 1497, 'news': 1498, 'rush': 1499, '12': 1500, 'martial': 1501, 'led': 1502, 'twenti': 1503, 'board': 1504, 'worri': 1505, 'symbol': 1506, 'transform': 1507, 'cgi': 1508, 'hunter': 1509, 'johnni': 1510, 'invent': 1511, 'onto': 1512, 'piti': 1513, 'x': 1514, 'sentiment': 1515, 'attitud': 1516, 'process': 1517, 'explan': 1518, 'owner': 1519, 'awar': 1520, 'aim': 1521, 'favor': 1522, 'target': 1523, 'necessari': 1524, 'energi': 1525, 'floor': 1526, 'religi': 1527, 'opposit': 1528, 'window': 1529, 'insight': 1530, 'blind': 1531, 'chick': 1532, 'movement': 1533, 'deepli': 1534, 'possess': 1535, 'comparison': 1536, 'mountain': 1537, 'research': 1538, 'comed': 1539, 'whatsoev': 1540, 'grand': 1541, 'rain': 1542, 'mid': 1543, 'shadow': 1544, 'bank': 1545, 'began': 1546, 'parodi': 1547, 'princ': 1548, 'weapon': 1549, 'pre': 1550, 'friendship': 1551, 'credibl': 1552, 'taylor': 1553, 'teach': 1554, 'flesh': 1555, 'dougla': 1556, 'bloodi': 1557, 'terror': 1558, 'protect': 1559, 'hint': 1560, 'marvel': 1561, 'drunk': 1562, 'leader': 1563, 'load': 1564, 'accord': 1565, 'anybodi': 1566, 'watchabl': 1567, 'superman': 1568, 'brown': 1569, 'freddi': 1570, 'hitler': 1571, 'appropri': 1572, 'seat': 1573, 'tim': 1574, 'jeff': 1575, 'unknown': 1576, 'charg': 1577, 'villag': 1578, 'knock': 1579, 'keaton': 1580, 'empti': 1581, 'england': 1582, 'enemi': 1583, 'unnecessari': 1584, 'media': 1585, 'utter': 1586, 'perspect': 1587, 'wave': 1588, 'strength': 1589, 'craft': 1590, 'buck': 1591, 'dare': 1592, 'kiss': 1593, 'correct': 1594, 'ford': 1595, 'nativ': 1596, 'contrast': 1597, 'knowledg': 1598, 'chill': 1599, 'magnific': 1600, 'distract': 1601, 'anywher': 1602, 'soap': 1603, 'nazi': 1604, 'speed': 1605, 'breath': 1606, 'mission': 1607, '1980': 1608, 'ice': 1609, 'fred': 1610, 'joan': 1611, 'crowd': 1612, 'moon': 1613, 'jr': 1614, 'soft': 1615, '000': 1616, 'frighten': 1617, 'kate': 1618, 'dan': 1619, 'dick': 1620, 'hundr': 1621, 'nick': 1622, 'simon': 1623, 'radio': 1624, 'dozen': 1625, 'somebodi': 1626, 'loss': 1627, 'thousand': 1628, 'shakespear': 1629, 'andrew': 1630, 'academi': 1631, 'sum': 1632, 'account': 1633, 'root': 1634, 'vehicl': 1635, 'quot': 1636, 'leg': 1637, '1970': 1638, 'behavior': 1639, 'convent': 1640, 'regular': 1641, 'gold': 1642, 'compet': 1643, 'pretenti': 1644, 'demand': 1645, 'worker': 1646, 'privat': 1647, 'stretch': 1648, 'notabl': 1649, 'explos': 1650, 'interpret': 1651, 'candi': 1652, 'japan': 1653, 'lynch': 1654, 'constant': 1655, 'tarzan': 1656, 'debut': 1657, 'translat': 1658, 'sea': 1659, 'spi': 1660, 'revolv': 1661, 'prais': 1662, 'franc': 1663, 'technolog': 1664, 'sat': 1665, 'quiet': 1666, 'failur': 1667, 'threaten': 1668, 'ass': 1669, 'jesu': 1670, 'toy': 1671, 'punch': 1672, 'met': 1673, 'higher': 1674, 'aid': 1675, 'kevin': 1676, 'vh': 1677, 'abandon': 1678, 'mike': 1679, 'interact': 1680, 'bet': 1681, 'command': 1682, 'confront': 1683, 'separ': 1684, 'recal': 1685, 'belong': 1686, 'stunt': 1687, 'site': 1688, 'techniqu': 1689, 'servic': 1690, 'gotten': 1691, 'cabl': 1692, 'foot': 1693, 'bug': 1694, 'freak': 1695, 'bright': 1696, 'capabl': 1697, 'african': 1698, 'fu': 1699, 'jimmi': 1700, 'boat': 1701, 'presid': 1702, 'fat': 1703, 'succeed': 1704, 'stock': 1705, 'clark': 1706, 'spanish': 1707, 'gene': 1708, 'structur': 1709, 'kidnap': 1710, 'paper': 1711, 'factor': 1712, 'whilst': 1713, 'belief': 1714, 'tree': 1715, 'complic': 1716, 'witti': 1717, 'realis': 1718, 'attend': 1719, 'bob': 1720, 'realism': 1721, 'educ': 1722, 'assist': 1723, 'santa': 1724, 'finest': 1725, 'broken': 1726, 'up': 1727, 'depart': 1728, 'observ': 1729, 'smoke': 1730, 'determin': 1731, 'v': 1732, 'oper': 1733, 'lewi': 1734, 'routin': 1735, 'hat': 1736, 'rubbish': 1737, 'fame': 1738, 'domin': 1739, 'foreign': 1740, 'kinda': 1741, 'lone': 1742, 'advanc': 1743, 'morgan': 1744, 'safe': 1745, 'hook': 1746, 'rank': 1747, 'numer': 1748, 'werewolf': 1749, 'vs': 1750, 'shape': 1751, 'shallow': 1752, 'civil': 1753, 'rose': 1754, 'washington': 1755, 'morn': 1756, 'gari': 1757, 'kong': 1758, 'accomplish': 1759, 'ordinari': 1760, 'winner': 1761, 'whenev': 1762, 'peac': 1763, 'grab': 1764, 'virtual': 1765, 'luck': 1766, 'offens': 1767, 'h': 1768, 'contriv': 1769, 'welcom': 1770, 'complain': 1771, 'unfunni': 1772, 'patient': 1773, 'activ': 1774, 'bigger': 1775, 'trek': 1776, 'con': 1777, 'dimension': 1778, 'pretend': 1779, 'cain': 1780, 'code': 1781, 'wake': 1782, 'lesbian': 1783, 'flash': 1784, 'eric': 1785, 'dri': 1786, 'corrupt': 1787, 'manipul': 1788, 'guard': 1789, 'albert': 1790, 'statu': 1791, 'dancer': 1792, 'sourc': 1793, 'context': 1794, 'awkward': 1795, 'gain': 1796, 'speech': 1797, 'signific': 1798, 'anthoni': 1799, 'clip': 1800, 'corni': 1801, 'psycho': 1802, '13': 1803, 'sean': 1804, 'theatric': 1805, 'w': 1806, 'curiou': 1807, 'advic': 1808, 'religion': 1809, 'reli': 1810, 'priest': 1811, 'flow': 1812, 'addict': 1813, 'asian': 1814, 'skin': 1815, 'specif': 1816, 'jennif': 1817, 'howard': 1818, 'secur': 1819, 'golden': 1820, 'core': 1821, 'comfort': 1822, 'organ': 1823, 'promot': 1824, 'luke': 1825, 'cheat': 1826, 'lucki': 1827, 'cash': 1828, 'lower': 1829, 'dislik': 1830, 'associ': 1831, 'devic': 1832, 'regret': 1833, 'wing': 1834, 'balanc': 1835, 'frequent': 1836, 'frankli': 1837, 'contribut': 1838, 'degre': 1839, 'spell': 1840, 'print': 1841, 'forgiv': 1842, 'sake': 1843, 'lake': 1844, 'thoma': 1845, 'mass': 1846, 'betti': 1847, 'gordon': 1848, 'crack': 1849, 'unexpect': 1850, 'amateur': 1851, 'depend': 1852, 'construct': 1853, 'invit': 1854, 'categori': 1855, 'unfold': 1856, 'grown': 1857, 'honor': 1858, 'intellectu': 1859, 'grew': 1860, 'matur': 1861, 'anna': 1862, 'condit': 1863, 'walter': 1864, 'sole': 1865, 'veteran': 1866, 'sudden': 1867, 'mirror': 1868, 'spectacular': 1869, 'gift': 1870, 'overli': 1871, 'grip': 1872, 'demonstr': 1873, 'card': 1874, 'meanwhil': 1875, 'experienc': 1876, 'liner': 1877, 'freedom': 1878, 'robin': 1879, 'subtitl': 1880, 'section': 1881, 'crappi': 1882, 'brilliantli': 1883, 'circumst': 1884, 'sheriff': 1885, 'theori': 1886, 'oliv': 1887, 'unabl': 1888, 'drew': 1889, 'colour': 1890, 'sheer': 1891, 'matt': 1892, 'altern': 1893, 'laughter': 1894, 'parker': 1895, 'path': 1896, 'cook': 1897, 'pile': 1898, 'defin': 1899, 'treatment': 1900, 'hall': 1901, 'lawyer': 1902, 'sinatra': 1903, 'accident': 1904, 'wander': 1905, 'relief': 1906, 'dragon': 1907, 'hank': 1908, 'captiv': 1909, 'gratuit': 1910, 'moor': 1911, 'halloween': 1912, 'cowboy': 1913, 'jacki': 1914, 'wound': 1915, 'barbara': 1916, 'k': 1917, 'broadway': 1918, 'unintent': 1919, 'wayn': 1920, 'kung': 1921, 'winter': 1922, 'surreal': 1923, 'spoof': 1924, 'statement': 1925, 'canadian': 1926, 'cheer': 1927, 'gonna': 1928, 'fish': 1929, 'compos': 1930, 'fare': 1931, 'treasur': 1932, 'woodi': 1933, 'emerg': 1934, 'victor': 1935, 'sensit': 1936, 'unrealist': 1937, 'neighbor': 1938, 'driven': 1939, 'ran': 1940, 'sympathet': 1941, 'menac': 1942, 'topic': 1943, 'authent': 1944, 'glass': 1945, 'expos': 1946, 'overlook': 1947, 'ancient': 1948, 'handsom': 1949, 'michel': 1950, 'chief': 1951, 'gross': 1952, 'nevertheless': 1953, 'contemporari': 1954, 'cinderella': 1955, 'built': 1956, 'network': 1957, 'stranger': 1958, 'russel': 1959, 'pleasant': 1960, 'comedian': 1961, 'feet': 1962, 'letter': 1963, 'endless': 1964, 'miser': 1965, 'earn': 1966, 'consider': 1967, 'blockbust': 1968, 'underr': 1969, 'gori': 1970, 'switch': 1971, 'solv': 1972, 'brook': 1973, 'convict': 1974, 'bullet': 1975, 'virgin': 1976, 'edward': 1977, 'victoria': 1978, 'joseph': 1979, 'chosen': 1980, 'alex': 1981, 'scale': 1982, 'cynic': 1983, 'scenario': 1984, '0': 1985, 'outrag': 1986, 'sword': 1987, 'com': 1988, 'gut': 1989, 'curs': 1990, 'screenwrit': 1991, 'monkey': 1992, 'wrap': 1993, 'substanc': 1994, 'uk': 1995, 'juli': 1996, 'proper': 1997, 'driver': 1998, 'remov': 1999, 'par': 2000, 'indic': 2001, 'court': 2002, 'bird': 2003, 'advertis': 2004, 'roy': 2005, 'inevit': 2006, 'nanci': 2007, 'loser': 2008, 'consequ': 2009, 'naiv': 2010, 'rental': 2011, 'grave': 2012, 'germani': 2013, 'invis': 2014, 'slap': 2015, 'fatal': 2016, 'le': 2017, 'brave': 2018, 'bridg': 2019, 'ador': 2020, 'provok': 2021, 'anger': 2022, 'loui': 2023, 'footbal': 2024, 'chan': 2025, 'anderson': 2026, 'alcohol': 2027, 'ryan': 2028, 'stumbl': 2029, 'willi': 2030, 'professor': 2031, 'patrick': 2032, '1930': 2033, 'australian': 2034, 'assassin': 2035, 'sharp': 2036, 'bat': 2037, 'strongli': 2038, 'deni': 2039, 'cell': 2040, 'saturday': 2041, 'liber': 2042, 'trilog': 2043, 'heck': 2044, 'eight': 2045, 'amateurish': 2046, 'lousi': 2047, 'refresh': 2048, 'ape': 2049, 'sin': 2050, 'san': 2051, 'resid': 2052, 'vagu': 2053, 'justifi': 2054, 'defeat': 2055, 'mini': 2056, 'reput': 2057, 'creator': 2058, 'terrifi': 2059, 'sympathi': 2060, 'indi': 2061, 'prevent': 2062, 'tabl': 2063, 'task': 2064, 'tediou': 2065, 'expert': 2066, 'endur': 2067, 'trial': 2068, 'offend': 2069, 'che': 2070, 'employ': 2071, 'imit': 2072, 'basebal': 2073, 'rival': 2074, 'fairi': 2075, 'max': 2076, 'complaint': 2077, 'europ': 2078, 'dig': 2079, 'weekend': 2080, 'beach': 2081, 'pitch': 2082, 'format': 2083, 'risk': 2084, 'purchas': 2085, 'murphi': 2086, 'bite': 2087, 'reminisc': 2088, 'nois': 2089, 'hype': 2090, 'powel': 2091, 'harsh': 2092, 'tini': 2093, 'glimps': 2094, 'titan': 2095, 'strip': 2096, 'till': 2097, 'prime': 2098, 'asleep': 2099, 'fals': 2100, 'north': 2101, '14': 2102, 'destruct': 2103, 'descript': 2104, 'revel': 2105, 'africa': 2106, 'texa': 2107, 'surfac': 2108, 'spin': 2109, 'semi': 2110, 'inner': 2111, 'arrest': 2112, 'sitcom': 2113, 'uninterest': 2114, 'excess': 2115, 'maintain': 2116, 'controversi': 2117, 'twin': 2118, 'hitchcock': 2119, 'makeup': 2120, 'argu': 2121, 'massiv': 2122, 'dinosaur': 2123, 'ludicr': 2124, 'insist': 2125, 'expens': 2126, 'ideal': 2127, 'stare': 2128, 'melodrama': 2129, 'kim': 2130, 'reject': 2131, 'atroci': 2132, 'press': 2133, 'ala': 2134, 'host': 2135, 'nail': 2136, 'ga': 2137, 'supernatur': 2138, 'forest': 2139, 'subplot': 2140, 'erot': 2141, 'columbo': 2142, 'dude': 2143, 'identifi': 2144, 'presum': 2145, 'notch': 2146, 'cant': 2147, 'forgett': 2148, 'crude': 2149, 'method': 2150, 'plagu': 2151, 'closer': 2152, 'character': 2153, 'guest': 2154, 'ear': 2155, 'foster': 2156, 'border': 2157, 'princess': 2158, 'beast': 2159, 'landscap': 2160, 'lion': 2161, 'accus': 2162, 'pacino': 2163, 'previous': 2164, 'damag': 2165, 'jungl': 2166, 'urban': 2167, 'birth': 2168, 'bound': 2169, 'storytel': 2170, 'aunt': 2171, 'doll': 2172, 'chose': 2173, 'nude': 2174, 'thirti': 2175, 'guid': 2176, 'emma': 2177, 'jess': 2178, 'propaganda': 2179, 'warrior': 2180, '25': 2181, 'whoever': 2182, 'mate': 2183, 'mainstream': 2184, 'pet': 2185, 'poster': 2186, 'merit': 2187, 'gritti': 2188, 'upset': 2189, 'deadli': 2190, 'exact': 2191, 'cooper': 2192, 'latest': 2193, 'size': 2194, 'friday': 2195, 'contact': 2196, 'buff': 2197, 'corps': 2198, 'citizen': 2199, 'sun': 2200, 'warner': 2201, '1990': 2202, 'blend': 2203, 'popul': 2204, 'contest': 2205, 'rough': 2206, 'ton': 2207, 'settl': 2208, 'wilson': 2209, 'rat': 2210, 'widow': 2211, 'select': 2212, 'mgm': 2213, 'pitt': 2214, 'bu': 2215, 'overcom': 2216, 'environ': 2217, 'alic': 2218, 'metal': 2219, 'particip': 2220, 'revolut': 2221, 'ted': 2222, 'guilti': 2223, 'lift': 2224, 'link': 2225, 'exagger': 2226, 'moron': 2227, 'johnson': 2228, 'afternoon': 2229, '1960': 2230, 'prostitut': 2231, 'corner': 2232, 'matrix': 2233, 'accompani': 2234, 'corpor': 2235, 'holm': 2236, 'multipl': 2237, 'instal': 2238, 'friendli': 2239, 'sincer': 2240, 'doom': 2241, 'leagu': 2242, 'clair': 2243, 'hood': 2244, 'aka': 2245, 'campi': 2246, 'lugosi': 2247, 'defend': 2248, 'junk': 2249, 'advis': 2250, 'examin': 2251, 'blah': 2252, 'sunday': 2253, 'hip': 2254, 'string': 2255, 'grim': 2256, 'irish': 2257, 'icon': 2258, 'pro': 2259, 'shut': 2260, 'confid': 2261, 'rachel': 2262, 'tight': 2263, 'shake': 2264, 'varieti': 2265, 'denni': 2266, 'directli': 2267, 'medic': 2268, 'jaw': 2269, 'attach': 2270, 'goal': 2271, 'mexican': 2272, 'sullivan': 2273, 'dean': 2274, 'legendari': 2275, 'bourn': 2276, 'terrorist': 2277, 'sarah': 2278, 'prior': 2279, 'sentenc': 2280, 'vietnam': 2281, 'duke': 2282, 'courag': 2283, 'breast': 2284, 'truck': 2285, 'hong': 2286, 'proceed': 2287, 'split': 2288, 'nose': 2289, 'yell': 2290, 'entri': 2291, 'behav': 2292, 'donald': 2293, 'un': 2294, 'stolen': 2295, 'gather': 2296, 'concentr': 2297, 'everywher': 2298, 'borrow': 2299, 'crush': 2300, 'buri': 2301, 'jerk': 2302, 'unconvinc': 2303, 'confess': 2304, 'forth': 2305, 'swim': 2306, 'lifetim': 2307, 'california': 2308, 'pan': 2309, 'spite': 2310, 'turkey': 2311, 'julia': 2312, 'lip': 2313, 'deliveri': 2314, 'reward': 2315, 'quest': 2316, 'downright': 2317, 'flight': 2318, 'proud': 2319, 'china': 2320, 'offici': 2321, 'freeman': 2322, 'hoffman': 2323, 'encourag': 2324, 'sink': 2325, 'fabul': 2326, 'lazi': 2327, 'notori': 2328, 'inept': 2329, 'worthwhil': 2330, 'betray': 2331, 'fade': 2332, 'jon': 2333, 'jail': 2334, 'sir': 2335, 'retard': 2336, 'susan': 2337, 'survivor': 2338, 'shower': 2339, 'storm': 2340, 'bell': 2341, 'cousin': 2342, 'imageri': 2343, 'teeth': 2344, 'relev': 2345, 'bag': 2346, 'branagh': 2347, 'lisa': 2348, 'tremend': 2349, 'bride': 2350, 'hugh': 2351, 'shark': 2352, 'stab': 2353, 'facial': 2354, 'finger': 2355, 'mexico': 2356, 'summari': 2357, 'alright': 2358, 'trade': 2359, 'toler': 2360, 'quirki': 2361, 'hyster': 2362, 'bitter': 2363, 'von': 2364, 'pose': 2365, 'ha': 2366, 'blown': 2367, 'scheme': 2368, 'cruel': 2369, 'afterward': 2370, 'bone': 2371, 'larri': 2372, 'address': 2373, 'christ': 2374, 'ron': 2375, 'ned': 2376, 'tour': 2377, 'swear': 2378, 'feed': 2379, 'screw': 2380, 'pursu': 2381, 'distinct': 2382, 'thumb': 2383, 'snake': 2384, 'beg': 2385, 'traci': 2386, 'photo': 2387, 'occas': 2388, 'mechan': 2389, 'chair': 2390, 'stomach': 2391, 'raw': 2392, 'obscur': 2393, 'necessarili': 2394, 'chain': 2395, 'resist': 2396, 'render': 2397, 'heavili': 2398, 'cabin': 2399, 'holiday': 2400, 'gruesom': 2401, 'southern': 2402, 'argument': 2403, 'sidney': 2404, 'hardi': 2405, 'indulg': 2406, 'philip': 2407, 'understood': 2408, 'india': 2409, 'racist': 2410, 'satan': 2411, 'fourth': 2412, 'forgot': 2413, 'tongu': 2414, 'midnight': 2415, 'integr': 2416, 'belov': 2417, 'stalk': 2418, 'pregnant': 2419, 'lay': 2420, 'obnoxi': 2421, 'outfit': 2422, 'inhabit': 2423, 'restor': 2424, 'slapstick': 2425, 'magazin': 2426, '17': 2427, 'garden': 2428, 'deeper': 2429, 'ticket': 2430, 'carol': 2431, 'devot': 2432, 'brad': 2433, 'shoe': 2434, 'lincoln': 2435, 'incid': 2436, 'anticip': 2437, 'elizabeth': 2438, 'underground': 2439, 'benefit': 2440, 'disbelief': 2441, 'divorc': 2442, 'lili': 2443, 'guarante': 2444, 'sandler': 2445, 'maria': 2446, 'bbc': 2447, 'creation': 2448, 'mildli': 2449, 'explod': 2450, 'greater': 2451, 'cring': 2452, 'capit': 2453, 'princip': 2454, 'amazingli': 2455, 'slave': 2456, 'lesli': 2457, 'halfway': 2458, 'introduct': 2459, 'funnier': 2460, 'extraordinari': 2461, 'wreck': 2462, 'extent': 2463, 'tap': 2464, 'advantag': 2465, 'overwhelm': 2466, 'transfer': 2467, 'enhanc': 2468, 'punish': 2469, 'text': 2470, 'deliber': 2471, 'preview': 2472, 'lane': 2473, 'error': 2474, 'dynam': 2475, 'plant': 2476, 'east': 2477, 'lo': 2478, 'horrif': 2479, 'jessica': 2480, 'ensu': 2481, 'basi': 2482, 'miscast': 2483, 'sophist': 2484, 'miller': 2485, 'appli': 2486, 'vincent': 2487, 'vacat': 2488, '2000': 2489, 'homosexu': 2490, 'elev': 2491, 'sleazi': 2492, 'mansion': 2493, 'steel': 2494, 'spoken': 2495, 'bollywood': 2496, 'via': 2497, 'uncomfort': 2498, 'extend': 2499, 'measur': 2500, 'reed': 2501, 'alter': 2502, 'beer': 2503, 'mous': 2504, 'goofi': 2505, 'hippi': 2506, 'conceiv': 2507, 'melt': 2508, 'blair': 2509, 'overact': 2510, 'fix': 2511, 'breathtak': 2512, 'assign': 2513, 'stanley': 2514, 'savag': 2515, 'dentist': 2516, 'cathol': 2517, 'daili': 2518, 'properli': 2519, 'sacrific': 2520, 'everyday': 2521, 'subsequ': 2522, 'carpent': 2523, 'oppos': 2524, 'nowaday': 2525, 'succe': 2526, 'inspector': 2527, 'burt': 2528, 'circl': 2529, 'block': 2530, 'neck': 2531, 'laura': 2532, 'massacr': 2533, 'lesser': 2534, 'grey': 2535, 'pool': 2536, 'fallen': 2537, 'mob': 2538, 'portrait': 2539, 'access': 2540, 'concert': 2541, 'christi': 2542, 'seagal': 2543, 'fay': 2544, 'react': 2545, 'sinist': 2546, 'competit': 2547, 'jake': 2548, 'usa': 2549, 'relax': 2550, 'jewish': 2551, 'isol': 2552, 'chees': 2553, '2006': 2554, 'nine': 2555, 'spiritu': 2556, 'appal': 2557, 'immens': 2558, 'nonetheless': 2559, 'suitabl': 2560, 'creep': 2561, 'stink': 2562, 'lyric': 2563, 'chop': 2564, 'ironi': 2565, 'sold': 2566, 'reduc': 2567, 'showcas': 2568, 'nut': 2569, 'shirt': 2570, 'needless': 2571, 'navi': 2572, 'spring': 2573, 'franchis': 2574, 'rage': 2575, 'user': 2576, 'retir': 2577, 'adopt': 2578, 'luci': 2579, 'bath': 2580, 'zone': 2581, 'asham': 2582, 'jay': 2583, 'digit': 2584, 'nurs': 2585, 'per': 2586, 'uninspir': 2587, 'bulli': 2588, 'stanwyck': 2589, 'amongst': 2590, '1940': 2591, 'laid': 2592, '2001': 2593, 'broadcast': 2594, 'illustr': 2595, 'sutherland': 2596, 'oddli': 2597, 'upper': 2598, 'aspir': 2599, 'fulfil': 2600, 'stylish': 2601, 'baker': 2602, 'disguis': 2603, 'throat': 2604, 'brando': 2605, 'endear': 2606, 'impli': 2607, 'wanna': 2608, 'em': 2609, 'pride': 2610, 'neighborhood': 2611, 'wwii': 2612, '18': 2613, 'nobl': 2614, 'thief': 2615, 'pound': 2616, 'albeit': 2617, 'dawn': 2618, 'dinner': 2619, 'shift': 2620, 'diseas': 2621, 'coher': 2622, 'cinematograph': 2623, 'distribut': 2624, 'tens': 2625, 'shoulder': 2626, 'bo': 2627, 'prop': 2628, 'bett': 2629, '16': 2630, 'rochest': 2631, 'snow': 2632, 'forti': 2633, 'shout': 2634, 'function': 2635, 'surf': 2636, 'matthau': 2637, 'silenc': 2638, 'poignant': 2639, 'rebel': 2640, 'contract': 2641, 'knife': 2642, 'wash': 2643, 'henc': 2644, 'instinct': 2645, 'mindless': 2646, 'derek': 2647, 'chuck': 2648, 'cancel': 2649, 'heat': 2650, 'reunion': 2651, 'proof': 2652, 'eeri': 2653, 'horrend': 2654, 'internet': 2655, 'height': 2656, 'widmark': 2657, 'silver': 2658, 'elvira': 2659, 'duti': 2660, 'cannib': 2661, 'greatli': 2662, 'incoher': 2663, 'musician': 2664, 'spielberg': 2665, 'glori': 2666, 'neat': 2667, 'etern': 2668, 'premier': 2669, 'mill': 2670, 'pie': 2671, 'alik': 2672, 'absorb': 2673, 'innov': 2674, 'elvi': 2675, 'repetit': 2676, 'torn': 2677, 'wealthi': 2678, 'bang': 2679, 'trite': 2680, 'infam': 2681, 'redempt': 2682, 'britain': 2683, 'homag': 2684, 'diamond': 2685, 'racism': 2686, 'precis': 2687, 'crisi': 2688, 'itali': 2689, 'horrifi': 2690, 'announc': 2691, 'lovabl': 2692, 'nelson': 2693, 'blank': 2694, 'fbi': 2695, 'burton': 2696, 'ensembl': 2697, 'happili': 2698, 'parallel': 2699, 'resolut': 2700, 'streisand': 2701, 'chaplin': 2702, 'hammer': 2703, 'wilder': 2704, 'flop': 2705, 'helen': 2706, 'dedic': 2707, 'pat': 2708, 'disagre': 2709, 'carter': 2710, 'st': 2711, 'mar': 2712, 'conclud': 2713, 'cube': 2714, 'factori': 2715, 'broke': 2716, 'triumph': 2717, 'oil': 2718, 'plastic': 2719, 'row': 2720, 'march': 2721, 'chuckl': 2722, 'rocket': 2723, 'fighter': 2724, 'weight': 2725, 'climb': 2726, 'own': 2727, 'vega': 2728, 'bush': 2729, 'thug': 2730, 'dump': 2731, 'mst3k': 2732, 'kurt': 2733, 'enorm': 2734, 'wherea': 2735, 'unforgett': 2736, 'boot': 2737, 'dane': 2738, 'sensibl': 2739, 'luca': 2740, 'lust': 2741, 'spare': 2742, 'meaning': 2743, 'arnold': 2744, 'caricatur': 2745, 'brand': 2746, 'adequ': 2747, 'fifti': 2748, 'stress': 2749, 'bobbi': 2750, 'dear': 2751, 'rap': 2752, 'difficulti': 2753, 'butt': 2754, 'threat': 2755, 'engin': 2756, 'karloff': 2757, 'elabor': 2758, 'swing': 2759, 'ralph': 2760, 'secretari': 2761, 'arrog': 2762, 'barri': 2763, 'hamlet': 2764, 'homeless': 2765, 'ego': 2766, 'polish': 2767, 'fest': 2768, 'journalist': 2769, 'flynn': 2770, 'tool': 2771, 'fanci': 2772, 'puppet': 2773, 'induc': 2774, 'float': 2775, 'arrang': 2776, 'simpson': 2777, 'conspiraci': 2778, 'unbear': 2779, 'resort': 2780, 'grate': 2781, 'spike': 2782, 'phillip': 2783, 'basement': 2784, 'exercis': 2785, 'pig': 2786, 'cruis': 2787, 'tribut': 2788, 'guilt': 2789, 'muppet': 2790, 'boll': 2791, 'choreograph': 2792, 'layer': 2793, 'babe': 2794, 'editor': 2795, 'ward': 2796, 'medium': 2797, 'item': 2798, 'puzzl': 2799, 'file': 2800, 'slip': 2801, 'scarecrow': 2802, 'fianc': 2803, 'tower': 2804, 'document': 2805, 'korean': 2806, '24': 2807, 'stan': 2808, 'ham': 2809, 'toilet': 2810, 'persona': 2811, 'larger': 2812, 'orient': 2813, 'glover': 2814, 'assur': 2815, 'catherin': 2816, 'philosoph': 2817, 'inexplic': 2818, 'portion': 2819, 'territori': 2820, 'librari': 2821, 'superfici': 2822, 'spark': 2823, 'slaughter': 2824, 'minim': 2825, 'denzel': 2826, 'transit': 2827, 'doc': 2828, 'pg': 2829, 'shi': 2830, 'financi': 2831, 'boredom': 2832, 'curti': 2833, 'owe': 2834, 'sneak': 2835, 'jet': 2836, 'jeremi': 2837, 'dorothi': 2838, 'walken': 2839, 'wolf': 2840, 'ban': 2841, 'metaphor': 2842, 'profound': 2843, 'backdrop': 2844, 'multi': 2845, 'ambigu': 2846, 'whale': 2847, 'hudson': 2848, 'eleph': 2849, 'cusack': 2850, 'ultra': 2851, 'rave': 2852, '2005': 2853, 'implaus': 2854, 'notion': 2855, 'elsewher': 2856, 'hack': 2857, 'stiff': 2858, 'viru': 2859, 'union': 2860, 'birthday': 2861, 'gadget': 2862, 'eastwood': 2863, 'bibl': 2864, 'squar': 2865, 'afford': 2866, 'newspap': 2867, 'urg': 2868, 'pad': 2869, 'reader': 2870, '1st': 2871, 'slight': 2872, 'canada': 2873, 'poison': 2874, 'distanc': 2875, 'disc': 2876, 'superhero': 2877, 'eva': 2878, 'deriv': 2879, 'lloyd': 2880, 'hawk': 2881, 'spread': 2882, 'huh': 2883, 'skit': 2884, 'health': 2885, 'charisma': 2886, 'heston': 2887, 'sadist': 2888, 'drown': 2889, 'essenc': 2890, 'cure': 2891, 'montag': 2892, 'restaur': 2893, 'button': 2894, 'lab': 2895, 'maniac': 2896, 'companion': 2897, 'scoobi': 2898, 'gradual': 2899, 'estat': 2900, 'godfath': 2901, 'peak': 2902, 'fetch': 2903, 'invest': 2904, 'dealt': 2905, 'muslim': 2906, 'alli': 2907, 'servant': 2908, 'kane': 2909, 'countless': 2910, 'ritter': 2911, 'miik': 2912, 'gothic': 2913, 'subtleti': 2914, 'cup': 2915, 'tea': 2916, 'briefli': 2917, 'electr': 2918, 'charismat': 2919, 'heroic': 2920, 'iii': 2921, 'salli': 2922, 'elect': 2923, 'resourc': 2924, 'grandmoth': 2925, 'admittedli': 2926, 'ingredi': 2927, 'toss': 2928, 'tender': 2929, 'nuanc': 2930, 'reel': 2931, 'bud': 2932, 'cole': 2933, 'neil': 2934, 'wannab': 2935, 'label': 2936, 'mild': 2937, 'poverti': 2938, 'pit': 2939, 'reev': 2940, 'stood': 2941, 'shall': 2942, 'mafia': 2943, 'punk': 2944, 'stronger': 2945, 'gate': 2946, 'pauli': 2947, 'carrey': 2948, 'dawson': 2949, 'kubrick': 2950, 'updat': 2951, 'easier': 2952, 'smooth': 2953, 'burst': 2954, 'ian': 2955, 'outcom': 2956, 'fond': 2957, 'cardboard': 2958, 'tag': 2959, 'terri': 2960, 'smash': 2961, 'useless': 2962, 'assault': 2963, 'astair': 2964, 'cox': 2965, 'bakshi': 2966, 'increasingli': 2967, 'melodramat': 2968, 'qualifi': 2969, '2002': 2970, 'samurai': 2971, 'exchang': 2972, 'resolv': 2973, 'rex': 2974, 'divers': 2975, 'vari': 2976, 'fist': 2977, 'vulner': 2978, 'sketch': 2979, 'coincid': 2980, 'reynold': 2981, 'templ': 2982, 'insert': 2983, 'blast': 2984, 'brillianc': 2985, 'tame': 2986, 'suspend': 2987, 'conveni': 2988, 'be': 2989, 'scratch': 2990, 'luckili': 2991, 'coach': 2992, 'strictli': 2993, 'matthew': 2994, 'gotta': 2995, 'ambiti': 2996, 'pin': 2997, 'farm': 2998, 'nuclear': 2999, 'jami': 3000, 'walker': 3001, 'soprano': 3002, 'meat': 3003, 'seventi': 3004, 'fisher': 3005, 'hamilton': 3006, 'closet': 3007, 'clock': 3008, 'eccentr': 3009, 'spooki': 3010, 'empir': 3011, 'kudo': 3012, 'convolut': 3013, 'worthless': 3014, 'grasp': 3015, 'butcher': 3016, 'recreat': 3017, 'discoveri': 3018, 'instantli': 3019, 'revers': 3020, 'timeless': 3021, 'struck': 3022, 'monk': 3023, 'joey': 3024, 'brosnan': 3025, 'ninja': 3026, 'cave': 3027, 'clown': 3028, 'pal': 3029, 'cliff': 3030, 'inconsist': 3031, 'declar': 3032, 'importantli': 3033, 'eighti': 3034, 'sloppi': 3035, 'partli': 3036, 'gray': 3037, 'communist': 3038, 'seller': 3039, 'evok': 3040, 'fifteen': 3041, 'miracl': 3042, 'selfish': 3043, 'mitchel': 3044, 'bleak': 3045, 'wipe': 3046, 'sidekick': 3047, 'norman': 3048, 'piano': 3049, 'chew': 3050, 'farc': 3051, 'websit': 3052, '45': 3053, 'debat': 3054, 'superbl': 3055, 'cheek': 3056, 'psychiatrist': 3057, 'destin': 3058, 'lifestyl': 3059, 'aforement': 3060, 'flawless': 3061, 'seed': 3062, 'ho': 3063, 'enthusiast': 3064, 'australia': 3065, 'stoog': 3066, 'kitchen': 3067, 'akshay': 3068, 'emili': 3069, 'dire': 3070, 'bash': 3071, 'pressur': 3072, 'dash': 3073, 'wick': 3074, 'drivel': 3075, 'regardless': 3076, 'soviet': 3077, 'abc': 3078, 'slice': 3079, 'wrestl': 3080, 'splatter': 3081, 'anni': 3082, 'directori': 3083, 'incompet': 3084, 'prize': 3085, 'mann': 3086, 'increas': 3087, 'cia': 3088, 'judi': 3089, 'distant': 3090, 'helicopt': 3091, 'recov': 3092, 'beaten': 3093, 'cagney': 3094, 'dave': 3095, 'jar': 3096, 'doo': 3097, 'cameron': 3098, 'glow': 3099, 'seduc': 3100, 'ken': 3101, 'duo': 3102, 'flower': 3103, 'pleasantli': 3104, 'curios': 3105, 'boil': 3106, 'lou': 3107, 'artifici': 3108, 'suppli': 3109, 'chapter': 3110, 'blob': 3111, 'hop': 3112, 'drunken': 3113, 'favour': 3114, 'splendid': 3115, 'ellen': 3116, 'ranger': 3117, 'panic': 3118, 'francisco': 3119, 'craig': 3120, 'glenn': 3121, 'turner': 3122, 'goldberg': 3123, 'craven': 3124, 'eleg': 3125, 'combat': 3126, 'psychot': 3127, 'laurel': 3128, 'web': 3129, 'perri': 3130, 'modesti': 3131, 'shortli': 3132, 'greek': 3133, 'plausibl': 3134, 'rid': 3135, 'min': 3136, 'graduat': 3137, 'flip': 3138, 'wizard': 3139, 'ruth': 3140, 'hatr': 3141, '20th': 3142, 'alexand': 3143, 'philosophi': 3144, 'gentl': 3145, 'slightest': 3146, 'gandhi': 3147, 'falk': 3148, 'fx': 3149, 'holi': 3150, 'unpleas': 3151, 'fund': 3152, 'jealou': 3153, 'knight': 3154, 'preciou': 3155, 'ocean': 3156, 'legal': 3157, 'futurist': 3158, 'felix': 3159, 'manhattan': 3160, 'we': 3161, 'tall': 3162, 'harm': 3163, 'dracula': 3164, 'lend': 3165, 'ami': 3166, 'forbidden': 3167, 'digniti': 3168, 'thread': 3169, 'explicit': 3170, 'reviv': 3171, 'overdon': 3172, 'nod': 3173, 'scientif': 3174, 'tank': 3175, 'childish': 3176, 'bless': 3177, 'mock': 3178, 'giallo': 3179, 'nerv': 3180, '99': 3181, 'pirat': 3182, 'margaret': 3183, 'torment': 3184, 'verhoeven': 3185, 'elderli': 3186, 'mel': 3187, 'awe': 3188, 'awaken': 3189, 'eve': 3190, 'broad': 3191, 'thick': 3192, 'repeatedli': 3193, 'fever': 3194, '2004': 3195, 'unwatch': 3196, 'yesterday': 3197, 'custom': 3198, 'automat': 3199, 'ambit': 3200, 'uniform': 3201, 'stiller': 3202, 'ah': 3203, 'eas': 3204, 'romero': 3205, 'royal': 3206, 'launch': 3207, 'griffith': 3208, 'timothi': 3209, 'politician': 3210, 'rivet': 3211, 'bin': 3212, 'acclaim': 3213, 'publish': 3214, 'absenc': 3215, 'lean': 3216, 'roman': 3217, 'kay': 3218, 'phrase': 3219, 'pulp': 3220, 'transport': 3221, 'sunshin': 3222, 'purpl': 3223, 'stinker': 3224, 'homicid': 3225, 'warren': 3226, 'crook': 3227, 'tomato': 3228, 'termin': 3229, 'wallac': 3230, 'antic': 3231, 'foul': 3232, 'pierc': 3233, 'darker': 3234, 'bathroom': 3235, 'gabriel': 3236, 'karen': 3237, 'evolv': 3238, 'brazil': 3239, 'hollow': 3240, 'juvenil': 3241, 'q': 3242, 'viciou': 3243, 'packag': 3244, 'awak': 3245, 'coloni': 3246, 'horrid': 3247, 'donna': 3248, 'saint': 3249, 'pray': 3250, 'sixti': 3251, 'choreographi': 3252, 'kenneth': 3253, '2003': 3254, 'revolutionari': 3255, 'album': 3256, 'eyr': 3257, 'ought': 3258, 'prom': 3259, 'contrari': 3260, 'rambo': 3261, 'li': 3262, 'marin': 3263, 'defi': 3264, 'twelv': 3265, 'ireland': 3266, 'boast': 3267, 'overr': 3268, 'ramon': 3269, 'dose': 3270, 'stole': 3271, 'mummi': 3272, 'nerd': 3273, 'candid': 3274, 'blade': 3275, 'beatti': 3276, 'option': 3277, 'conserv': 3278, 'mildr': 3279, 'kapoor': 3280, 'altman': 3281, 'astonish': 3282, 'confirm': 3283, 'protest': 3284, 'global': 3285, 'natali': 3286, 'detract': 3287, 'trio': 3288, 'kirk': 3289, 'funer': 3290, 'collabor': 3291, 'flame': 3292, 'jazz': 3293, 'fulci': 3294, 'whip': 3295, 'bottl': 3296, 'racial': 3297, 'nicholson': 3298, 'yellow': 3299, 'bull': 3300, 'shade': 3301, 'tommi': 3302, 'blake': 3303, 'leap': 3304, 'mystic': 3305, 'destini': 3306, 'enterpris': 3307, 'delici': 3308, 'spit': 3309, 'audio': 3310, 'bedroom': 3311, 'reunit': 3312, 'inherit': 3313, 'pseudo': 3314, 'merci': 3315, 'meaningless': 3316, 'altogeth': 3317, 'swedish': 3318, 'staff': 3319, 'fonda': 3320, 'enchant': 3321, 'visibl': 3322, 'threw': 3323, 'popcorn': 3324, 'harder': 3325, 'neo': 3326, 'todd': 3327, 'vivid': 3328, 'adolesc': 3329, 'respond': 3330, 'atlanti': 3331, 'decor': 3332, 'jew': 3333, 'leonard': 3334, 'await': 3335, 'crocodil': 3336, 'lawrenc': 3337, 'ruthless': 3338, 'reserv': 3339, 'tip': 3340, 'bust': 3341, 'exhibit': 3342, 'fanat': 3343, 'lemmon': 3344, 'moodi': 3345, 'wire': 3346, 'befriend': 3347, 'synopsi': 3348, 'edi': 3349, 'uneven': 3350, 'voight': 3351, 'suspici': 3352, 'kennedi': 3353, 'madonna': 3354, 'roommat': 3355, 'clint': 3356, 'bargain': 3357, 'voyag': 3358, 'chao': 3359, 'incident': 3360, 'palma': 3361, 'centr': 3362, 'garner': 3363, 'abysm': 3364, 'bradi': 3365, 'carl': 3366, 'clumsi': 3367, 'ventur': 3368, '2007': 3369, 'rural': 3370, 'audit': 3371, 'bold': 3372, 'unsettl': 3373, 'holli': 3374, 'dimens': 3375, 'versu': 3376, 'mall': 3377, 'troop': 3378, 'elimin': 3379, 'cuba': 3380, 'echo': 3381, 'poetic': 3382, 'lit': 3383, 'nearbi': 3384, 'humili': 3385, 'tiger': 3386, 'acknowledg': 3387, 'trail': 3388, 'immigr': 3389, 'daddi': 3390, 'cari': 3391, 'imperson': 3392, 'characterist': 3393, 'cd': 3394, 'timon': 3395, 'wealth': 3396, 'hart': 3397, 'ant': 3398, '2nd': 3399, 'neglect': 3400, 'solo': 3401, 'paus': 3402, 'mistaken': 3403, 'saga': 3404, 'collaps': 3405, 'jeffrey': 3406, 'celluloid': 3407, 'repuls': 3408, 'marshal': 3409, 'pun': 3410, 'domest': 3411, 'prejudic': 3412, 'infect': 3413, 'homer': 3414, 'mickey': 3415, 'assembl': 3416, 'harvey': 3417, 'interrupt': 3418, 'equip': 3419, 'olivi': 3420, 'milk': 3421, 'inan': 3422, 'sore': 3423, 'leon': 3424, 'gear': 3425, 'cake': 3426, 'hbo': 3427, 'apolog': 3428, 'chest': 3429, 'coat': 3430, 'ginger': 3431, 'inappropri': 3432, '1996': 3433, 'coffe': 3434, 'tribe': 3435, 'pant': 3436, 'undoubtedli': 3437, 'promin': 3438, 'highest': 3439, 'trace': 3440, 'consum': 3441, 'instant': 3442, 'retain': 3443, 'aveng': 3444, 'maggi': 3445, 'humbl': 3446, 'primari': 3447, 'embrac': 3448, 'colonel': 3449, 'devast': 3450, 'airplan': 3451, 'vulgar': 3452, 'pot': 3453, 'furthermor': 3454, 'solut': 3455, 'pen': 3456, 'institut': 3457, 'exot': 3458, 'florida': 3459, 'polanski': 3460, 'brooklyn': 3461, 'colleagu': 3462, 'jenni': 3463, 'dutch': 3464, '1999': 3465, 'seduct': 3466, 'descend': 3467, 'linda': 3468, '3rd': 3469, 'ya': 3470, 'bowl': 3471, 'godzilla': 3472, 'illog': 3473, 'cope': 3474, 'dian': 3475, 'principl': 3476, 'rick': 3477, 'smaller': 3478, 'strain': 3479, 'outer': 3480, 'sale': 3481, 'wive': 3482, 'poke': 3483, 'gender': 3484, 'disabl': 3485, 'dud': 3486, 'inferior': 3487, 'gloriou': 3488, 'dive': 3489, 'predecessor': 3490, 'glamor': 3491, 'secondli': 3492, 'yard': 3493, 'devoid': 3494, 'gundam': 3495, 'lol': 3496, 'vast': 3497, 'cue': 3498, 'beneath': 3499, 'primarili': 3500, 'scope': 3501, 'rabbit': 3502, 'mixtur': 3503, 'blatant': 3504, 'bubbl': 3505, 'hal': 3506, 'shirley': 3507, 'talki': 3508, 'invas': 3509, 'hideou': 3510, 'aggress': 3511, 'myer': 3512, 'simplist': 3513, 'pearl': 3514, 'z': 3515, 'museum': 3516, 'casual': 3517, 'breed': 3518, 'senseless': 3519, 'shelf': 3520, 'et': 3521, 'arab': 3522, 'april': 3523, 'garbo': 3524, 'alfr': 3525, 'streep': 3526, 'countrysid': 3527, 'grinch': 3528, 'trademark': 3529, 'disjoint': 3530, 'alert': 3531, 'domino': 3532, 'vanish': 3533, 'acid': 3534, 'obtain': 3535, 'stir': 3536, 'rendit': 3537, 'stellar': 3538, 'experiment': 3539, 'applaud': 3540, 'slide': 3541, 'defens': 3542, 'maci': 3543, 'mail': 3544, 'robberi': 3545, 'oz': 3546, 'loyal': 3547, 'disgrac': 3548, 'hardcor': 3549, 'stack': 3550, 'boom': 3551, 'hopeless': 3552, 'uwe': 3553, 'illeg': 3554, 'unhappi': 3555, 'sh': 3556, 'mayor': 3557, 'robinson': 3558, 'khan': 3559, 'rifl': 3560, 'dicken': 3561, 'amanda': 3562, 'declin': 3563, 'fri': 3564, 'spider': 3565, 'topless': 3566, 'craze': 3567, 'diana': 3568, 'incomprehens': 3569, 'counter': 3570, 'grandfath': 3571, 'scroog': 3572, 'recruit': 3573, 'wont': 3574, 'dismiss': 3575, 'span': 3576, 'emphasi': 3577, 'soccer': 3578, 'berlin': 3579, 'tempt': 3580, 'tenant': 3581, 'psychic': 3582, 'blew': 3583, 'hartley': 3584, 'sympath': 3585, 'faster': 3586, 'riot': 3587, 'shed': 3588, 'parad': 3589, 'goer': 3590, 'porno': 3591, 'intim': 3592, 'ethnic': 3593, 'sibl': 3594, 'bitch': 3595, 'revolt': 3596, 'ration': 3597, 'niro': 3598, 'woo': 3599, 'trashi': 3600, 'wet': 3601, 'resurrect': 3602, 'justin': 3603, 'shaw': 3604, 'lumet': 3605, 'slick': 3606, 'wendi': 3607, 'choru': 3608, 'feminist': 3609, 'eager': 3610, 'honesti': 3611, 'region': 3612, 'andr': 3613, 'jonathan': 3614, 'dealer': 3615, 'biographi': 3616, '00': 3617, 'steam': 3618, 'ballet': 3619, 'rider': 3620, 'unreal': 3621, 'nephew': 3622, 'immort': 3623, 'commend': 3624, 'weakest': 3625, 'hesit': 3626, 'hopper': 3627, 'farmer': 3628, 'ensur': 3629, 'worm': 3630, 'patriot': 3631, 'wheel': 3632, 'gap': 3633, 'partial': 3634, 'enlighten': 3635, 'lena': 3636, 'mario': 3637, 'confin': 3638, 'franco': 3639, 'vice': 3640, 'morri': 3641, 'victori': 3642, 'properti': 3643, 'psychopath': 3644, 'blunt': 3645, 'wore': 3646, 'util': 3647, 'sappi': 3648, 'skull': 3649, 'safeti': 3650, 'nostalg': 3651, 'macarthur': 3652, 'similarli': 3653, 'prequel': 3654, 'sandra': 3655, 'mutant': 3656, 'composit': 3657, 'hung': 3658, 'leo': 3659, 'snap': 3660, 'kingdom': 3661, 'charlott': 3662, 'owen': 3663, 'repress': 3664, '1972': 3665, 'compass': 3666, 'montana': 3667, 'acquir': 3668, 'campbel': 3669, 'whoopi': 3670, 'tad': 3671, 'bonu': 3672, 'deed': 3673, 'farrel': 3674, 'del': 3675, 'drain': 3676, 'despair': 3677, 'thru': 3678, 'valuabl': 3679, 'compens': 3680, 'bumbl': 3681, 'tail': 3682, 'emperor': 3683, 'rocki': 3684, 'miseri': 3685, 'dust': 3686, 'heartbreak': 3687, 'rope': 3688, 'latin': 3689, 'bow': 3690, 'exit': 3691, 'nervou': 3692, 'strand': 3693, 'rambl': 3694, 'drum': 3695, 'cg': 3696, 'snl': 3697, 'repli': 3698, 'recycl': 3699, 'speci': 3700, 'pattern': 3701, 'kyle': 3702, 'dalton': 3703, 'bergman': 3704, 'hyde': 3705, 'chess': 3706, 'carradin': 3707, 'romp': 3708, 'bleed': 3709, 'roth': 3710, 'radic': 3711, 'pour': 3712, 'gimmick': 3713, 'mistress': 3714, 'airport': 3715, 'downhil': 3716, 'da': 3717, 'percept': 3718, 'oppress': 3719, 'contempl': 3720, 'gal': 3721, 'rotten': 3722, 'slug': 3723, 'tonight': 3724, 'martian': 3725, 'orson': 3726, 'wacki': 3727, '35': 3728, 'olli': 3729, 'rapist': 3730, 'shelley': 3731, 'arc': 3732, 'heal': 3733, 'preach': 3734, 'dazzl': 3735, 'taught': 3736, 'pursuit': 3737, 'tackl': 3738, 'attorney': 3739, 'melodi': 3740, '1983': 3741, 'mislead': 3742, 'unpredict': 3743, 'pervers': 3744, 'banal': 3745, 'slash': 3746, 'stilt': 3747, 'champion': 3748, 'paltrow': 3749, 'arguabl': 3750, 'belt': 3751, 'tooth': 3752, 'programm': 3753, 'edgar': 3754, 'pervert': 3755, 'plight': 3756, 'gambl': 3757, 'poem': 3758, 'bela': 3759, 'vengeanc': 3760, 'employe': 3761, 'graham': 3762, 'sensat': 3763, 'rubi': 3764, 'orang': 3765, 'uplift': 3766, 'raymond': 3767, 'duval': 3768, 'mesmer': 3769, 'cleverli': 3770, 'passeng': 3771, 'virginia': 3772, 'tiresom': 3773, 'vocal': 3774, 'maid': 3775, 'chicken': 3776, 'closest': 3777, 'marti': 3778, 'dixon': 3779, 'conneri': 3780, 'franki': 3781, 'convincingli': 3782, 'bay': 3783, 'abraham': 3784, 'giggl': 3785, 'numb': 3786, 'inject': 3787, 'crystal': 3788, 'swallow': 3789, 'paranoia': 3790, 'yawn': 3791, 'quarter': 3792, 'climact': 3793, 'outing': 3794, 'engross': 3795, 'scottish': 3796, 'habit': 3797, 'extens': 3798, 'clone': 3799, 'monologu': 3800, '1968': 3801, 'volum': 3802, 'suffic': 3803, 'secretli': 3804, 'gerard': 3805, 'amitabh': 3806, 'whine': 3807, 'mute': 3808, 'pokemon': 3809, 'profan': 3810, 'calm': 3811, 'lundgren': 3812, 'tube': 3813, 'sirk': 3814, 'iran': 3815, 'fed': 3816, 'frankenstein': 3817, 'grotesqu': 3818, 'profess': 3819, 'im': 3820, 'underst': 3821, 'meander': 3822, 'chicago': 3823, 'expand': 3824, 'earl': 3825, 'richardson': 3826, 'abort': 3827, 'lowest': 3828, 'plod': 3829, 'junior': 3830, 'linger': 3831, 'surpass': 3832, 'poetri': 3833, 'nichola': 3834, 'franci': 3835, 'bend': 3836, 'taxi': 3837, 'dispos': 3838, 'austen': 3839, 'trend': 3840, 'spock': 3841, 'backward': 3842, 'ethan': 3843, 'septemb': 3844, 'literatur': 3845, 'waitress': 3846, 'compliment': 3847, 'eugen': 3848, 'tourist': 3849, 'der': 3850, 'myth': 3851, 'instrument': 3852, 'spoke': 3853, 'sue': 3854, 'greedi': 3855, 'cannon': 3856, 'stallon': 3857, 'muddl': 3858, 'household': 3859, 'simplic': 3860, 'rant': 3861, 'catchi': 3862, 'dysfunct': 3863, 'mundan': 3864, 'hum': 3865, 'econom': 3866, 'nostalgia': 3867, 'rubber': 3868, 'lure': 3869, 'descent': 3870, 'furi': 3871, 'stale': 3872, 'recognis': 3873, 'omen': 3874, 'damon': 3875, 'occupi': 3876, 'lang': 3877, 'coast': 3878, 'carel': 3879, 'mortal': 3880, 'hello': 3881, 'alongsid': 3882, 'molli': 3883, 'equival': 3884, 'irrelev': 3885, 'cent': 3886, 'dictat': 3887, 'duck': 3888, 'randi': 3889, 'bacal': 3890, 'flee': 3891, 'mankind': 3892, 'recognit': 3893, 'firstli': 3894, 'phantom': 3895, 'eaten': 3896, 'louis': 3897, 'deaf': 3898, 'dement': 3899, 'insur': 3900, 'phoni': 3901, 'sissi': 3902, 'crucial': 3903, 'map': 3904, 'june': 3905, '1973': 3906, 'twilight': 3907, 'rude': 3908, 'bike': 3909, 'blackmail': 3910, 'ashley': 3911, 'distinguish': 3912, 'cyborg': 3913, 'drake': 3914, 'newli': 3915, 'loyalti': 3916, 'dreari': 3917, 'lengthi': 3918, 'likewis': 3919, 'grayson': 3920, 'freez': 3921, 'onlin': 3922, 'labor': 3923, 'wisdom': 3924, 'damm': 3925, 'bump': 3926, 'antwon': 3927, 'daisi': 3928, 'reign': 3929, 'rooney': 3930, 'heel': 3931, 'buffalo': 3932, 'biko': 3933, 'baddi': 3934, 'analysi': 3935, 'vein': 3936, 'interior': 3937, 'provoc': 3938, 'keith': 3939, 'boxer': 3940, 'nineti': 3941, 'approv': 3942, 'proce': 3943, 'chronicl': 3944, 'emphas': 3945, 'worn': 3946, 'ridden': 3947, 'attribut': 3948, 'inher': 3949, 'incorpor': 3950, 'tunnel': 3951, 'exposur': 3952, 'startl': 3953, 'pink': 3954, 'butler': 3955, 'basketbal': 3956, 'prey': 3957, 'barrymor': 3958, 'sailor': 3959, 'unorigin': 3960, 'hypnot': 3961, 'millionair': 3962, 'underli': 3963, 'othello': 3964, 'mighti': 3965, 'indiffer': 3966, 'degrad': 3967, 'elm': 3968, 'condemn': 3969, 'julian': 3970, 'simmon': 3971, 'meyer': 3972, 'undeni': 3973, 'nicol': 3974, 'predat': 3975, 'stalker': 3976, 'er': 3977, 'meg': 3978, 'robbin': 3979, 'fleet': 3980, 'mormon': 3981, 'barrel': 3982, 'unrel': 3983, 'carla': 3984, 'improvis': 3985, 'substitut': 3986, 'drift': 3987, 'belushi': 3988, 'walsh': 3989, 'bunni': 3990, 'unawar': 3991, 'watson': 3992, 'alarm': 3993, 'vital': 3994, 'agenda': 3995, 'exquisit': 3996, 'enthusiasm': 3997, 'errol': 3998, 'marion': 3999, 'reid': 4000, 'nyc': 4001, 'palac': 4002, 'hay': 4003, 'disord': 4004, 'warmth': 4005, 'novak': 4006, 'roof': 4007, 'dolph': 4008, 'firm': 4009, 'mtv': 4010, 'shove': 4011, 'edgi': 4012, 'greed': 4013, 'priceless': 4014, 'lampoon': 4015, 'alison': 4016, 'rukh': 4017, '3d': 4018, 'spain': 4019, 'peril': 4020, 'profit': 4021, 'eastern': 4022, 'simultan': 4023, 'campaign': 4024, 'valentin': 4025, 'gestur': 4026, 'showdown': 4027, 'cassidi': 4028, 'testament': 4029, 'unleash': 4030, 'peck': 4031, 'crown': 4032, 'preserv': 4033, 'thompson': 4034, 'petti': 4035, 'drip': 4036, '1933': 4037, 'sergeant': 4038, 'iraq': 4039, 'israel': 4040, 'session': 4041, 'nun': 4042, 'angela': 4043, 'ponder': 4044, 'what': 4045, 'pamela': 4046, 'beatl': 4047, 'glanc': 4048, 'distort': 4049, 'randomli': 4050, 'zizek': 4051, '13th': 4052, 'coup': 4053, 'minimum': 4054, 'championship': 4055, 'orlean': 4056, 'wig': 4057, 'crawl': 4058, 'bro': 4059, 'travesti': 4060, 'represent': 4061, 'buster': 4062, 'rout': 4063, 'calib': 4064, 'miyazaki': 4065, '1984': 4066, 'realm': 4067, 'exposit': 4068, 'empathi': 4069, 'valley': 4070, 'shootout': 4071, 'jan': 4072, 'cream': 4073, 'unimagin': 4074, 'scotland': 4075, 'climat': 4076, 'crow': 4077, 'regist': 4078, 'gentleman': 4079, 'reson': 4080, 'stake': 4081, 'quinn': 4082, 'perpetu': 4083, 'din': 4084, 'mon': 4085, 'brenda': 4086, 'restrain': 4087, 'contradict': 4088, 'han': 4089, 'stroke': 4090, 'cooki': 4091, 'kurosawa': 4092, 'fido': 4093, 'sabrina': 4094, 'distress': 4095, 'absent': 4096, 'stargat': 4097, 'unsatisfi': 4098, '1997': 4099, 'ross': 4100, 'traumat': 4101, 'wax': 4102, '1987': 4103, 'demis': 4104, 'ustinov': 4105, 'shaki': 4106, 'cloud': 4107, 'warrant': 4108, 'mclaglen': 4109, 'femm': 4110, 'sammi': 4111, 'josh': 4112, 'compromis': 4113, 'greg': 4114, 'meryl': 4115, 'passabl': 4116, 'delic': 4117, 'painter': 4118, 'tacki': 4119, 'soderbergh': 4120, 'baldwin': 4121, 'crawford': 4122, 'spacey': 4123, 'sucker': 4124, 'monoton': 4125, 'pretens': 4126, 'fuller': 4127, 'censor': 4128, 'pole': 4129, 'perceiv': 4130, 'unseen': 4131, 'dana': 4132, 'businessman': 4133, 'abomin': 4134, 'derang': 4135, 'shoddi': 4136, 'geek': 4137, 'darren': 4138, 'uncov': 4139, 'kumar': 4140, 'dee': 4141, 'valid': 4142, 'fenc': 4143, 'primit': 4144, 'exclus': 4145, 'deniro': 4146, 'unravel': 4147, 'norm': 4148, 'expedit': 4149, 'furiou': 4150, 'jewel': 4151, 'sid': 4152, 'reluct': 4153, 'clash': 4154, 'click': 4155, 'seal': 4156, 'deceas': 4157, 'polici': 4158, 'correctli': 4159, 'tech': 4160, 'wholli': 4161, 'austin': 4162, 'nathan': 4163, 'tarantino': 4164, 'anchor': 4165, 'accuraci': 4166, 'judgment': 4167, '1993': 4168, 'fog': 4169, 'verbal': 4170, 'antonioni': 4171, 'seldom': 4172, 'conduct': 4173, 'trait': 4174, 'ritual': 4175, 'unfair': 4176, '1971': 4177, 'alec': 4178, '2008': 4179, 'roller': 4180, 'malon': 4181, 'debt': 4182, 'sunni': 4183, 'fabric': 4184, 'dreck': 4185, 'nicola': 4186, 'hallucin': 4187, 'mode': 4188, 'pocket': 4189, 'murray': 4190, 'fought': 4191, 'tax': 4192, 'sustain': 4193, '3000': 4194, 'crippl': 4195, 'sand': 4196, 'bake': 4197, 'fart': 4198, '1995': 4199, 'joel': 4200, 'wang': 4201, 'slam': 4202, 'enforc': 4203, 'temper': 4204, 'darn': 4205, 'patienc': 4206, 'wretch': 4207, 'clerk': 4208, 'shanghai': 4209, 'behold': 4210, 'sheet': 4211, 'vanc': 4212, 'logan': 4213, 'tactic': 4214, 'divid': 4215, 'preston': 4216, 'preposter': 4217, 'guitar': 4218, 'pete': 4219, 'fundament': 4220, 'schedul': 4221, 'rita': 4222, 'bias': 4223, 'sweep': 4224, 'grief': 4225, 'helpless': 4226, 'scriptwrit': 4227, 'robber': 4228, 'shell': 4229, 'isabel': 4230, 'stark': 4231, 'critiqu': 4232, 'outlin': 4233, 'squad': 4234, 'conscious': 4235, 'phil': 4236, 'canyon': 4237, 'exhaust': 4238, 'technicolor': 4239, 'runner': 4240, 'stuart': 4241, 'penni': 4242, 'bridget': 4243, 'clau': 4244, 'legaci': 4245, 'soup': 4246, 'despis': 4247, 'sugar': 4248, 'rehash': 4249, 'marc': 4250, 'alley': 4251, 'passag': 4252, 'agenc': 4253, 'propos': 4254, 'consciou': 4255, 'bloom': 4256, 'invad': 4257, 'flair': 4258, 'newman': 4259, 'jacket': 4260, 'culmin': 4261, 'delv': 4262, 'restrict': 4263, 'sniper': 4264, 'gregori': 4265, 'lacklust': 4266, 'boyl': 4267, 'palanc': 4268, 'kansa': 4269, 'cigarett': 4270, 'russia': 4271, 'vomit': 4272, 'unexpectedli': 4273, 'jodi': 4274, 'rear': 4275, 'implic': 4276, 'drove': 4277, 'liberti': 4278, 'alicia': 4279, 'inabl': 4280, 'sentinel': 4281, 'connor': 4282, 'downey': 4283, 'improb': 4284, 'arrow': 4285, 'behaviour': 4286, 'lush': 4287, 'asylum': 4288, 'rehears': 4289, 'karl': 4290, 'wrench': 4291, 'delet': 4292, 'horn': 4293, 'cap': 4294, 'aesthet': 4295, '1936': 4296, 'vet': 4297, 'rod': 4298, 'rampag': 4299, 'tendenc': 4300, 'sharon': 4301, 'pale': 4302, 'chainsaw': 4303, '22': 4304, 'awhil': 4305, 'tripe': 4306, 'bacon': 4307, 'foxx': 4308, 'feat': 4309, 'ladder': 4310, 'mccoy': 4311, 'yeti': 4312, 'kolchak': 4313, '1920': 4314, 'stream': 4315, 'prank': 4316, 'newcom': 4317, 'scoop': 4318, 'el': 4319, '1978': 4320, 'filler': 4321, 'coaster': 4322, 'tomorrow': 4323, 'suspicion': 4324, 'rumor': 4325, 'fright': 4326, 'hackney': 4327, 'tasteless': 4328, 'loneli': 4329, 'conscienc': 4330, 'basing': 4331, 'wildli': 4332, 'shortcom': 4333, 'lurk': 4334, 'aristocrat': 4335, 'thunderbird': 4336, 'underneath': 4337, '1988': 4338, 'spice': 4339, 'hungri': 4340, 'visitor': 4341, 'sung': 4342, 'rhythm': 4343, 'wagner': 4344, 'minu': 4345, '19th': 4346, 'amazon': 4347, 'paramount': 4348, 'suffici': 4349, 'financ': 4350, 'weav': 4351, 'paradis': 4352, 'hulk': 4353, 'globe': 4354, 'elit': 4355, 'iv': 4356, 'naughti': 4357, 'bread': 4358, 'secondari': 4359, 'lectur': 4360, 'brit': 4361, 'dirt': 4362, 'smell': 4363, 'immers': 4364, 'standout': 4365, 'straightforward': 4366, 'heist': 4367, 'en': 4368, 'curli': 4369, 'counterpart': 4370, 'teas': 4371, '75': 4372, 'beverli': 4373, 'cancer': 4374, 'quietli': 4375, 'hopkin': 4376, 'rub': 4377, 'couch': 4378, 'ram': 4379, '1939': 4380, 'recogniz': 4381, 'abrupt': 4382, 'grudg': 4383, 'ingeni': 4384, '1989': 4385, 'impos': 4386, 'literari': 4387, 'springer': 4388, 'minist': 4389, 'worship': 4390, 'inmat': 4391, 'chavez': 4392, 'atroc': 4393, 'entranc': 4394, 'choppi': 4395, 'leigh': 4396, 'paxton': 4397, 'wwe': 4398, 'posey': 4399, 'chamberlain': 4400, 'tierney': 4401, 'penn': 4402, 'esther': 4403, 'sublim': 4404, 'watcher': 4405, 'variat': 4406, '1986': 4407, 'sassi': 4408, 'geni': 4409, 'entitl': 4410, 'missil': 4411, 'attenborough': 4412, 'moreov': 4413, 'convert': 4414, 'injuri': 4415, 'yearn': 4416, 'skeptic': 4417, 'misguid': 4418, 'enthral': 4419, 'policeman': 4420, 'laurenc': 4421, 'duel': 4422, 'heartfelt': 4423, 'ratso': 4424, 'ace': 4425, 'lindsay': 4426, 'net': 4427, 'morbid': 4428, 'quaid': 4429, 'clan': 4430, 'cattl': 4431, 'transcend': 4432, 'nolan': 4433, 'bernard': 4434, 'nemesi': 4435, 'mytholog': 4436, 'uncut': 4437, 'dont': 4438, 'egg': 4439, 'rosemari': 4440, 'diari': 4441, 'grin': 4442, 'graini': 4443, 'reliabl': 4444, 'spiral': 4445, 'steadi': 4446, 'facil': 4447, 'enabl': 4448, 'cruelti': 4449, 'hk': 4450, 'bye': 4451, 'hopelessli': 4452, 'youngest': 4453, 'setup': 4454, 'bean': 4455, 'moder': 4456, 'buzz': 4457, 'out': 4458, 'puppi': 4459, 'carlito': 4460, 'unexplain': 4461, 'kidman': 4462, 'characteris': 4463, 'tyler': 4464, '1979': 4465, 'poe': 4466, 'vader': 4467, 'brood': 4468, 'obstacl': 4469, 'kitti': 4470, 'artsi': 4471, 'disastr': 4472, 'despic': 4473, 'fuel': 4474, 'weather': 4475, 'christin': 4476, 'decept': 4477, '1969': 4478, 'oblig': 4479, 'athlet': 4480, 'exterior': 4481, 'martha': 4482, 'acquaint': 4483, 'underworld': 4484, 'spontan': 4485, 'kline': 4486, 'gillian': 4487, 'patricia': 4488, 'baffl': 4489, 'bewar': 4490, 'bounc': 4491, 'gina': 4492, 'clueless': 4493, 'effici': 4494, 'hammi': 4495, 'preming': 4496, 'bronson': 4497, 'hain': 4498, 'niec': 4499, 'sweat': 4500, 'heap': 4501, 'narrow': 4502, 'brendan': 4503, 'outlaw': 4504, '73': 4505, 'insipid': 4506, 'sooner': 4507, 'dandi': 4508, 'harmless': 4509, 'scar': 4510, 'goof': 4511, 'loi': 4512, 'preachi': 4513, 'mermaid': 4514, 'dilemma': 4515, 'trigger': 4516, 'sleepwalk': 4517, 'loath': 4518, 'candl': 4519, 'injur': 4520, 'enlist': 4521, 'angst': 4522, 'viewpoint': 4523, 'analyz': 4524, 'hepburn': 4525, 'mayhem': 4526, 'virtu': 4527, 'fontain': 4528, 'housewif': 4529, 'lester': 4530, 'astound': 4531, 'tick': 4532, 'rome': 4533, 'headach': 4534, 'shatter': 4535, 'renaiss': 4536, 'circu': 4537, '19': 4538, 'biker': 4539, 'suprem': 4540, 'uh': 4541, 'taboo': 4542, 'slimi': 4543, 'redund': 4544, 'contempt': 4545, 'hooker': 4546, 'ebert': 4547, 'fluff': 4548, 'filth': 4549, 'bent': 4550, 'macho': 4551, 'immatur': 4552, 'dismal': 4553, 'intric': 4554, 'hokey': 4555, 'spade': 4556, 'cassavet': 4557, 'phenomenon': 4558, 'dish': 4559, 'scorses': 4560, 'stair': 4561, 'hostag': 4562, 'guin': 4563, 'tripl': 4564, 'amor': 4565, 'boston': 4566, 'glorifi': 4567, 'idol': 4568, 'stimul': 4569, 'sox': 4570, 'foolish': 4571, 'steer': 4572, 'overlong': 4573, 'whore': 4574, 'camcord': 4575, 'ariel': 4576, 'salt': 4577, 'oldest': 4578, 'claustrophob': 4579, 'surgeri': 4580, 'gere': 4581, 'zoom': 4582, 'corbett': 4583, 'widescreen': 4584, 'preced': 4585, 'assert': 4586, 'schlock': 4587, 'down': 4588, '1981': 4589, 'spree': 4590, 'dwarf': 4591, 'fascist': 4592, 'proport': 4593, '1976': 4594, 'messi': 4595, 'antagonist': 4596, 'faint': 4597, 'beard': 4598, 'spinal': 4599, 'radiat': 4600, 'obligatori': 4601, 'cow': 4602, 'rhyme': 4603, 'strongest': 4604, 'harold': 4605, 'muscl': 4606, 'keen': 4607, 'perman': 4608, 'nolt': 4609, 'astronaut': 4610, 'conquer': 4611, 'margin': 4612, 'flirt': 4613, 'cush': 4614, 'corman': 4615, 'mount': 4616, 'transplant': 4617, 'remad': 4618, 'mutual': 4619, 'shred': 4620, 'gasp': 4621, 'trivia': 4622, 'joker': 4623, 'alvin': 4624, 'flag': 4625, 'flashi': 4626, 'gabl': 4627, 'shield': 4628, 'frantic': 4629, 'cohen': 4630, 'zane': 4631, 'naschi': 4632, 'archiv': 4633, 'instruct': 4634, '1945': 4635, 'danish': 4636, '28': 4637, 'vaniti': 4638, 'bachelor': 4639, 'ritchi': 4640, 'wield': 4641, 'info': 4642, 'interestingli': 4643, 'flock': 4644, 'fishburn': 4645, 'repris': 4646, 'persuad': 4647, 'someday': 4648, 'mobil': 4649, 'triangl': 4650, '95': 4651, 'mol': 4652, 'off': 4653, 'claud': 4654, 'brush': 4655, 'raj': 4656, 'discern': 4657, 'boob': 4658, 'departur': 4659, 'bitten': 4660, 'resum': 4661, 'www': 4662, 'divin': 4663, 'hara': 4664, 'sensual': 4665, 'strive': 4666, 'deer': 4667, 'carey': 4668, 'inflict': 4669, 'barn': 4670, 'scandal': 4671, 'neurot': 4672, 'aborigin': 4673, 'clad': 4674, 'europa': 4675, 'neill': 4676, 'pixar': 4677, 'bate': 4678, 'miracul': 4679, 'dame': 4680, 'ish': 4681, 'cb': 4682, 'traffic': 4683, 'artwork': 4684, 'casino': 4685, 'dim': 4686, 'vibrant': 4687, 'pacif': 4688, 'heartwarm': 4689, 'jade': 4690, 'prophet': 4691, 'banter': 4692, 'helm': 4693, 'fragil': 4694, 'wendigo': 4695, 'recit': 4696, 'cliffhang': 4697, 'frontier': 4698, 'cycl': 4699, 'parson': 4700, 'biblic': 4701, 'hapless': 4702, 'submit': 4703, 'harrison': 4704, 'pickford': 4705, 'undermin': 4706, 'earnest': 4707, 'axe': 4708, 'kathryn': 4709, 'dylan': 4710, 'hilar': 4711, 'proclaim': 4712, 'timberlak': 4713, 'carlo': 4714, 'loretta': 4715, 'melissa': 4716, 'cher': 4717, 'rot': 4718, 'colin': 4719, 'hug': 4720, 'senior': 4721, 'luka': 4722, 'anton': 4723, 'mobster': 4724, 'winchest': 4725, 'wardrob': 4726, 'cerebr': 4727, 'trier': 4728, 'electron': 4729, 'vile': 4730, 'razor': 4731, 'legitim': 4732, 'seedi': 4733, 'akin': 4734, 'articl': 4735, 'eli': 4736, 'antholog': 4737, 'illus': 4738, 'milo': 4739, 'nope': 4740, 'choke': 4741, 'static': 4742, 'holocaust': 4743, 'orphan': 4744, 'jordan': 4745, 'redneck': 4746, 'flavor': 4747, 'sicken': 4748, 'token': 4749, 'northern': 4750, 'alexandr': 4751, 'vanessa': 4752, 'isra': 4753, 'estrang': 4754, 'toronto': 4755, 'marlon': 4756, 'http': 4757, 'breakfast': 4758, 'aris': 4759, 'misfortun': 4760, 'bondag': 4761, 'bikini': 4762, 'feast': 4763, 'rooki': 4764, 'mason': 4765, 'foil': 4766, 'pc': 4767, 'blatantli': 4768, 'lucil': 4769, 'jo': 4770, 'mathieu': 4771, 'lui': 4772, 'venom': 4773, 'shepherd': 4774, 'uma': 4775, 'dudley': 4776, 'ceremoni': 4777, 'psych': 4778, 'deem': 4779, 'outdat': 4780, 'gilbert': 4781, 'cartoonish': 4782, 'charlton': 4783, 'comprehend': 4784, 'retriev': 4785, 'glare': 4786, 'disregard': 4787, 'linear': 4788, 'turd': 4789, 'clinic': 4790, 'fifth': 4791, 'boyer': 4792, 'wrestler': 4793, 'magician': 4794, 'frog': 4795, 'audrey': 4796, 'abund': 4797, 'highway': 4798, 'oppon': 4799, 'shorter': 4800, 'knightley': 4801, 'gunga': 4802, 'styliz': 4803, 'leather': 4804, 'huston': 4805, 'affleck': 4806, 'tack': 4807, 'peer': 4808, 'ideolog': 4809, 'swept': 4810, 'smack': 4811, 'nightclub': 4812, 'feminin': 4813, 'howl': 4814, 'cuban': 4815, 'bogu': 4816, 'tara': 4817, 'summar': 4818, 'lighter': 4819, 'corn': 4820, 'snatch': 4821, 'boo': 4822, 'lifeless': 4823, '1991': 4824, 'monument': 4825, 'senat': 4826, 'collector': 4827, 'bastard': 4828, 'compris': 4829, '4th': 4830, 'potter': 4831, '1994': 4832, 'spine': 4833, 'braveheart': 4834, 'evolut': 4835, 'conrad': 4836, 'energet': 4837, 'spawn': 4838, 'btw': 4839, 'deliver': 4840, 'phenomen': 4841, 'greet': 4842, 'lavish': 4843, 'client': 4844, 'newer': 4845, 'sleaz': 4846, 'goldsworthi': 4847, 'plate': 4848, 'whack': 4849, 'cemeteri': 4850, 'durat': 4851, 'chip': 4852, 'toe': 4853, 'mitch': 4854, 'uniformli': 4855, 'breakdown': 4856, 'moe': 4857, 'einstein': 4858, 'salman': 4859, 'spectacl': 4860, '1974': 4861, 'ie': 4862, 'belli': 4863, 'occup': 4864, 'healthi': 4865, 'judd': 4866, 'fluid': 4867, 'nina': 4868, 'outright': 4869, 'embark': 4870, 'ol': 4871, 'inaccuraci': 4872, 'creek': 4873, 'eleven': 4874, 'kent': 4875, 'lex': 4876, 'luxuri': 4877, 'sorrow': 4878, 'clara': 4879, 'cecil': 4880, 'undead': 4881, 'appl': 4882, 'alleg': 4883, 'replay': 4884, 'undertak': 4885, 'jule': 4886, 'firmli': 4887, 'neatli': 4888, 'gilliam': 4889, 'signal': 4890, 'wtf': 4891, 'mcqueen': 4892, 'jedi': 4893, 'bulk': 4894, 'historian': 4895, 'jare': 4896, 'bori': 4897, 'jam': 4898, 'constitut': 4899, 'liu': 4900, 'pronounc': 4901, 'armstrong': 4902, 'trauma': 4903, 'capot': 4904, '1977': 4905, 'randolph': 4906, 'kazan': 4907, 'evelyn': 4908, 'inclus': 4909, 'conan': 4910, 'poker': 4911, 'kiddi': 4912, 'subtli': 4913, 'knee': 4914, 'sacrif': 4915, 'ash': 4916, 'cape': 4917, 'groan': 4918, 'blur': 4919, 'unsuspect': 4920, 'palm': 4921, 'porter': 4922, 'pioneer': 4923, 'unattract': 4924, 'propheci': 4925, 'comprehens': 4926, 'tokyo': 4927, 'relentless': 4928, 'curtain': 4929, 'meal': 4930, 'lauren': 4931, 'goldblum': 4932, 'rosario': 4933, 'truman': 4934, 'walt': 4935, 'inaccur': 4936, 'id': 4937, 'mum': 4938, 'miami': 4939, 'vain': 4940, 'decapit': 4941, 'roar': 4942, 'antonio': 4943, 'galaxi': 4944, 'bait': 4945, 'comb': 4946, 'basket': 4947, 'vignett': 4948, 'lanc': 4949, 'spray': 4950, 'carmen': 4951, 'paula': 4952, 'abound': 4953, 'congratul': 4954, 'pepper': 4955, '1985': 4956, 'forgiven': 4957, 'aussi': 4958, 'fruit': 4959, 'sidewalk': 4960, 'genet': 4961, 'bsg': 4962, 'miniseri': 4963, 'macabr': 4964, 'omin': 4965, 'incorrect': 4966, 'weaker': 4967, 'scarfac': 4968, 'orchestr': 4969, 'sparkl': 4970, 'bach': 4971, 'playboy': 4972, 'jill': 4973, 'epitom': 4974, 'rapidli': 4975, 'frontal': 4976, 'vastli': 4977, 'ghetto': 4978, 'cypher': 4979, 'modest': 4980, 'detach': 4981, 'weari': 4982, 'motorcycl': 4983, 'turtl': 4984, 'drone': 4985, 'optimist': 4986, 'verg': 4987, '21st': 4988, 'hackman': 4989, 'dubiou': 4990, 'monti': 4991, 'substanti': 4992, 'spill': 4993, 'assort': 4994, 'bravo': 4995, 'reincarn': 4996, 'sophi': 4997, 'evan': 4998, 'ingrid': 4999}\n"
     ]
    }
   ],
   "source": [
    "# TODO: Use this space to determine the five most frequently appearing words in the training set.\n",
    "print(word_dict)"
   ]
  },
  {
   "cell_type": "markdown",
   "metadata": {},
   "source": [
    "### Save `word_dict`\n",
    "\n",
    "Later on when we construct an endpoint which processes a submitted review we will need to make use of the `word_dict` which we have created. As such, we will save it to a file now for future use."
   ]
  },
  {
   "cell_type": "code",
   "execution_count": 16,
   "metadata": {},
   "outputs": [],
   "source": [
    "data_dir = '../data/pytorch' # The folder we will use for storing data\n",
    "if not os.path.exists(data_dir): # Make sure that the folder exists\n",
    "    os.makedirs(data_dir)"
   ]
  },
  {
   "cell_type": "code",
   "execution_count": 17,
   "metadata": {},
   "outputs": [],
   "source": [
    "with open(os.path.join(data_dir, 'word_dict.pkl'), \"wb\") as f:\n",
    "    pickle.dump(word_dict, f)"
   ]
  },
  {
   "cell_type": "markdown",
   "metadata": {},
   "source": [
    "### Transform the reviews\n",
    "\n",
    "Now that we have our word dictionary which allows us to transform the words appearing in the reviews into integers, it is time to make use of it and convert our reviews to their integer sequence representation, making sure to pad or truncate to a fixed length, which in our case is `500`."
   ]
  },
  {
   "cell_type": "code",
   "execution_count": 18,
   "metadata": {},
   "outputs": [],
   "source": [
    "def convert_and_pad(word_dict, sentence, pad=500):\n",
    "    NOWORD = 0 # We will use 0 to represent the 'no word' category\n",
    "    INFREQ = 1 # and we use 1 to represent the infrequent words, i.e., words not appearing in word_dict\n",
    "    \n",
    "    working_sentence = [NOWORD] * pad\n",
    "    \n",
    "    for word_index, word in enumerate(sentence[:pad]):\n",
    "        if word in word_dict:\n",
    "            working_sentence[word_index] = word_dict[word]\n",
    "        else:\n",
    "            working_sentence[word_index] = INFREQ\n",
    "            \n",
    "    return working_sentence, min(len(sentence), pad)\n",
    "\n",
    "def convert_and_pad_data(word_dict, data, pad=500):\n",
    "    result = []\n",
    "    lengths = []\n",
    "    \n",
    "    for sentence in data:\n",
    "        converted, leng = convert_and_pad(word_dict, sentence, pad)\n",
    "        result.append(converted)\n",
    "        lengths.append(leng)\n",
    "        \n",
    "    return np.array(result), np.array(lengths)"
   ]
  },
  {
   "cell_type": "code",
   "execution_count": 19,
   "metadata": {},
   "outputs": [],
   "source": [
    "train_X, train_X_len = convert_and_pad_data(word_dict, train_X)\n",
    "test_X, test_X_len = convert_and_pad_data(word_dict, test_X)"
   ]
  },
  {
   "cell_type": "markdown",
   "metadata": {},
   "source": [
    "As a quick check to make sure that things are working as intended, check to see what one of the reviews in the training set looks like after having been processeed. Does this look reasonable? What is the length of a review in the training set?"
   ]
  },
  {
   "cell_type": "code",
   "execution_count": 20,
   "metadata": {},
   "outputs": [
    {
     "name": "stdout",
     "output_type": "stream",
     "text": [
      "[ 490   13 1068  120   88  267 1914 2025   20  820  310    1 1687  714\n",
      " 1914   53  927  144 3377  257  137  161 1914  753  588  257  344 1093\n",
      "  264 1539   38  783 3113  772   22  257  139   62  483 1289  357  302\n",
      "    3  521  378  173 1373  601  529  105  467  131 1370    1    3  783\n",
      "  369  448  310 1304  566 3638  467  490   13   40  233   74   59 1914\n",
      "   53    3  615  460 1687   40 1891 4860  275 2286 1758    3  564  567\n",
      " 1104  197  198  317  299  860 1880   26 1687  546    2  410   87   86\n",
      "   47    1    2   17  218   12    2  123  624   83    0    0    0    0\n",
      "    0    0    0    0    0    0    0    0    0    0    0    0    0    0\n",
      "    0    0    0    0    0    0    0    0    0    0    0    0    0    0\n",
      "    0    0    0    0    0    0    0    0    0    0    0    0    0    0\n",
      "    0    0    0    0    0    0    0    0    0    0    0    0    0    0\n",
      "    0    0    0    0    0    0    0    0    0    0    0    0    0    0\n",
      "    0    0    0    0    0    0    0    0    0    0    0    0    0    0\n",
      "    0    0    0    0    0    0    0    0    0    0    0    0    0    0\n",
      "    0    0    0    0    0    0    0    0    0    0    0    0    0    0\n",
      "    0    0    0    0    0    0    0    0    0    0    0    0    0    0\n",
      "    0    0    0    0    0    0    0    0    0    0    0    0    0    0\n",
      "    0    0    0    0    0    0    0    0    0    0    0    0    0    0\n",
      "    0    0    0    0    0    0    0    0    0    0    0    0    0    0\n",
      "    0    0    0    0    0    0    0    0    0    0    0    0    0    0\n",
      "    0    0    0    0    0    0    0    0    0    0    0    0    0    0\n",
      "    0    0    0    0    0    0    0    0    0    0    0    0    0    0\n",
      "    0    0    0    0    0    0    0    0    0    0    0    0    0    0\n",
      "    0    0    0    0    0    0    0    0    0    0    0    0    0    0\n",
      "    0    0    0    0    0    0    0    0    0    0    0    0    0    0\n",
      "    0    0    0    0    0    0    0    0    0    0    0    0    0    0\n",
      "    0    0    0    0    0    0    0    0    0    0    0    0    0    0\n",
      "    0    0    0    0    0    0    0    0    0    0    0    0    0    0\n",
      "    0    0    0    0    0    0    0    0    0    0    0    0    0    0\n",
      "    0    0    0    0    0    0    0    0    0    0    0    0    0    0\n",
      "    0    0    0    0    0    0    0    0    0    0    0    0    0    0\n",
      "    0    0    0    0    0    0    0    0    0    0    0    0    0    0\n",
      "    0    0    0    0    0    0    0    0    0    0    0    0    0    0\n",
      "    0    0    0    0    0    0    0    0    0    0    0    0    0    0\n",
      "    0    0    0    0    0    0    0    0    0    0]\n"
     ]
    }
   ],
   "source": [
    "# Use this cell to examine one of the processed reviews to make sure everything is working as intended.\n",
    "print(train_X[7])"
   ]
  },
  {
   "cell_type": "markdown",
   "metadata": {},
   "source": [
    "**Question:** In the cells above we use the `preprocess_data` and `convert_and_pad_data` methods to process both the training and testing set. Why or why not might this be a problem?"
   ]
  },
  {
   "cell_type": "markdown",
   "metadata": {},
   "source": [
    "**Answer:** Preprocessing is done on both train and test data and is needed for normalizing the data. convert_and_pad_data is needed to standardize data as each review varies in length.Also, All Neural Networks requires inputs that have same size and shape.In order to have inputs with same size, we need to have this method."
   ]
  },
  {
   "cell_type": "markdown",
   "metadata": {},
   "source": [
    "## Step 3: Upload the data to S3\n",
    "\n",
    "As in the XGBoost notebook, we will need to upload the training dataset to S3 in order for our training code to access it. For now we will save it locally and we will upload to S3 later on.\n",
    "\n",
    "### Save the processed training dataset locally\n",
    "\n",
    "It is important to note the format of the data that we are saving as we will need to know it when we write the training code. In our case, each row of the dataset has the form `label`, `length`, `review[500]` where `review[500]` is a sequence of `500` integers representing the words in the review."
   ]
  },
  {
   "cell_type": "code",
   "execution_count": 21,
   "metadata": {},
   "outputs": [],
   "source": [
    "import pandas as pd\n",
    "    \n",
    "pd.concat([pd.DataFrame(train_y), pd.DataFrame(train_X_len), pd.DataFrame(train_X)], axis=1) \\\n",
    "        .to_csv(os.path.join(data_dir, 'train.csv'), header=False, index=False)"
   ]
  },
  {
   "cell_type": "markdown",
   "metadata": {},
   "source": [
    "### Uploading the training data\n",
    "\n",
    "\n",
    "Next, we need to upload the training data to the SageMaker default S3 bucket so that we can provide access to it while training our model."
   ]
  },
  {
   "cell_type": "code",
   "execution_count": 22,
   "metadata": {},
   "outputs": [],
   "source": [
    "import sagemaker\n",
    "\n",
    "sagemaker_session = sagemaker.Session()\n",
    "\n",
    "bucket = sagemaker_session.default_bucket()\n",
    "prefix = 'sagemaker/sentiment_rnn'\n",
    "\n",
    "role = sagemaker.get_execution_role()"
   ]
  },
  {
   "cell_type": "code",
   "execution_count": 23,
   "metadata": {},
   "outputs": [],
   "source": [
    "input_data = sagemaker_session.upload_data(path=data_dir, bucket=bucket, key_prefix=prefix)"
   ]
  },
  {
   "cell_type": "markdown",
   "metadata": {},
   "source": [
    "**NOTE:** The cell above uploads the entire contents of our data directory. This includes the `word_dict.pkl` file. This is fortunate as we will need this later on when we create an endpoint that accepts an arbitrary review. For now, we will just take note of the fact that it resides in the data directory (and so also in the S3 training bucket) and that we will need to make sure it gets saved in the model directory."
   ]
  },
  {
   "cell_type": "markdown",
   "metadata": {},
   "source": [
    "## Step 4: Build and Train the PyTorch Model\n",
    "\n",
    "In the XGBoost notebook we discussed what a model is in the SageMaker framework. In particular, a model comprises three objects\n",
    "\n",
    " - Model Artifacts,\n",
    " - Training Code, and\n",
    " - Inference Code,\n",
    " \n",
    "each of which interact with one another. In the XGBoost example we used training and inference code that was provided by Amazon. Here we will still be using containers provided by Amazon with the added benefit of being able to include our own custom code.\n",
    "\n",
    "We will start by implementing our own neural network in PyTorch along with a training script. For the purposes of this project we have provided the necessary model object in the `model.py` file, inside of the `train` folder. You can see the provided implementation by running the cell below."
   ]
  },
  {
   "cell_type": "code",
   "execution_count": 24,
   "metadata": {},
   "outputs": [
    {
     "name": "stdout",
     "output_type": "stream",
     "text": [
      "\u001b[34mimport\u001b[39;49;00m \u001b[04m\u001b[36mtorch\u001b[39;49;00m\u001b[04m\u001b[36m.\u001b[39;49;00m\u001b[04m\u001b[36mnn\u001b[39;49;00m \u001b[34mas\u001b[39;49;00m \u001b[04m\u001b[36mnn\u001b[39;49;00m\n",
      "\n",
      "\u001b[34mclass\u001b[39;49;00m \u001b[04m\u001b[32mLSTMClassifier\u001b[39;49;00m(nn.Module):\n",
      "    \u001b[33m\"\"\"\u001b[39;49;00m\n",
      "\u001b[33m    This is the simple RNN model we will be using to perform Sentiment Analysis.\u001b[39;49;00m\n",
      "\u001b[33m    \"\"\"\u001b[39;49;00m\n",
      "\n",
      "    \u001b[34mdef\u001b[39;49;00m \u001b[32m__init__\u001b[39;49;00m(\u001b[36mself\u001b[39;49;00m, embedding_dim, hidden_dim, vocab_size):\n",
      "        \u001b[33m\"\"\"\u001b[39;49;00m\n",
      "\u001b[33m        Initialize the model by settingg up the various layers.\u001b[39;49;00m\n",
      "\u001b[33m        \"\"\"\u001b[39;49;00m\n",
      "        \u001b[36msuper\u001b[39;49;00m(LSTMClassifier, \u001b[36mself\u001b[39;49;00m).\u001b[32m__init__\u001b[39;49;00m()\n",
      "\n",
      "        \u001b[36mself\u001b[39;49;00m.embedding = nn.Embedding(vocab_size, embedding_dim, padding_idx=\u001b[34m0\u001b[39;49;00m)\n",
      "        \u001b[36mself\u001b[39;49;00m.lstm = nn.LSTM(embedding_dim, hidden_dim)\n",
      "        \u001b[36mself\u001b[39;49;00m.dense = nn.Linear(in_features=hidden_dim, out_features=\u001b[34m1\u001b[39;49;00m)\n",
      "        \u001b[36mself\u001b[39;49;00m.sig = nn.Sigmoid()\n",
      "        \n",
      "        \u001b[36mself\u001b[39;49;00m.word_dict = \u001b[34mNone\u001b[39;49;00m\n",
      "\n",
      "    \u001b[34mdef\u001b[39;49;00m \u001b[32mforward\u001b[39;49;00m(\u001b[36mself\u001b[39;49;00m, x):\n",
      "        \u001b[33m\"\"\"\u001b[39;49;00m\n",
      "\u001b[33m        Perform a forward pass of our model on some input.\u001b[39;49;00m\n",
      "\u001b[33m        \"\"\"\u001b[39;49;00m\n",
      "        x = x.t()\n",
      "        lengths = x[\u001b[34m0\u001b[39;49;00m,:]\n",
      "        reviews = x[\u001b[34m1\u001b[39;49;00m:,:]\n",
      "        embeds = \u001b[36mself\u001b[39;49;00m.embedding(reviews)\n",
      "        lstm_out, _ = \u001b[36mself\u001b[39;49;00m.lstm(embeds)\n",
      "        out = \u001b[36mself\u001b[39;49;00m.dense(lstm_out)\n",
      "        out = out[lengths - \u001b[34m1\u001b[39;49;00m, \u001b[36mrange\u001b[39;49;00m(\u001b[36mlen\u001b[39;49;00m(lengths))]\n",
      "        \u001b[34mreturn\u001b[39;49;00m \u001b[36mself\u001b[39;49;00m.sig(out.squeeze())\n"
     ]
    }
   ],
   "source": [
    "!pygmentize train/model.py"
   ]
  },
  {
   "cell_type": "markdown",
   "metadata": {},
   "source": [
    "The important takeaway from the implementation provided is that there are three parameters that we may wish to tweak to improve the performance of our model. These are the embedding dimension, the hidden dimension and the size of the vocabulary. We will likely want to make these parameters configurable in the training script so that if we wish to modify them we do not need to modify the script itself. We will see how to do this later on. To start we will write some of the training code in the notebook so that we can more easily diagnose any issues that arise.\n",
    "\n",
    "First we will load a small portion of the training data set to use as a sample. It would be very time consuming to try and train the model completely in the notebook as we do not have access to a gpu and the compute instance that we are using is not particularly powerful. However, we can work on a small bit of the data to get a feel for how our training script is behaving."
   ]
  },
  {
   "cell_type": "code",
   "execution_count": 25,
   "metadata": {},
   "outputs": [],
   "source": [
    "import torch\n",
    "import torch.utils.data\n",
    "\n",
    "# Read in only the first 250 rows\n",
    "train_sample = pd.read_csv(os.path.join(data_dir, 'train.csv'), header=None, names=None, nrows=250)\n",
    "\n",
    "# Turn the input pandas dataframe into tensors\n",
    "train_sample_y = torch.from_numpy(train_sample[[0]].values).float().squeeze()\n",
    "train_sample_X = torch.from_numpy(train_sample.drop([0], axis=1).values).long()\n",
    "\n",
    "# Build the dataset\n",
    "train_sample_ds = torch.utils.data.TensorDataset(train_sample_X, train_sample_y)\n",
    "# Build the dataloader\n",
    "train_sample_dl = torch.utils.data.DataLoader(train_sample_ds, batch_size=50)"
   ]
  },
  {
   "cell_type": "markdown",
   "metadata": {},
   "source": [
    "### (TODO) Writing the training method\n",
    "\n",
    "Next we need to write the training code itself. This should be very similar to training methods that you have written before to train PyTorch models. We will leave any difficult aspects such as model saving / loading and parameter loading until a little later."
   ]
  },
  {
   "cell_type": "code",
   "execution_count": 26,
   "metadata": {},
   "outputs": [],
   "source": [
    "def train(model, train_loader, epochs, optimizer, loss_fn, device):\n",
    "    for epoch in range(1, epochs + 1):\n",
    "        model.train()\n",
    "        total_loss = 0\n",
    "        for batch in train_loader:         \n",
    "            batch_X, batch_y = batch\n",
    "            \n",
    "            batch_X = batch_X.to(device)\n",
    "            batch_y = batch_y.to(device)\n",
    "            \n",
    "            # TODO: Complete this train method to train the model provided.\n",
    "            optimizer.zero_grad()\n",
    "            out = model.forward(batch_X)\n",
    "            loss = loss_fn(out, batch_y)\n",
    "            loss.backward()\n",
    "            optimizer.step()           \n",
    "            total_loss += loss.data.item()\n",
    "        print(\"Epoch: {}, BCELoss: {}\".format(epoch, total_loss / len(train_loader)))"
   ]
  },
  {
   "cell_type": "markdown",
   "metadata": {},
   "source": [
    "Supposing we have the training method above, we will test that it is working by writing a bit of code in the notebook that executes our training method on the small sample training set that we loaded earlier. The reason for doing this in the notebook is so that we have an opportunity to fix any errors that arise early when they are easier to diagnose."
   ]
  },
  {
   "cell_type": "code",
   "execution_count": 27,
   "metadata": {},
   "outputs": [
    {
     "name": "stdout",
     "output_type": "stream",
     "text": [
      "Epoch: 1, BCELoss: 0.6956740140914917\n",
      "Epoch: 2, BCELoss: 0.6866450667381286\n",
      "Epoch: 3, BCELoss: 0.6790154933929443\n",
      "Epoch: 4, BCELoss: 0.6705753087997437\n",
      "Epoch: 5, BCELoss: 0.6602719783782959\n"
     ]
    }
   ],
   "source": [
    "import torch.optim as optim\n",
    "from train.model import LSTMClassifier\n",
    "\n",
    "device = torch.device(\"cuda\" if torch.cuda.is_available() else \"cpu\")\n",
    "model = LSTMClassifier(32, 100, 5000).to(device)\n",
    "optimizer = optim.Adam(model.parameters())\n",
    "loss_fn = torch.nn.BCELoss()\n",
    "\n",
    "train(model, train_sample_dl, 5, optimizer, loss_fn, device)"
   ]
  },
  {
   "cell_type": "markdown",
   "metadata": {},
   "source": [
    "In order to construct a PyTorch model using SageMaker we must provide SageMaker with a training script. We may optionally include a directory which will be copied to the container and from which our training code will be run. When the training container is executed it will check the uploaded directory (if there is one) for a `requirements.txt` file and install any required Python libraries, after which the training script will be run."
   ]
  },
  {
   "cell_type": "markdown",
   "metadata": {},
   "source": [
    "### (TODO) Training the model\n",
    "\n",
    "When a PyTorch model is constructed in SageMaker, an entry point must be specified. This is the Python file which will be executed when the model is trained. Inside of the `train` directory is a file called `train.py` which has been provided and which contains most of the necessary code to train our model. The only thing that is missing is the implementation of the `train()` method which you wrote earlier in this notebook.\n",
    "\n",
    "**TODO**: Copy the `train()` method written above and paste it into the `train/train.py` file where required.\n",
    "\n",
    "The way that SageMaker passes hyperparameters to the training script is by way of arguments. These arguments can then be parsed and used in the training script. To see how this is done take a look at the provided `train/train.py` file."
   ]
  },
  {
   "cell_type": "code",
   "execution_count": 28,
   "metadata": {},
   "outputs": [],
   "source": [
    "from sagemaker.pytorch import PyTorch\n",
    "\n",
    "estimator = PyTorch(entry_point=\"train.py\",\n",
    "                    source_dir=\"train\",\n",
    "                    role=role,\n",
    "                    framework_version='0.4.0',\n",
    "                    train_instance_count=1,\n",
    "                    train_instance_type='ml.p2.xlarge',\n",
    "                    hyperparameters={\n",
    "                        'epochs': 10,\n",
    "                        'hidden_dim': 200,\n",
    "                    })"
   ]
  },
  {
   "cell_type": "code",
   "execution_count": 29,
   "metadata": {},
   "outputs": [
    {
     "name": "stderr",
     "output_type": "stream",
     "text": [
      "'create_image_uri' will be deprecated in favor of 'ImageURIProvider' class in SageMaker Python SDK v2.\n",
      "'s3_input' class will be renamed to 'TrainingInput' in SageMaker Python SDK v2.\n",
      "'create_image_uri' will be deprecated in favor of 'ImageURIProvider' class in SageMaker Python SDK v2.\n"
     ]
    },
    {
     "name": "stdout",
     "output_type": "stream",
     "text": [
      "2020-12-28 14:02:16 Starting - Starting the training job...\n",
      "2020-12-28 14:02:17 Starting - Launching requested ML instances......\n",
      "2020-12-28 14:03:37 Starting - Preparing the instances for training.........\n",
      "2020-12-28 14:04:47 Downloading - Downloading input data...\n",
      "2020-12-28 14:05:25 Training - Downloading the training image..\u001b[34mbash: cannot set terminal process group (-1): Inappropriate ioctl for device\u001b[0m\n",
      "\u001b[34mbash: no job control in this shell\u001b[0m\n",
      "\u001b[34m2020-12-28 14:05:58,117 sagemaker-containers INFO     Imported framework sagemaker_pytorch_container.training\u001b[0m\n",
      "\u001b[34m2020-12-28 14:05:58,142 sagemaker_pytorch_container.training INFO     Block until all host DNS lookups succeed.\u001b[0m\n",
      "\u001b[34m2020-12-28 14:05:58,145 sagemaker_pytorch_container.training INFO     Invoking user training script.\u001b[0m\n",
      "\u001b[34m2020-12-28 14:05:58,430 sagemaker-containers INFO     Module train does not provide a setup.py. \u001b[0m\n",
      "\u001b[34mGenerating setup.py\u001b[0m\n",
      "\u001b[34m2020-12-28 14:05:58,430 sagemaker-containers INFO     Generating setup.cfg\u001b[0m\n",
      "\u001b[34m2020-12-28 14:05:58,430 sagemaker-containers INFO     Generating MANIFEST.in\u001b[0m\n",
      "\u001b[34m2020-12-28 14:05:58,430 sagemaker-containers INFO     Installing module with the following command:\u001b[0m\n",
      "\u001b[34m/usr/bin/python -m pip install -U . -r requirements.txt\u001b[0m\n",
      "\u001b[34mProcessing /opt/ml/code\u001b[0m\n",
      "\u001b[34mCollecting pandas (from -r requirements.txt (line 1))\n",
      "  Downloading https://files.pythonhosted.org/packages/74/24/0cdbf8907e1e3bc5a8da03345c23cbed7044330bb8f73bb12e711a640a00/pandas-0.24.2-cp35-cp35m-manylinux1_x86_64.whl (10.0MB)\u001b[0m\n",
      "\u001b[34mCollecting numpy (from -r requirements.txt (line 2))\u001b[0m\n",
      "\u001b[34m  Downloading https://files.pythonhosted.org/packages/b5/36/88723426b4ff576809fec7d73594fe17a35c27f8d01f93637637a29ae25b/numpy-1.18.5-cp35-cp35m-manylinux1_x86_64.whl (19.9MB)\u001b[0m\n",
      "\n",
      "2020-12-28 14:05:57 Training - Training image download completed. Training in progress.\u001b[34mCollecting nltk (from -r requirements.txt (line 3))\n",
      "  Downloading https://files.pythonhosted.org/packages/92/75/ce35194d8e3022203cca0d2f896dbb88689f9b3fce8e9f9cff942913519d/nltk-3.5.zip (1.4MB)\u001b[0m\n",
      "\u001b[34mCollecting beautifulsoup4 (from -r requirements.txt (line 4))\n",
      "  Downloading https://files.pythonhosted.org/packages/d1/41/e6495bd7d3781cee623ce23ea6ac73282a373088fcd0ddc809a047b18eae/beautifulsoup4-4.9.3-py3-none-any.whl (115kB)\u001b[0m\n",
      "\u001b[34mCollecting html5lib (from -r requirements.txt (line 5))\n",
      "  Downloading https://files.pythonhosted.org/packages/6c/dd/a834df6482147d48e225a49515aabc28974ad5a4ca3215c18a882565b028/html5lib-1.1-py2.py3-none-any.whl (112kB)\u001b[0m\n",
      "\u001b[34mCollecting pandas-compat (from -r requirements.txt (line 6))\n",
      "  Downloading https://files.pythonhosted.org/packages/ce/8d/1b8899ea7522590ec05d57f7fe3cb86044603032c5b03f3a08d0c3566828/pandas_compat-0.1.1-py2.py3-none-any.whl\u001b[0m\n",
      "\u001b[34mCollecting pytz>=2011k (from pandas->-r requirements.txt (line 1))\n",
      "  Downloading https://files.pythonhosted.org/packages/89/06/2c2d3034b4d6bf22f2a4ae546d16925898658a33b4400cfb7e2c1e2871a3/pytz-2020.5-py2.py3-none-any.whl (510kB)\u001b[0m\n",
      "\u001b[34mRequirement already satisfied, skipping upgrade: python-dateutil>=2.5.0 in /usr/local/lib/python3.5/dist-packages (from pandas->-r requirements.txt (line 1)) (2.7.5)\u001b[0m\n",
      "\u001b[34mRequirement already satisfied, skipping upgrade: click in /usr/local/lib/python3.5/dist-packages (from nltk->-r requirements.txt (line 3)) (7.0)\u001b[0m\n",
      "\u001b[34mCollecting joblib (from nltk->-r requirements.txt (line 3))\n",
      "  Downloading https://files.pythonhosted.org/packages/28/5c/cf6a2b65a321c4a209efcdf64c2689efae2cb62661f8f6f4bb28547cf1bf/joblib-0.14.1-py2.py3-none-any.whl (294kB)\u001b[0m\n",
      "\u001b[34mCollecting regex (from nltk->-r requirements.txt (line 3))\u001b[0m\n",
      "\u001b[34m  Downloading https://files.pythonhosted.org/packages/2e/e4/3447fed9ab29944333f48730ecff4dca92f0868c5b188d6ab2b2078e32c2/regex-2020.11.13.tar.gz (694kB)\u001b[0m\n",
      "\u001b[34mCollecting tqdm (from nltk->-r requirements.txt (line 3))\n",
      "  Downloading https://files.pythonhosted.org/packages/05/bb/9403e1f30ed060e16835c9b275620ca89191a41ccc2b995b88efbc32dfd9/tqdm-4.55.0-py2.py3-none-any.whl (68kB)\u001b[0m\n",
      "\u001b[34mCollecting soupsieve>1.2; python_version >= \"3.0\" (from beautifulsoup4->-r requirements.txt (line 4))\n",
      "  Downloading https://files.pythonhosted.org/packages/02/fb/1c65691a9aeb7bd6ac2aa505b84cb8b49ac29c976411c6ab3659425e045f/soupsieve-2.1-py3-none-any.whl\u001b[0m\n",
      "\u001b[34mCollecting webencodings (from html5lib->-r requirements.txt (line 5))\n",
      "  Downloading https://files.pythonhosted.org/packages/f4/24/2a3e3df732393fed8b3ebf2ec078f05546de641fe1b667ee316ec1dcf3b7/webencodings-0.5.1-py2.py3-none-any.whl\u001b[0m\n",
      "\u001b[34mRequirement already satisfied, skipping upgrade: six>=1.9 in /usr/local/lib/python3.5/dist-packages (from html5lib->-r requirements.txt (line 5)) (1.11.0)\u001b[0m\n",
      "\u001b[34mBuilding wheels for collected packages: nltk, train, regex\n",
      "  Running setup.py bdist_wheel for nltk: started\u001b[0m\n",
      "\u001b[34m  Running setup.py bdist_wheel for nltk: finished with status 'done'\n",
      "  Stored in directory: /root/.cache/pip/wheels/ae/8c/3f/b1fe0ba04555b08b57ab52ab7f86023639a526d8bc8d384306\n",
      "  Running setup.py bdist_wheel for train: started\n",
      "  Running setup.py bdist_wheel for train: finished with status 'done'\n",
      "  Stored in directory: /tmp/pip-ephem-wheel-cache-7vfzqhqz/wheels/35/24/16/37574d11bf9bde50616c67372a334f94fa8356bc7164af8ca3\n",
      "  Running setup.py bdist_wheel for regex: started\u001b[0m\n",
      "\u001b[34m  Running setup.py bdist_wheel for regex: finished with status 'done'\n",
      "  Stored in directory: /root/.cache/pip/wheels/27/f6/66/a4243e485a0ebc73dc59033ae26c48e82526f77dbfe158ac59\u001b[0m\n",
      "\u001b[34mSuccessfully built nltk train regex\u001b[0m\n",
      "\u001b[34mInstalling collected packages: numpy, pytz, pandas, joblib, regex, tqdm, nltk, soupsieve, beautifulsoup4, webencodings, html5lib, pandas-compat, train\n",
      "  Found existing installation: numpy 1.15.4\n",
      "    Uninstalling numpy-1.15.4:\u001b[0m\n",
      "\u001b[34m      Successfully uninstalled numpy-1.15.4\u001b[0m\n",
      "\u001b[34mSuccessfully installed beautifulsoup4-4.9.3 html5lib-1.1 joblib-0.14.1 nltk-3.5 numpy-1.18.5 pandas-0.24.2 pandas-compat-0.1.1 pytz-2020.5 regex-2020.11.13 soupsieve-2.1 tqdm-4.55.0 train-1.0.0 webencodings-0.5.1\u001b[0m\n",
      "\u001b[34mYou are using pip version 18.1, however version 20.3.3 is available.\u001b[0m\n",
      "\u001b[34mYou should consider upgrading via the 'pip install --upgrade pip' command.\u001b[0m\n",
      "\u001b[34m2020-12-28 14:06:21,271 sagemaker-containers INFO     Invoking user script\n",
      "\u001b[0m\n",
      "\u001b[34mTraining Env:\n",
      "\u001b[0m\n",
      "\u001b[34m{\n",
      "    \"input_config_dir\": \"/opt/ml/input/config\",\n",
      "    \"channel_input_dirs\": {\n",
      "        \"training\": \"/opt/ml/input/data/training\"\n",
      "    },\n",
      "    \"user_entry_point\": \"train.py\",\n",
      "    \"hosts\": [\n",
      "        \"algo-1\"\n",
      "    ],\n",
      "    \"model_dir\": \"/opt/ml/model\",\n",
      "    \"input_dir\": \"/opt/ml/input\",\n",
      "    \"current_host\": \"algo-1\",\n",
      "    \"input_data_config\": {\n",
      "        \"training\": {\n",
      "            \"RecordWrapperType\": \"None\",\n",
      "            \"S3DistributionType\": \"FullyReplicated\",\n",
      "            \"TrainingInputMode\": \"File\"\n",
      "        }\n",
      "    },\n",
      "    \"network_interface_name\": \"eth0\",\n",
      "    \"output_dir\": \"/opt/ml/output\",\n",
      "    \"log_level\": 20,\n",
      "    \"output_data_dir\": \"/opt/ml/output/data\",\n",
      "    \"num_cpus\": 4,\n",
      "    \"output_intermediate_dir\": \"/opt/ml/output/intermediate\",\n",
      "    \"framework_module\": \"sagemaker_pytorch_container.training:main\",\n",
      "    \"additional_framework_parameters\": {},\n",
      "    \"hyperparameters\": {\n",
      "        \"epochs\": 10,\n",
      "        \"hidden_dim\": 200\n",
      "    },\n",
      "    \"module_name\": \"train\",\n",
      "    \"num_gpus\": 1,\n",
      "    \"job_name\": \"sagemaker-pytorch-2020-12-28-14-02-15-641\",\n",
      "    \"module_dir\": \"s3://sagemaker-us-east-2-449657068656/sagemaker-pytorch-2020-12-28-14-02-15-641/source/sourcedir.tar.gz\",\n",
      "    \"resource_config\": {\n",
      "        \"current_host\": \"algo-1\",\n",
      "        \"network_interface_name\": \"eth0\",\n",
      "        \"hosts\": [\n",
      "            \"algo-1\"\n",
      "        ]\n",
      "    }\u001b[0m\n",
      "\u001b[34m}\n",
      "\u001b[0m\n",
      "\u001b[34mEnvironment variables:\n",
      "\u001b[0m\n",
      "\u001b[34mSM_INPUT_DIR=/opt/ml/input\u001b[0m\n",
      "\u001b[34mSM_TRAINING_ENV={\"additional_framework_parameters\":{},\"channel_input_dirs\":{\"training\":\"/opt/ml/input/data/training\"},\"current_host\":\"algo-1\",\"framework_module\":\"sagemaker_pytorch_container.training:main\",\"hosts\":[\"algo-1\"],\"hyperparameters\":{\"epochs\":10,\"hidden_dim\":200},\"input_config_dir\":\"/opt/ml/input/config\",\"input_data_config\":{\"training\":{\"RecordWrapperType\":\"None\",\"S3DistributionType\":\"FullyReplicated\",\"TrainingInputMode\":\"File\"}},\"input_dir\":\"/opt/ml/input\",\"job_name\":\"sagemaker-pytorch-2020-12-28-14-02-15-641\",\"log_level\":20,\"model_dir\":\"/opt/ml/model\",\"module_dir\":\"s3://sagemaker-us-east-2-449657068656/sagemaker-pytorch-2020-12-28-14-02-15-641/source/sourcedir.tar.gz\",\"module_name\":\"train\",\"network_interface_name\":\"eth0\",\"num_cpus\":4,\"num_gpus\":1,\"output_data_dir\":\"/opt/ml/output/data\",\"output_dir\":\"/opt/ml/output\",\"output_intermediate_dir\":\"/opt/ml/output/intermediate\",\"resource_config\":{\"current_host\":\"algo-1\",\"hosts\":[\"algo-1\"],\"network_interface_name\":\"eth0\"},\"user_entry_point\":\"train.py\"}\u001b[0m\n",
      "\u001b[34mSM_CURRENT_HOST=algo-1\u001b[0m\n",
      "\u001b[34mSM_USER_ENTRY_POINT=train.py\u001b[0m\n",
      "\u001b[34mSM_MODEL_DIR=/opt/ml/model\u001b[0m\n",
      "\u001b[34mPYTHONPATH=/usr/local/bin:/usr/lib/python35.zip:/usr/lib/python3.5:/usr/lib/python3.5/plat-x86_64-linux-gnu:/usr/lib/python3.5/lib-dynload:/usr/local/lib/python3.5/dist-packages:/usr/lib/python3/dist-packages\u001b[0m\n",
      "\u001b[34mSM_USER_ARGS=[\"--epochs\",\"10\",\"--hidden_dim\",\"200\"]\u001b[0m\n",
      "\u001b[34mSM_INPUT_DATA_CONFIG={\"training\":{\"RecordWrapperType\":\"None\",\"S3DistributionType\":\"FullyReplicated\",\"TrainingInputMode\":\"File\"}}\u001b[0m\n",
      "\u001b[34mSM_FRAMEWORK_PARAMS={}\u001b[0m\n",
      "\u001b[34mSM_INPUT_CONFIG_DIR=/opt/ml/input/config\u001b[0m\n",
      "\u001b[34mSM_HOSTS=[\"algo-1\"]\u001b[0m\n",
      "\u001b[34mSM_HPS={\"epochs\":10,\"hidden_dim\":200}\u001b[0m\n",
      "\u001b[34mSM_OUTPUT_DATA_DIR=/opt/ml/output/data\u001b[0m\n",
      "\u001b[34mSM_MODULE_DIR=s3://sagemaker-us-east-2-449657068656/sagemaker-pytorch-2020-12-28-14-02-15-641/source/sourcedir.tar.gz\u001b[0m\n",
      "\u001b[34mSM_HP_EPOCHS=10\u001b[0m\n",
      "\u001b[34mSM_CHANNELS=[\"training\"]\u001b[0m\n",
      "\u001b[34mSM_CHANNEL_TRAINING=/opt/ml/input/data/training\u001b[0m\n",
      "\u001b[34mSM_OUTPUT_INTERMEDIATE_DIR=/opt/ml/output/intermediate\u001b[0m\n",
      "\u001b[34mSM_NETWORK_INTERFACE_NAME=eth0\u001b[0m\n",
      "\u001b[34mSM_MODULE_NAME=train\u001b[0m\n",
      "\u001b[34mSM_NUM_CPUS=4\u001b[0m\n",
      "\u001b[34mSM_OUTPUT_DIR=/opt/ml/output\u001b[0m\n",
      "\u001b[34mSM_FRAMEWORK_MODULE=sagemaker_pytorch_container.training:main\u001b[0m\n",
      "\u001b[34mSM_RESOURCE_CONFIG={\"current_host\":\"algo-1\",\"hosts\":[\"algo-1\"],\"network_interface_name\":\"eth0\"}\u001b[0m\n",
      "\u001b[34mSM_NUM_GPUS=1\u001b[0m\n",
      "\u001b[34mSM_LOG_LEVEL=20\u001b[0m\n",
      "\u001b[34mSM_HP_HIDDEN_DIM=200\n",
      "\u001b[0m\n",
      "\u001b[34mInvoking script with the following command:\n",
      "\u001b[0m\n",
      "\u001b[34m/usr/bin/python -m train --epochs 10 --hidden_dim 200\n",
      "\n",
      "\u001b[0m\n",
      "\u001b[34mUsing device cuda.\u001b[0m\n",
      "\u001b[34mGet train data loader.\u001b[0m\n",
      "\u001b[34mModel loaded with embedding_dim 32, hidden_dim 200, vocab_size 5000.\u001b[0m\n",
      "\u001b[34mEpoch: 1, BCELoss: 0.6735524705478123\u001b[0m\n",
      "\u001b[34mEpoch: 2, BCELoss: 0.6056200472676024\u001b[0m\n",
      "\u001b[34mEpoch: 3, BCELoss: 0.51557991151907\u001b[0m\n",
      "\u001b[34mEpoch: 4, BCELoss: 0.4279486573472315\u001b[0m\n",
      "\u001b[34mEpoch: 5, BCELoss: 0.39447063390089543\u001b[0m\n",
      "\u001b[34mEpoch: 6, BCELoss: 0.38445071541533177\u001b[0m\n",
      "\u001b[34mEpoch: 7, BCELoss: 0.33550592709560784\u001b[0m\n",
      "\u001b[34mEpoch: 8, BCELoss: 0.3092038205691746\u001b[0m\n",
      "\u001b[34mEpoch: 9, BCELoss: 0.2893434525752554\u001b[0m\n",
      "\u001b[34mEpoch: 10, BCELoss: 0.2688298702848201\u001b[0m\n",
      "\u001b[34m2020-12-28 14:09:20,840 sagemaker-containers INFO     Reporting training SUCCESS\u001b[0m\n",
      "\n",
      "2020-12-28 14:09:32 Uploading - Uploading generated training model\n",
      "2020-12-28 14:09:32 Completed - Training job completed\n",
      "Training seconds: 285\n",
      "Billable seconds: 285\n"
     ]
    }
   ],
   "source": [
    "estimator.fit({'training': input_data})"
   ]
  },
  {
   "cell_type": "markdown",
   "metadata": {},
   "source": [
    "## Step 5: Testing the model\n",
    "\n",
    "As mentioned at the top of this notebook, we will be testing this model by first deploying it and then sending the testing data to the deployed endpoint. We will do this so that we can make sure that the deployed model is working correctly.\n",
    "\n",
    "## Step 6: Deploy the model for testing\n",
    "\n",
    "Now that we have trained our model, we would like to test it to see how it performs. Currently our model takes input of the form `review_length, review[500]` where `review[500]` is a sequence of `500` integers which describe the words present in the review, encoded using `word_dict`. Fortunately for us, SageMaker provides built-in inference code for models with simple inputs such as this.\n",
    "\n",
    "There is one thing that we need to provide, however, and that is a function which loads the saved model. This function must be called `model_fn()` and takes as its only parameter a path to the directory where the model artifacts are stored. This function must also be present in the python file which we specified as the entry point. In our case the model loading function has been provided and so no changes need to be made.\n",
    "\n",
    "**NOTE**: When the built-in inference code is run it must import the `model_fn()` method from the `train.py` file. This is why the training code is wrapped in a main guard ( ie, `if __name__ == '__main__':` )\n",
    "\n",
    "Since we don't need to change anything in the code that was uploaded during training, we can simply deploy the current model as-is.\n",
    "\n",
    "**NOTE:** When deploying a model you are asking SageMaker to launch an compute instance that will wait for data to be sent to it. As a result, this compute instance will continue to run until *you* shut it down. This is important to know since the cost of a deployed endpoint depends on how long it has been running for.\n",
    "\n",
    "In other words **If you are no longer using a deployed endpoint, shut it down!**\n",
    "\n",
    "**TODO:** Deploy the trained model."
   ]
  },
  {
   "cell_type": "code",
   "execution_count": 30,
   "metadata": {},
   "outputs": [
    {
     "name": "stderr",
     "output_type": "stream",
     "text": [
      "Parameter image will be renamed to image_uri in SageMaker Python SDK v2.\n",
      "'create_image_uri' will be deprecated in favor of 'ImageURIProvider' class in SageMaker Python SDK v2.\n"
     ]
    },
    {
     "name": "stdout",
     "output_type": "stream",
     "text": [
      "-------------!"
     ]
    }
   ],
   "source": [
    "# TODO: Deploy the trained model\n",
    "predictor = estimator.deploy(initial_instance_count = 1, instance_type = 'ml.m4.xlarge')"
   ]
  },
  {
   "cell_type": "markdown",
   "metadata": {},
   "source": [
    "## Step 7 - Use the model for testing\n",
    "\n",
    "Once deployed, we can read in the test data and send it off to our deployed model to get some results. Once we collect all of the results we can determine how accurate our model is."
   ]
  },
  {
   "cell_type": "code",
   "execution_count": 31,
   "metadata": {},
   "outputs": [],
   "source": [
    "test_X = pd.concat([pd.DataFrame(test_X_len), pd.DataFrame(test_X)], axis=1)"
   ]
  },
  {
   "cell_type": "code",
   "execution_count": 32,
   "metadata": {},
   "outputs": [],
   "source": [
    "# We split the data into chunks and send each chunk seperately, accumulating the results.\n",
    "\n",
    "def predict(data, rows=512):\n",
    "    split_array = np.array_split(data, int(data.shape[0] / float(rows) + 1))\n",
    "    predictions = np.array([])\n",
    "    for array in split_array:\n",
    "        predictions = np.append(predictions, predictor.predict(array))\n",
    "    \n",
    "    return predictions"
   ]
  },
  {
   "cell_type": "code",
   "execution_count": 33,
   "metadata": {},
   "outputs": [],
   "source": [
    "predictions = predict(test_X.values)\n",
    "predictions = [round(num) for num in predictions]"
   ]
  },
  {
   "cell_type": "code",
   "execution_count": 34,
   "metadata": {},
   "outputs": [
    {
     "data": {
      "text/plain": [
       "0.84736"
      ]
     },
     "execution_count": 34,
     "metadata": {},
     "output_type": "execute_result"
    }
   ],
   "source": [
    "from sklearn.metrics import accuracy_score\n",
    "accuracy_score(test_y, predictions)"
   ]
  },
  {
   "cell_type": "markdown",
   "metadata": {},
   "source": [
    "**Question:** How does this model compare to the XGBoost model you created earlier? Why might these two models perform differently on this dataset? Which do *you* think is better for sentiment analysis?"
   ]
  },
  {
   "cell_type": "markdown",
   "metadata": {},
   "source": [
    "**Answer:** Scores of both models are almost similar. This is because dataset we used is quite small (25000). We may get better performance of RNN with more data. Adding hyperparameter tuning step to the RNN may also improve performance of the model. Further adding a pretrained embedding such as Glove/Word2Vec might further improve the performance of the model. "
   ]
  },
  {
   "cell_type": "markdown",
   "metadata": {},
   "source": [
    "### (TODO) More testing\n",
    "\n",
    "We now have a trained model which has been deployed and which we can send processed reviews to and which returns the predicted sentiment. However, ultimately we would like to be able to send our model an unprocessed review. That is, we would like to send the review itself as a string. For example, suppose we wish to send the following review to our model."
   ]
  },
  {
   "cell_type": "code",
   "execution_count": 35,
   "metadata": {},
   "outputs": [],
   "source": [
    "test_review = 'The simplest pleasures in life are the best, and this film is one of them. Combining a rather basic storyline of love and adventure this movie transcends the usual weekend fair with wit and unmitigated charm.'"
   ]
  },
  {
   "cell_type": "markdown",
   "metadata": {},
   "source": [
    "The question we now need to answer is, how do we send this review to our model?\n",
    "\n",
    "Recall in the first section of this notebook we did a bunch of data processing to the IMDb dataset. In particular, we did two specific things to the provided reviews.\n",
    " - Removed any html tags and stemmed the input\n",
    " - Encoded the review as a sequence of integers using `word_dict`\n",
    " \n",
    "In order process the review we will need to repeat these two steps.\n",
    "\n",
    "**TODO**: Using the `review_to_words` and `convert_and_pad` methods from section one, convert `test_review` into a numpy array `test_data` suitable to send to our model. Remember that our model expects input of the form `review_length, review[500]`."
   ]
  },
  {
   "cell_type": "code",
   "execution_count": 36,
   "metadata": {},
   "outputs": [],
   "source": [
    "# TODO: Convert test_review into a form usable by the model and save the results in test_data\n",
    "test_review_words = review_to_words(test_review)     # splits reviews to words\n",
    "review_X, review_len = convert_and_pad(word_dict, test_review_words)   # pad review\n",
    "\n",
    "data_pack = np.hstack((review_len, review_X))\n",
    "data_pack = data_pack.reshape(1, -1)\n",
    "\n",
    "test_data = torch.from_numpy(data_pack)\n",
    "test_data = test_data.to(device)"
   ]
  },
  {
   "cell_type": "markdown",
   "metadata": {},
   "source": [
    "Now that we have processed the review, we can send the resulting array to our model to predict the sentiment of the review."
   ]
  },
  {
   "cell_type": "code",
   "execution_count": 37,
   "metadata": {},
   "outputs": [
    {
     "data": {
      "text/plain": [
       "array(0.908939, dtype=float32)"
      ]
     },
     "execution_count": 37,
     "metadata": {},
     "output_type": "execute_result"
    }
   ],
   "source": [
    "predictor.predict(test_data)"
   ]
  },
  {
   "cell_type": "markdown",
   "metadata": {},
   "source": [
    "Since the return value of our model is close to `1`, we can be certain that the review we submitted is positive."
   ]
  },
  {
   "cell_type": "markdown",
   "metadata": {},
   "source": [
    "### Delete the endpoint\n",
    "\n",
    "Of course, just like in the XGBoost notebook, once we've deployed an endpoint it continues to run until we tell it to shut down. Since we are done using our endpoint for now, we can delete it."
   ]
  },
  {
   "cell_type": "code",
   "execution_count": 38,
   "metadata": {},
   "outputs": [
    {
     "name": "stderr",
     "output_type": "stream",
     "text": [
      "estimator.delete_endpoint() will be deprecated in SageMaker Python SDK v2. Please use the delete_endpoint() function on your predictor instead.\n"
     ]
    }
   ],
   "source": [
    "estimator.delete_endpoint()"
   ]
  },
  {
   "cell_type": "markdown",
   "metadata": {},
   "source": [
    "## Step 6 (again) - Deploy the model for the web app\n",
    "\n",
    "Now that we know that our model is working, it's time to create some custom inference code so that we can send the model a review which has not been processed and have it determine the sentiment of the review.\n",
    "\n",
    "As we saw above, by default the estimator which we created, when deployed, will use the entry script and directory which we provided when creating the model. However, since we now wish to accept a string as input and our model expects a processed review, we need to write some custom inference code.\n",
    "\n",
    "We will store the code that we write in the `serve` directory. Provided in this directory is the `model.py` file that we used to construct our model, a `utils.py` file which contains the `review_to_words` and `convert_and_pad` pre-processing functions which we used during the initial data processing, and `predict.py`, the file which will contain our custom inference code. Note also that `requirements.txt` is present which will tell SageMaker what Python libraries are required by our custom inference code.\n",
    "\n",
    "When deploying a PyTorch model in SageMaker, you are expected to provide four functions which the SageMaker inference container will use.\n",
    " - `model_fn`: This function is the same function that we used in the training script and it tells SageMaker how to load our model.\n",
    " - `input_fn`: This function receives the raw serialized input that has been sent to the model's endpoint and its job is to de-serialize and make the input available for the inference code.\n",
    " - `output_fn`: This function takes the output of the inference code and its job is to serialize this output and return it to the caller of the model's endpoint.\n",
    " - `predict_fn`: The heart of the inference script, this is where the actual prediction is done and is the function which you will need to complete.\n",
    "\n",
    "For the simple website that we are constructing during this project, the `input_fn` and `output_fn` methods are relatively straightforward. We only require being able to accept a string as input and we expect to return a single value as output. You might imagine though that in a more complex application the input or output may be image data or some other binary data which would require some effort to serialize.\n",
    "\n",
    "### (TODO) Writing inference code\n",
    "\n",
    "Before writing our custom inference code, we will begin by taking a look at the code which has been provided."
   ]
  },
  {
   "cell_type": "code",
   "execution_count": 46,
   "metadata": {},
   "outputs": [
    {
     "name": "stdout",
     "output_type": "stream",
     "text": [
      "\u001b[34mimport\u001b[39;49;00m \u001b[04m\u001b[36margparse\u001b[39;49;00m\n",
      "\u001b[34mimport\u001b[39;49;00m \u001b[04m\u001b[36mjson\u001b[39;49;00m\n",
      "\u001b[34mimport\u001b[39;49;00m \u001b[04m\u001b[36mos\u001b[39;49;00m\n",
      "\u001b[34mimport\u001b[39;49;00m \u001b[04m\u001b[36mpickle\u001b[39;49;00m\n",
      "\u001b[34mimport\u001b[39;49;00m \u001b[04m\u001b[36msys\u001b[39;49;00m\n",
      "\u001b[34mimport\u001b[39;49;00m \u001b[04m\u001b[36msagemaker_containers\u001b[39;49;00m\n",
      "\u001b[34mimport\u001b[39;49;00m \u001b[04m\u001b[36mpandas\u001b[39;49;00m \u001b[34mas\u001b[39;49;00m \u001b[04m\u001b[36mpd\u001b[39;49;00m\n",
      "\u001b[34mimport\u001b[39;49;00m \u001b[04m\u001b[36mnumpy\u001b[39;49;00m \u001b[34mas\u001b[39;49;00m \u001b[04m\u001b[36mnp\u001b[39;49;00m\n",
      "\u001b[34mimport\u001b[39;49;00m \u001b[04m\u001b[36mtorch\u001b[39;49;00m\n",
      "\u001b[34mimport\u001b[39;49;00m \u001b[04m\u001b[36mtorch\u001b[39;49;00m\u001b[04m\u001b[36m.\u001b[39;49;00m\u001b[04m\u001b[36mnn\u001b[39;49;00m \u001b[34mas\u001b[39;49;00m \u001b[04m\u001b[36mnn\u001b[39;49;00m\n",
      "\u001b[34mimport\u001b[39;49;00m \u001b[04m\u001b[36mtorch\u001b[39;49;00m\u001b[04m\u001b[36m.\u001b[39;49;00m\u001b[04m\u001b[36moptim\u001b[39;49;00m \u001b[34mas\u001b[39;49;00m \u001b[04m\u001b[36moptim\u001b[39;49;00m\n",
      "\u001b[34mimport\u001b[39;49;00m \u001b[04m\u001b[36mtorch\u001b[39;49;00m\u001b[04m\u001b[36m.\u001b[39;49;00m\u001b[04m\u001b[36mutils\u001b[39;49;00m\u001b[04m\u001b[36m.\u001b[39;49;00m\u001b[04m\u001b[36mdata\u001b[39;49;00m\n",
      "\n",
      "\u001b[34mfrom\u001b[39;49;00m \u001b[04m\u001b[36mmodel\u001b[39;49;00m \u001b[34mimport\u001b[39;49;00m LSTMClassifier\n",
      "\n",
      "\u001b[34mfrom\u001b[39;49;00m \u001b[04m\u001b[36mutils\u001b[39;49;00m \u001b[34mimport\u001b[39;49;00m review_to_words, convert_and_pad\n",
      "\n",
      "\u001b[34mdef\u001b[39;49;00m \u001b[32mmodel_fn\u001b[39;49;00m(model_dir):\n",
      "    \u001b[33m\"\"\"Load the PyTorch model from the `model_dir` directory.\"\"\"\u001b[39;49;00m\n",
      "    \u001b[36mprint\u001b[39;49;00m(\u001b[33m\"\u001b[39;49;00m\u001b[33mLoading model.\u001b[39;49;00m\u001b[33m\"\u001b[39;49;00m)\n",
      "\n",
      "    \u001b[37m# First, load the parameters used to create the model.\u001b[39;49;00m\n",
      "    model_info = {}\n",
      "    model_info_path = os.path.join(model_dir, \u001b[33m'\u001b[39;49;00m\u001b[33mmodel_info.pth\u001b[39;49;00m\u001b[33m'\u001b[39;49;00m)\n",
      "    \u001b[34mwith\u001b[39;49;00m \u001b[36mopen\u001b[39;49;00m(model_info_path, \u001b[33m'\u001b[39;49;00m\u001b[33mrb\u001b[39;49;00m\u001b[33m'\u001b[39;49;00m) \u001b[34mas\u001b[39;49;00m f:\n",
      "        model_info = torch.load(f)\n",
      "\n",
      "    \u001b[36mprint\u001b[39;49;00m(\u001b[33m\"\u001b[39;49;00m\u001b[33mmodel_info: \u001b[39;49;00m\u001b[33m{}\u001b[39;49;00m\u001b[33m\"\u001b[39;49;00m.format(model_info))\n",
      "\n",
      "    \u001b[37m# Determine the device and construct the model.\u001b[39;49;00m\n",
      "    device = torch.device(\u001b[33m\"\u001b[39;49;00m\u001b[33mcuda\u001b[39;49;00m\u001b[33m\"\u001b[39;49;00m \u001b[34mif\u001b[39;49;00m torch.cuda.is_available() \u001b[34melse\u001b[39;49;00m \u001b[33m\"\u001b[39;49;00m\u001b[33mcpu\u001b[39;49;00m\u001b[33m\"\u001b[39;49;00m)\n",
      "    model = LSTMClassifier(model_info[\u001b[33m'\u001b[39;49;00m\u001b[33membedding_dim\u001b[39;49;00m\u001b[33m'\u001b[39;49;00m], model_info[\u001b[33m'\u001b[39;49;00m\u001b[33mhidden_dim\u001b[39;49;00m\u001b[33m'\u001b[39;49;00m], model_info[\u001b[33m'\u001b[39;49;00m\u001b[33mvocab_size\u001b[39;49;00m\u001b[33m'\u001b[39;49;00m])\n",
      "\n",
      "    \u001b[37m# Load the store model parameters.\u001b[39;49;00m\n",
      "    model_path = os.path.join(model_dir, \u001b[33m'\u001b[39;49;00m\u001b[33mmodel.pth\u001b[39;49;00m\u001b[33m'\u001b[39;49;00m)\n",
      "    \u001b[34mwith\u001b[39;49;00m \u001b[36mopen\u001b[39;49;00m(model_path, \u001b[33m'\u001b[39;49;00m\u001b[33mrb\u001b[39;49;00m\u001b[33m'\u001b[39;49;00m) \u001b[34mas\u001b[39;49;00m f:\n",
      "        model.load_state_dict(torch.load(f))\n",
      "\n",
      "    \u001b[37m# Load the saved word_dict.\u001b[39;49;00m\n",
      "    word_dict_path = os.path.join(model_dir, \u001b[33m'\u001b[39;49;00m\u001b[33mword_dict.pkl\u001b[39;49;00m\u001b[33m'\u001b[39;49;00m)\n",
      "    \u001b[34mwith\u001b[39;49;00m \u001b[36mopen\u001b[39;49;00m(word_dict_path, \u001b[33m'\u001b[39;49;00m\u001b[33mrb\u001b[39;49;00m\u001b[33m'\u001b[39;49;00m) \u001b[34mas\u001b[39;49;00m f:\n",
      "        model.word_dict = pickle.load(f)\n",
      "\n",
      "    model.to(device).eval()\n",
      "\n",
      "    \u001b[36mprint\u001b[39;49;00m(\u001b[33m\"\u001b[39;49;00m\u001b[33mDone loading model.\u001b[39;49;00m\u001b[33m\"\u001b[39;49;00m)\n",
      "    \u001b[34mreturn\u001b[39;49;00m model\n",
      "\n",
      "\u001b[34mdef\u001b[39;49;00m \u001b[32minput_fn\u001b[39;49;00m(serialized_input_data, content_type):\n",
      "    \u001b[36mprint\u001b[39;49;00m(\u001b[33m'\u001b[39;49;00m\u001b[33mDeserializing the input data.\u001b[39;49;00m\u001b[33m'\u001b[39;49;00m)\n",
      "    \u001b[34mif\u001b[39;49;00m content_type == \u001b[33m'\u001b[39;49;00m\u001b[33mtext/plain\u001b[39;49;00m\u001b[33m'\u001b[39;49;00m:\n",
      "        data = serialized_input_data.decode(\u001b[33m'\u001b[39;49;00m\u001b[33mutf-8\u001b[39;49;00m\u001b[33m'\u001b[39;49;00m)\n",
      "        \u001b[34mreturn\u001b[39;49;00m data\n",
      "    \u001b[34mraise\u001b[39;49;00m \u001b[36mException\u001b[39;49;00m(\u001b[33m'\u001b[39;49;00m\u001b[33mRequested unsupported ContentType in content_type: \u001b[39;49;00m\u001b[33m'\u001b[39;49;00m + content_type)\n",
      "\n",
      "\u001b[34mdef\u001b[39;49;00m \u001b[32moutput_fn\u001b[39;49;00m(prediction_output, accept):\n",
      "    \u001b[36mprint\u001b[39;49;00m(\u001b[33m'\u001b[39;49;00m\u001b[33mSerializing the generated output.\u001b[39;49;00m\u001b[33m'\u001b[39;49;00m)\n",
      "    \u001b[34mreturn\u001b[39;49;00m \u001b[36mstr\u001b[39;49;00m(prediction_output)\n",
      "\n",
      "\u001b[34mdef\u001b[39;49;00m \u001b[32mpredict_fn\u001b[39;49;00m(input_data, model):\n",
      "    \u001b[36mprint\u001b[39;49;00m(\u001b[33m'\u001b[39;49;00m\u001b[33mInferring sentiment of input data.\u001b[39;49;00m\u001b[33m'\u001b[39;49;00m)\n",
      "\n",
      "    device = torch.device(\u001b[33m\"\u001b[39;49;00m\u001b[33mcuda\u001b[39;49;00m\u001b[33m\"\u001b[39;49;00m \u001b[34mif\u001b[39;49;00m torch.cuda.is_available() \u001b[34melse\u001b[39;49;00m \u001b[33m\"\u001b[39;49;00m\u001b[33mcpu\u001b[39;49;00m\u001b[33m\"\u001b[39;49;00m)\n",
      "    \n",
      "    \u001b[34mif\u001b[39;49;00m model.word_dict \u001b[35mis\u001b[39;49;00m \u001b[34mNone\u001b[39;49;00m:\n",
      "        \u001b[34mraise\u001b[39;49;00m \u001b[36mException\u001b[39;49;00m(\u001b[33m'\u001b[39;49;00m\u001b[33mModel has not been loaded properly, no word_dict.\u001b[39;49;00m\u001b[33m'\u001b[39;49;00m)\n",
      "    \n",
      "    \u001b[37m# TODO: Process input_data so that it is ready to be sent to our model.\u001b[39;49;00m\n",
      "    \u001b[37m#       You should produce two variables:\u001b[39;49;00m\n",
      "    \u001b[37m#         data_X   - A sequence of length 500 which represents the converted review\u001b[39;49;00m\n",
      "    \u001b[37m#         data_len - The length of the review\u001b[39;49;00m\n",
      "\n",
      "    data_X, data_len = convert_and_pad(model.word_dict ,review_to_words(input_data))\n",
      "\n",
      "    \u001b[37m# Using data_X and data_len we construct an appropriate input tensor. Remember\u001b[39;49;00m\n",
      "    \u001b[37m# that our model expects input data of the form 'len, review[500]'.\u001b[39;49;00m\n",
      "    data_pack = np.hstack((data_len, data_X))\n",
      "    data_pack = data_pack.reshape(\u001b[34m1\u001b[39;49;00m, -\u001b[34m1\u001b[39;49;00m)\n",
      "    \n",
      "    data = torch.from_numpy(data_pack)\n",
      "    data = data.to(device)\n",
      "\n",
      "    \u001b[37m# Make sure to put the model into evaluation mode\u001b[39;49;00m\n",
      "    model.eval()\n",
      "\n",
      "    \u001b[37m# TODO: Compute the result of applying the model to the input data. The variable `result` should\u001b[39;49;00m\n",
      "    \u001b[37m#       be a numpy array which contains a single integer which is either 1 or 0\u001b[39;49;00m\n",
      "\n",
      "    result = np.round(model(data).detach().cpu().numpy()).astype(np.int)\n",
      "\n",
      "    \u001b[34mreturn\u001b[39;49;00m result\n"
     ]
    }
   ],
   "source": [
    "!pygmentize serve/predict.py"
   ]
  },
  {
   "cell_type": "markdown",
   "metadata": {},
   "source": [
    "As mentioned earlier, the `model_fn` method is the same as the one provided in the training code and the `input_fn` and `output_fn` methods are very simple and your task will be to complete the `predict_fn` method. Make sure that you save the completed file as `predict.py` in the `serve` directory.\n",
    "\n",
    "**TODO**: Complete the `predict_fn()` method in the `serve/predict.py` file."
   ]
  },
  {
   "cell_type": "markdown",
   "metadata": {},
   "source": [
    "### Deploying the model\n",
    "\n",
    "Now that the custom inference code has been written, we will create and deploy our model. To begin with, we need to construct a new PyTorchModel object which points to the model artifacts created during training and also points to the inference code that we wish to use. Then we can call the deploy method to launch the deployment container.\n",
    "\n",
    "**NOTE**: The default behaviour for a deployed PyTorch model is to assume that any input passed to the predictor is a `numpy` array. In our case we want to send a string so we need to construct a simple wrapper around the `RealTimePredictor` class to accomodate simple strings. In a more complicated situation you may want to provide a serialization object, for example if you wanted to sent image data."
   ]
  },
  {
   "cell_type": "code",
   "execution_count": 47,
   "metadata": {},
   "outputs": [
    {
     "name": "stderr",
     "output_type": "stream",
     "text": [
      "Parameter image will be renamed to image_uri in SageMaker Python SDK v2.\n",
      "'create_image_uri' will be deprecated in favor of 'ImageURIProvider' class in SageMaker Python SDK v2.\n"
     ]
    },
    {
     "name": "stdout",
     "output_type": "stream",
     "text": [
      "---------------!"
     ]
    }
   ],
   "source": [
    "from sagemaker.predictor import RealTimePredictor\n",
    "from sagemaker.pytorch import PyTorchModel\n",
    "\n",
    "class StringPredictor(RealTimePredictor):\n",
    "    def __init__(self, endpoint_name, sagemaker_session):\n",
    "        super(StringPredictor, self).__init__(endpoint_name, sagemaker_session, content_type='text/plain')\n",
    "\n",
    "model = PyTorchModel(model_data=estimator.model_data,\n",
    "                     role = role,\n",
    "                     framework_version='0.4.0',\n",
    "                     entry_point='predict.py',\n",
    "                     source_dir='serve',\n",
    "                     predictor_cls=StringPredictor)\n",
    "predictor = model.deploy(initial_instance_count=1, instance_type='ml.m4.xlarge')"
   ]
  },
  {
   "cell_type": "markdown",
   "metadata": {},
   "source": [
    "### Testing the model\n",
    "\n",
    "Now that we have deployed our model with the custom inference code, we should test to see if everything is working. Here we test our model by loading the first `250` positive and negative reviews and send them to the endpoint, then collect the results. The reason for only sending some of the data is that the amount of time it takes for our model to process the input and then perform inference is quite long and so testing the entire data set would be prohibitive."
   ]
  },
  {
   "cell_type": "code",
   "execution_count": 48,
   "metadata": {},
   "outputs": [],
   "source": [
    "import glob\n",
    "\n",
    "def test_reviews(data_dir='../data/aclImdb', stop=250):\n",
    "    \n",
    "    results = []\n",
    "    ground = []\n",
    "    \n",
    "    # We make sure to test both positive and negative reviews    \n",
    "    for sentiment in ['pos', 'neg']:\n",
    "        \n",
    "        path = os.path.join(data_dir, 'test', sentiment, '*.txt')\n",
    "        files = glob.glob(path)\n",
    "        \n",
    "        files_read = 0\n",
    "        \n",
    "        print('Starting ', sentiment, ' files')\n",
    "        \n",
    "        # Iterate through the files and send them to the predictor\n",
    "        for f in files:\n",
    "            with open(f) as review:\n",
    "                # First, we store the ground truth (was the review positive or negative)\n",
    "                if sentiment == 'pos':\n",
    "                    ground.append(1)\n",
    "                else:\n",
    "                    ground.append(0)\n",
    "                # Read in the review and convert to 'utf-8' for transmission via HTTP\n",
    "                review_input = review.read().encode('utf-8')\n",
    "                # Send the review to the predictor and store the results\n",
    "                results.append(float(predictor.predict(review_input)))\n",
    "                \n",
    "            # Sending reviews to our endpoint one at a time takes a while so we\n",
    "            # only send a small number of reviews\n",
    "            files_read += 1\n",
    "            if files_read == stop:\n",
    "                break\n",
    "            \n",
    "    return ground, results"
   ]
  },
  {
   "cell_type": "code",
   "execution_count": 49,
   "metadata": {},
   "outputs": [
    {
     "name": "stdout",
     "output_type": "stream",
     "text": [
      "Starting  pos  files\n",
      "Starting  neg  files\n"
     ]
    }
   ],
   "source": [
    "ground, results = test_reviews()"
   ]
  },
  {
   "cell_type": "code",
   "execution_count": 50,
   "metadata": {},
   "outputs": [
    {
     "data": {
      "text/plain": [
       "0.846"
      ]
     },
     "execution_count": 50,
     "metadata": {},
     "output_type": "execute_result"
    }
   ],
   "source": [
    "from sklearn.metrics import accuracy_score\n",
    "accuracy_score(ground, results)"
   ]
  },
  {
   "cell_type": "markdown",
   "metadata": {},
   "source": [
    "As an additional test, we can try sending the `test_review` that we looked at earlier."
   ]
  },
  {
   "cell_type": "code",
   "execution_count": 51,
   "metadata": {},
   "outputs": [
    {
     "data": {
      "text/plain": [
       "b'1'"
      ]
     },
     "execution_count": 51,
     "metadata": {},
     "output_type": "execute_result"
    }
   ],
   "source": [
    "predictor.predict(test_review)"
   ]
  },
  {
   "cell_type": "markdown",
   "metadata": {},
   "source": [
    "Now that we know our endpoint is working as expected, we can set up the web page that will interact with it. If you don't have time to finish the project now, make sure to skip down to the end of this notebook and shut down your endpoint. You can deploy it again when you come back."
   ]
  },
  {
   "cell_type": "markdown",
   "metadata": {},
   "source": [
    "## Step 7 (again): Use the model for the web app\n",
    "\n",
    "> **TODO:** This entire section and the next contain tasks for you to complete, mostly using the AWS console.\n",
    "\n",
    "So far we have been accessing our model endpoint by constructing a predictor object which uses the endpoint and then just using the predictor object to perform inference. What if we wanted to create a web app which accessed our model? The way things are set up currently makes that not possible since in order to access a SageMaker endpoint the app would first have to authenticate with AWS using an IAM role which included access to SageMaker endpoints. However, there is an easier way! We just need to use some additional AWS services.\n",
    "\n",
    "<img src=\"Web App Diagram.svg\">\n",
    "\n",
    "The diagram above gives an overview of how the various services will work together. On the far right is the model which we trained above and which is deployed using SageMaker. On the far left is our web app that collects a user's movie review, sends it off and expects a positive or negative sentiment in return.\n",
    "\n",
    "In the middle is where some of the magic happens. We will construct a Lambda function, which you can think of as a straightforward Python function that can be executed whenever a specified event occurs. We will give this function permission to send and recieve data from a SageMaker endpoint.\n",
    "\n",
    "Lastly, the method we will use to execute the Lambda function is a new endpoint that we will create using API Gateway. This endpoint will be a url that listens for data to be sent to it. Once it gets some data it will pass that data on to the Lambda function and then return whatever the Lambda function returns. Essentially it will act as an interface that lets our web app communicate with the Lambda function.\n",
    "\n",
    "### Setting up a Lambda function\n",
    "\n",
    "The first thing we are going to do is set up a Lambda function. This Lambda function will be executed whenever our public API has data sent to it. When it is executed it will receive the data, perform any sort of processing that is required, send the data (the review) to the SageMaker endpoint we've created and then return the result.\n",
    "\n",
    "#### Part A: Create an IAM Role for the Lambda function\n",
    "\n",
    "Since we want the Lambda function to call a SageMaker endpoint, we need to make sure that it has permission to do so. To do this, we will construct a role that we can later give the Lambda function.\n",
    "\n",
    "Using the AWS Console, navigate to the **IAM** page and click on **Roles**. Then, click on **Create role**. Make sure that the **AWS service** is the type of trusted entity selected and choose **Lambda** as the service that will use this role, then click **Next: Permissions**.\n",
    "\n",
    "In the search box type `sagemaker` and select the check box next to the **AmazonSageMakerFullAccess** policy. Then, click on **Next: Review**.\n",
    "\n",
    "Lastly, give this role a name. Make sure you use a name that you will remember later on, for example `LambdaSageMakerRole`. Then, click on **Create role**.\n",
    "\n",
    "#### Part B: Create a Lambda function\n",
    "\n",
    "Now it is time to actually create the Lambda function.\n",
    "\n",
    "Using the AWS Console, navigate to the AWS Lambda page and click on **Create a function**. When you get to the next page, make sure that **Author from scratch** is selected. Now, name your Lambda function, using a name that you will remember later on, for example `sentiment_analysis_func`. Make sure that the **Python 3.6** runtime is selected and then choose the role that you created in the previous part. Then, click on **Create Function**.\n",
    "\n",
    "On the next page you will see some information about the Lambda function you've just created. If you scroll down you should see an editor in which you can write the code that will be executed when your Lambda function is triggered. In our example, we will use the code below. \n",
    "\n",
    "```python\n",
    "# We need to use the low-level library to interact with SageMaker since the SageMaker API\n",
    "# is not available natively through Lambda.\n",
    "import boto3\n",
    "\n",
    "def lambda_handler(event, context):\n",
    "\n",
    "    # The SageMaker runtime is what allows us to invoke the endpoint that we've created.\n",
    "    runtime = boto3.Session().client('sagemaker-runtime')\n",
    "\n",
    "    # Now we use the SageMaker runtime to invoke our endpoint, sending the review we were given\n",
    "    response = runtime.invoke_endpoint(EndpointName = '**ENDPOINT NAME HERE**',    # The name of the endpoint we created\n",
    "                                       ContentType = 'text/plain',                 # The data format that is expected\n",
    "                                       Body = event['body'])                       # The actual review\n",
    "\n",
    "    # The response is an HTTP response whose body contains the result of our inference\n",
    "    result = response['Body'].read().decode('utf-8')\n",
    "\n",
    "    return {\n",
    "        'statusCode' : 200,\n",
    "        'headers' : { 'Content-Type' : 'text/plain', 'Access-Control-Allow-Origin' : '*' },\n",
    "        'body' : result\n",
    "    }\n",
    "```\n",
    "\n",
    "Once you have copy and pasted the code above into the Lambda code editor, replace the `**ENDPOINT NAME HERE**` portion with the name of the endpoint that we deployed earlier. You can determine the name of the endpoint using the code cell below."
   ]
  },
  {
   "cell_type": "code",
   "execution_count": 52,
   "metadata": {},
   "outputs": [
    {
     "data": {
      "text/plain": [
       "'sagemaker-pytorch-2020-12-28-08-50-52-804'"
      ]
     },
     "execution_count": 52,
     "metadata": {},
     "output_type": "execute_result"
    }
   ],
   "source": [
    "predictor.endpoint"
   ]
  },
  {
   "cell_type": "markdown",
   "metadata": {},
   "source": [
    "Once you have added the endpoint name to the Lambda function, click on **Save**. Your Lambda function is now up and running. Next we need to create a way for our web app to execute the Lambda function.\n",
    "\n",
    "### Setting up API Gateway\n",
    "\n",
    "Now that our Lambda function is set up, it is time to create a new API using API Gateway that will trigger the Lambda function we have just created.\n",
    "\n",
    "Using AWS Console, navigate to **Amazon API Gateway** and then click on **Get started**.\n",
    "\n",
    "On the next page, make sure that **New API** is selected and give the new api a name, for example, `sentiment_analysis_api`. Then, click on **Create API**.\n",
    "\n",
    "Now we have created an API, however it doesn't currently do anything. What we want it to do is to trigger the Lambda function that we created earlier.\n",
    "\n",
    "Select the **Actions** dropdown menu and click **Create Method**. A new blank method will be created, select its dropdown menu and select **POST**, then click on the check mark beside it.\n",
    "\n",
    "For the integration point, make sure that **Lambda Function** is selected and click on the **Use Lambda Proxy integration**. This option makes sure that the data that is sent to the API is then sent directly to the Lambda function with no processing. It also means that the return value must be a proper response object as it will also not be processed by API Gateway.\n",
    "\n",
    "Type the name of the Lambda function you created earlier into the **Lambda Function** text entry box and then click on **Save**. Click on **OK** in the pop-up box that then appears, giving permission to API Gateway to invoke the Lambda function you created.\n",
    "\n",
    "The last step in creating the API Gateway is to select the **Actions** dropdown and click on **Deploy API**. You will need to create a new Deployment stage and name it anything you like, for example `prod`.\n",
    "\n",
    "You have now successfully set up a public API to access your SageMaker model. Make sure to copy or write down the URL provided to invoke your newly created public API as this will be needed in the next step. This URL can be found at the top of the page, highlighted in blue next to the text **Invoke URL**."
   ]
  },
  {
   "cell_type": "markdown",
   "metadata": {},
   "source": [
    "## Step 4: Deploying our web app\n",
    "\n",
    "Now that we have a publicly available API, we can start using it in a web app. For our purposes, we have provided a simple static html file which can make use of the public api you created earlier.\n",
    "\n",
    "In the `website` folder there should be a file called `index.html`. Download the file to your computer and open that file up in a text editor of your choice. There should be a line which contains **\\*\\*REPLACE WITH PUBLIC API URL\\*\\***. Replace this string with the url that you wrote down in the last step and then save the file.\n",
    "\n",
    "Now, if you open `index.html` on your local computer, your browser will behave as a local web server and you can use the provided site to interact with your SageMaker model.\n",
    "\n",
    "If you'd like to go further, you can host this html file anywhere you'd like, for example using github or hosting a static site on Amazon's S3. Once you have done this you can share the link with anyone you'd like and have them play with it too!\n",
    "\n",
    "> **Important Note** In order for the web app to communicate with the SageMaker endpoint, the endpoint has to actually be deployed and running. This means that you are paying for it. Make sure that the endpoint is running when you want to use the web app but that you shut it down when you don't need it, otherwise you will end up with a surprisingly large AWS bill.\n",
    "\n",
    "**TODO:** Make sure that you include the edited `index.html` file in your project submission."
   ]
  },
  {
   "cell_type": "markdown",
   "metadata": {},
   "source": [
    "Now that your web app is working, trying playing around with it and see how well it works.\n",
    "\n",
    "**Question**: Give an example of a review that you entered into your web app. What was the predicted sentiment of your example review?"
   ]
  },
  {
   "cell_type": "markdown",
   "metadata": {},
   "source": [
    "**Answer:** I wrote the following review: The movie was terrible and the characters weren't that good. I got the result as Negative.   \n",
    "I love this movie. I got the result as positive."
   ]
  },
  {
   "cell_type": "markdown",
   "metadata": {},
   "source": [
    "### Delete the endpoint\n",
    "\n",
    "Remember to always shut down your endpoint if you are no longer using it. You are charged for the length of time that the endpoint is running so if you forget and leave it on you could end up with an unexpectedly large bill."
   ]
  },
  {
   "cell_type": "code",
   "execution_count": 53,
   "metadata": {},
   "outputs": [],
   "source": [
    "predictor.delete_endpoint()"
   ]
  },
  {
   "cell_type": "markdown",
   "metadata": {},
   "source": [
    "![<caption>](positive.png)"
   ]
  },
  {
   "cell_type": "markdown",
   "metadata": {},
   "source": [
    "![<caption>](negative.png)"
   ]
  },
  {
   "cell_type": "code",
   "execution_count": null,
   "metadata": {},
   "outputs": [],
   "source": []
  }
 ],
 "metadata": {
  "kernelspec": {
   "display_name": "Python 3",
   "language": "python",
   "name": "python3"
  },
  "language_info": {
   "codemirror_mode": {
    "name": "ipython",
    "version": 3
   },
   "file_extension": ".py",
   "mimetype": "text/x-python",
   "name": "python",
   "nbconvert_exporter": "python",
   "pygments_lexer": "ipython3",
   "version": "3.7.6"
  }
 },
 "nbformat": 4,
 "nbformat_minor": 4
}
